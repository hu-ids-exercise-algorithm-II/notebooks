{
 "cells": [
  {
   "cell_type": "markdown",
   "metadata": {
    "id": "iAgWpkVC3KVm"
   },
   "source": [
    "# 情報科学演習II アルゴリズムとデータ構造II 第3週 1冊目\n",
    "\n",
    "情報科学演習IIの前半3週間はアルゴリズムとデータ構造IIのテーマです．\n",
    "このテーマで使うプログラミング言語はPythonです．\n",
    "\n",
    "アルゴリズムとデータ構造IIの第3週のノートブックはこの1冊です．\n",
    "ダイクストラのアルゴリズムの複数の実装の実行時間を比べてください．\n",
    "\n",
    "\n",
    "#### 第3週目次\n",
    "\n",
    "1. 先週の実装を用意する\n",
    "2. 三つの実装の実行時間を比べる\n",
    "3. 両対数グラフを知る"
   ]
  },
  {
   "cell_type": "markdown",
   "metadata": {},
   "source": [
    "## 1. 先週の実装を用意する\n",
    "\n",
    "実行時間を比べる実装は次の3つです．\n",
    "- 先週の`FirstImplementation`クラス\n",
    "- 先週の`SecondImplementation`クラス（できていない人はなくてよい）\n",
    "- networkxの[single_source_dijkstra_path_length](https://networkx.org/documentation/stable/reference/algorithms/generated/networkx.algorithms.shortest_paths.weighted.single_source_dijkstra_path_length.html)関数\n",
    "\n",
    "このノートブックに，先週ダイクストラのアルゴリズムを実装した`FirstImplementation`クラスと`SecondImplementation`クラスをこのノートブックの以下の二つのコードセルにコピーして実行できるようにします．\n",
    "\n",
    "次の3つのセルは準備ですので，実行してください．\n",
    "最後ののセルで必要なモジュールを`import`し，いくつかの関数を定義しておきます．"
   ]
  },
  {
   "cell_type": "code",
   "execution_count": null,
   "metadata": {},
   "outputs": [],
   "source": [
    "!apt install libgraphviz-dev\n",
    "!pip install pygraphviz\n",
    "# 最終行は Successfully installed pygraphviz-x.xx\n",
    "# x.xxの部分は1.13などのバージョン番号"
   ]
  },
  {
   "cell_type": "code",
   "execution_count": null,
   "metadata": {},
   "outputs": [],
   "source": [
    "# グラフの準備\n",
    "!git clone https://github.com/hu-ids-exercise-algorithm-II/graphs.git"
   ]
  },
  {
   "cell_type": "code",
   "execution_count": null,
   "metadata": {},
   "outputs": [],
   "source": [
    "# 準備\n",
    "import networkx as nx\n",
    "import matplotlib.pyplot as plt\n",
    "import math\n",
    "import pygraphviz as pgv\n",
    "from IPython.display import SVG, display_svg\n",
    "from test import support # sortdict関数\n",
    "import time\n",
    "\n",
    "log = False # log = Trueにすると途中経過が出力される\n",
    "\n",
    "def print_graph(G): # GはnetworkxのGraphクラス (networkx.classes.graph.Graphクラス)\n",
    "  print('print_graph:')\n",
    "  print(\"  nodes\", list(G.nodes))\n",
    "  # print('  edges', list(G.edges))\n",
    "  print('  edges', list(G.edges.data())) # 辺の重みも出力\n",
    "\n",
    "def draw_graph(G, filename = 'tmp'):\n",
    "  if G.order() > 100:\n",
    "    print(F'draw_graph: canceled for too much nodes ({G.order()} > 100)')\n",
    "    return\n",
    "  A = nx.nx_agraph.to_agraph(G)\n",
    "  for edge in G.edges(data=\"weight\"):\n",
    "    u, v, d = edge\n",
    "    A.get_edge(u, v).attr['label'] = d\n",
    "\n",
    "  A.layout(args='-Nshape=circle')  # default prog='neato' \n",
    "  A.draw(F'{filename}.svg')\n",
    "  display_svg(SVG(F'{filename}.svg'))\n",
    "\n",
    "def sample_graph1():\n",
    "  G = nx.Graph() # 無向グラフ\n",
    "  for i,j,w in [[0, 1, 5], [0, 4, 9], [0, 7, 8], [1, 2, 12], [1, 3, 15], \n",
    "                [1, 7, 4], [2, 3, 3], [2, 6, 11], [3, 6, 9], [4, 5, 4], \n",
    "                [4, 7, 5], [5, 2, 1], [5, 6, 13], [7, 2, 7], [7, 5, 6]]:\n",
    "    G.add_edge(i, j, weight=w) # weightはnetworkx, labelはgraphviz\n",
    "  w = nx.get_edge_attributes(G, 'weight')\n",
    "  print('edge weight', w)\n",
    "  return G\n",
    "\n",
    "G1 = sample_graph1()\n",
    "w1 = nx.get_edge_attributes(G1, 'weight')\n",
    "answer_d1 = {0: 0, 1: 5, 2: 14, 3: 17, 4: 9, 5: 13, 6: 25, 7: 8}"
   ]
  },
  {
   "cell_type": "markdown",
   "metadata": {
    "id": "CFf_w1bm5i9P"
   },
   "source": [
    "`SecondImplementation`クラスができなかった人は，`SecondImplementation`クラス以外の実行時間を測ってください．\n",
    "\n",
    "**練習**\n",
    "次のセルに`FirstImplementation`クラスをコピーしなさい．"
   ]
  },
  {
   "cell_type": "code",
   "execution_count": null,
   "metadata": {},
   "outputs": [],
   "source": [
    "# FirstImplementationクラス\n",
    "class FirstImplementation:\n",
    "  ...."
   ]
  },
  {
   "cell_type": "markdown",
   "metadata": {},
   "source": [
    "**練習**\n",
    "次のセルを実行して`FirstImplementation`クラスをテストしなさい．\n",
    "先週と同じテストです．\n",
    "求めた距離が間違っていたら実装に失敗しています．"
   ]
  },
  {
   "cell_type": "code",
   "execution_count": null,
   "metadata": {},
   "outputs": [],
   "source": [
    "f = True\n",
    "for s in range(G1.order()):\n",
    "  d = FirstImplementation().dijkstra(G1, w1, s)\n",
    "  answer_d = nx.single_source_dijkstra_path_length(G1, s)\n",
    "  if d != answer_d:\n",
    "    f = False\n",
    "    print(F'始点{s}のとき間違っています')\n",
    "    print('求めた距離', support.sortdict(d))\n",
    "    print('正しい距離', support.sortdict(answer_d))\n",
    "    for u in G1.nodes():\n",
    "      if d[u] != answer_d[u]:\n",
    "        print(F'頂点{s}から頂点{u}への最短距離は{answer_d[u]}ですが，{d[u]}と求めています．')\n",
    "    print()\n",
    "if f:\n",
    "  print(F'{G1.order()}個の始点すべてにおいて正しく距離を求めています．')\n",
    "else:\n",
    "  print('距離が間違っている場合があります．')"
   ]
  },
  {
   "cell_type": "markdown",
   "metadata": {},
   "source": [
    "**練習**\n",
    "次のセルに`SecondImplementation`クラスをコピーしなさい．"
   ]
  },
  {
   "cell_type": "code",
   "execution_count": null,
   "metadata": {},
   "outputs": [],
   "source": [
    "# SecondImplementationクラス\n",
    "class SecondImplementation:\n",
    "  ...."
   ]
  },
  {
   "cell_type": "markdown",
   "metadata": {},
   "source": [
    "**練習**\n",
    "次のセルを実行して`SecondImplementation`クラスをテストしなさい．\n",
    "先週と同じテストです．\n",
    "求めた距離が間違っていたら実装に失敗しています．"
   ]
  },
  {
   "cell_type": "code",
   "execution_count": null,
   "metadata": {},
   "outputs": [],
   "source": [
    "f = True\n",
    "for s in range(G1.order()):\n",
    "  d = SecondImplementation().dijkstra(G1, w1, s)\n",
    "  answer_d = nx.single_source_dijkstra_path_length(G1, s)\n",
    "  if d != answer_d:\n",
    "    f = False\n",
    "    print(F'始点{s}のとき間違っています')\n",
    "    print('求めた距離', support.sortdict(d))\n",
    "    print('正しい距離', support.sortdict(answer_d))\n",
    "    for u in G1.nodes():\n",
    "      if d[u] != answer_d[u]:\n",
    "        print(F'頂点{s}から頂点{u}への最短距離は{answer_d[u]}ですが，{d[u]}と求めています．')\n",
    "    print()\n",
    "if f:\n",
    "  print(F'{G1.order()}個の始点すべてにおいて正しく距離を求めています．')\n",
    "else:\n",
    "  print('距離が間違っている場合があります．')"
   ]
  },
  {
   "cell_type": "markdown",
   "metadata": {},
   "source": [
    "## 2. 三つの実装の実行時間を比べる\n",
    "\n",
    "様々なグラフに対して三つの実装の実行時間を計測します．"
   ]
  },
  {
   "cell_type": "markdown",
   "metadata": {},
   "source": [
    "### 2.1 実行時間の測り方\n",
    "\n",
    "実行時間の測り方は第1週の5章と同じです．\n",
    "最短距離を求める前後に現在の時刻を取得し，その差を実行時間とします．\n",
    "現在の時刻は`time.time()`関数で取得します．\n",
    "\n",
    "`time.sleep(1.0)`の実行時間は次のセルのように`sleep`関数の前後の時刻から求めます．"
   ]
  },
  {
   "cell_type": "code",
   "execution_count": null,
   "metadata": {},
   "outputs": [],
   "source": [
    "t0 = time.time()\n",
    "time.sleep(0.1)\n",
    "t1 = time.time()\n",
    "t1 - t0 # 時間の単位は秒"
   ]
  },
  {
   "cell_type": "markdown",
   "metadata": {},
   "source": [
    "**練習**\n",
    "`time.sleep(1.0)`の実行時間を5回測り，その中央値を取り出すように次のセルの`....`の部分を書きなさい．\n",
    "\n",
    "- `for`の中に上のセルの4行を追加します．\n",
    "- 4行のうち最後の行は，求めた実行時間`t1 - t0`をリスト`t`に追加するように書き換えます．\n",
    "\n",
    "  `t.append(t1 - t0)`"
   ]
  },
  {
   "cell_type": "code",
   "execution_count": null,
   "metadata": {},
   "outputs": [],
   "source": [
    "n = 5  # 実行回数（中央値を取るため奇数）\n",
    "t = [] # 1回ずつの実行時間を格納するリスト\n",
    "for i in range(5):\n",
    "  # ここに実行時間を測るコードを書く\n",
    "  ....\n",
    "print('すべての実行時間', t)\n",
    "t.sort()  # リストtを短い順に並べ替える\n",
    "t[n // 2] # // は整数除算"
   ]
  },
  {
   "cell_type": "markdown",
   "metadata": {},
   "source": [
    "### 2.2 実行時間を測るグラフを用意する\n",
    "\n",
    "次のセルの`cases`はグラフと始点の組のリストです．\n",
    "例えば，リスト`cases`の最初の要素は`['graphs/Delaunary-5-exp-10.edgelist', 0]`です．\n",
    "リストの入れ子なので，この要素もリストで，\n",
    "`'graphs/Delaunary-5-exp-10.edgelist'`の部分がファイル名で，0は最短距離を求める際の始点にしています．\n",
    "\n",
    "ファイル名のDulaunaryの後の数が頂点数です．\n",
    "次のセルのif文の条件をFalseからTrueに変更すると，グラフの頂点数，辺の数，グラフの図を出力できます．"
   ]
  },
  {
   "cell_type": "code",
   "execution_count": null,
   "metadata": {},
   "outputs": [],
   "source": [
    "cases = [['graphs/Delaunary-5-exp-10.edgelist', 0],\n",
    "         ['graphs/Delaunary-10-exp-10.edgelist', 0],\n",
    "         ['graphs/Delaunary-20-exp-10.edgelist', 0],\n",
    "         ['graphs/Delaunary-50-exp-10.edgelist', 0],\n",
    "         ['graphs/Delaunary-100-exp-10.edgelist', 0],\n",
    "         ['graphs/Delaunary-200-exp-10.edgelist', 0],\n",
    "         ['graphs/Delaunary-500-exp-10.edgelist', 0],\n",
    "         ['graphs/Delaunary-1000-exp-10.edgelist', 0],\n",
    "         ['graphs/Delaunary-2000-exp-10.edgelist', 0],\n",
    "         ['graphs/Delaunary-5000-exp-10.edgelist', 0],\n",
    "         ['graphs/Delaunary-10000-exp-10.edgelist', 0],\n",
    "         ['graphs/Delaunary-20000-exp-10.edgelist', 0],\n",
    "         ['graphs/Delaunary-50000-exp-10.edgelist', 0],\n",
    "         ['graphs/Delaunary-100000-exp-10.edgelist', 0]]\n",
    "\n",
    "if False: # Trueにするとそれぞれのファイルのグラフのの頂点数などを出力します．\n",
    "  for edgelist, s in cases:\n",
    "    G = nx.read_edgelist(edgelist, nodetype=int)\n",
    "    print(F'頂点数 {G.order()}, 辺の数 {G.size()}, ファイル名 {edgelist}')\n",
    "    draw_graph(G)"
   ]
  },
  {
   "cell_type": "markdown",
   "metadata": {},
   "source": [
    "次のコードのように`cases.pop()`で実行時間を測るグラフを減らすことができます．\n",
    "\n",
    "計測対象のグラフを減らす場合はリスト`cases`から要素を削除してください．\n",
    "`cases.pop()`で末尾の要素が，`cases.pop(i)`で`i`番目の要素が削除されます．\n",
    "なお，`pop`関数の使い方は第1週の3冊目で確認できます．"
   ]
  },
  {
   "cell_type": "code",
   "execution_count": null,
   "metadata": {},
   "outputs": [],
   "source": [
    "# 削除したいケースをここで削除してください．\n",
    "cases.pop() # ノード数が10万のグラフを計測対象から削除 （Delaunary-100000)\n",
    "cases.pop() # ノード数が5万のグラフを計測対象から削除 (Delaunary-50000)\n",
    "cases.pop() # ノード数が2万のグラフを計測対象から削除 (Delaunary-20000)\n",
    "# cases.pop() # ノード数が1万のグラフを計測対象から削除 (Delaunary-10000)\n",
    "# cases.pop() # ノード数が5千のグラフを計測対象から削除 (Delaunary-5000)\n",
    "# cases.pop() # ノード数が2万のグラフを計測対象から削除 (Delaunary-2000)\n",
    "cases"
   ]
  },
  {
   "cell_type": "markdown",
   "metadata": {},
   "source": [
    "### 2.3 実行時間を計測する\n",
    "\n",
    "それでは実行時間を計測しましょう．\n",
    "実行に必要なコードは書いてあります．\n",
    "\n",
    "実行時間を記録する`measurements`という辞書を用意しています．\n",
    "辞書のキーは3つの実装を区別する文字列`first`, `second`, `networkx`とします．\n",
    "後のコードでこのキーによって最短経路問題を解くダイクストラのアルゴリズムの実装を切り替えます．\n",
    "このキーはグラフの系列名としても使います．\n",
    "\n",
    "この辞書の値は二つの配列の配列にしています．\n",
    "一つ目の配列にはグラフの頂点数を，二つ目の配列には実行時間を記録します．\n",
    "\n",
    "`SecondImplementation`を使わない場合は\n",
    "`measurements['second']`で始まる行を次のセルから削除しなさい．\n",
    "あるいはその行の先頭に#をつけてコメントアウトしなさい．"
   ]
  },
  {
   "cell_type": "code",
   "execution_count": null,
   "metadata": {},
   "outputs": [],
   "source": [
    "measurements = {}\n",
    "measurements['networkx'] = [[], []]\n",
    "measurements['first'] = [[], []]\n",
    "measurements['second'] = [[], []]\n",
    "measurements"
   ]
  },
  {
   "cell_type": "code",
   "execution_count": null,
   "metadata": {},
   "outputs": [],
   "source": [
    "tstart = time.time()\n",
    "for label in list(measurements): # キー（label）を一つずつ取り出す．\n",
    "  print(F'実装 {label}')\n",
    "  for edgelist, s in cases:\n",
    "    G = nx.read_edgelist(edgelist, nodetype=int)\n",
    "    w = nx.get_edge_attributes(G, 'weight')\n",
    "    print(F'ファイル名 {edgelist}, 始点 {s}, 頂点数 {G.order()}, 辺の数 {G.size()}')\n",
    "    ntries = 5 # 試行回数\n",
    "    tlist = [] # 試行ごとの実行時間\n",
    "    for i in range(ntries):\n",
    "      match label:\n",
    "        case 'networkx':\n",
    "          t0 = time.time()\n",
    "          d0 = nx.single_source_dijkstra_path_length(G, s)\n",
    "          t1 = time.time()\n",
    "        case 'first':\n",
    "          t0 = time.time()        \n",
    "          c1 = FirstImplementation()\n",
    "          d1 = c1.dijkstra(G, w, s)\n",
    "          t1 = time.time()\n",
    "        case 'second':\n",
    "          t0 = time.time()\n",
    "          c2 = SecondImplementation()\n",
    "          d1 = c2.dijkstra(G, w, s)\n",
    "          t1 = time.time()\n",
    "\n",
    "      tlist.append(t1 - t0)\n",
    "      if False: # 途中経過を出力したい場合はTrueにする\n",
    "        print('tlist', tlist)\n",
    "    tlist.sort()\n",
    "    measurements[label][0].append(G.order())\n",
    "    measurements[label][1].append(tlist[ntries // 2])\n",
    "    print('このセルを実行してからの経過時間[秒]', time.time() - tstart)"
   ]
  },
  {
   "cell_type": "markdown",
   "metadata": {},
   "source": [
    "### 2.4 実行時間のグラフを作成する\n",
    "\n",
    "計測した実行時間は`measurements`に格納している．\n",
    "次のセルを実行して内容を確認しよう．"
   ]
  },
  {
   "cell_type": "code",
   "execution_count": null,
   "metadata": {},
   "outputs": [],
   "source": [
    "measurements"
   ]
  },
  {
   "cell_type": "code",
   "execution_count": null,
   "metadata": {},
   "outputs": [],
   "source": [
    "# 辞書型のmeasurementsのキーを出力する\n",
    "list(measurements)"
   ]
  },
  {
   "cell_type": "code",
   "execution_count": null,
   "metadata": {},
   "outputs": [],
   "source": [
    "plt.figure(figsize=[5, 4]) # グラフのサイズ\n",
    "for label, xy in measurements.items():\n",
    "   x, y = xy\n",
    "   ymicro = [t * 10**6 for t in y] # 計測時間の単位を秒からマイクロ秒に変換\n",
    "   plt.plot(x, ymicro, marker='.', label=label)\n",
    "plt.xlabel('number of nodes') # X軸ラベル\n",
    "plt.ylabel('time [μ second]')   # Y軸ラベル \n",
    "plt.xscale('log')                # X軸を対数軸に\n",
    "plt.yscale('log')                # Y軸を対数軸に\n",
    "plt.legend(loc='upper left')     # 凡例\n",
    "plt.show()"
   ]
  },
  {
   "cell_type": "markdown",
   "metadata": {},
   "source": [
    "この計測結果を分析してレポートを作成しなさい．"
   ]
  },
  {
   "cell_type": "markdown",
   "metadata": {},
   "source": [
    "## 3. 両対数グラフを知る\n",
    "\n",
    "両対数グラフに慣れていないと思いますので補足します．\n",
    "この章の内容を理解すると計測結果の分析がしやすくなるはずです．\n",
    "両対数グラフはX軸もY軸も目盛りを対数にしたグラフです．\n",
    "\n",
    "対数軸では，1と10の差と10と100の差，20と200の差がどちらも同じ長さ1で表現されます．\n",
    "次の式のようにどちらも対数($\\log$)の差にすると1だからです．\n",
    "$$\\log_{10}\\, 10 - \\log_{10}\\, 1 = 1 - 0 = 1$$\n",
    "$$\\log_{10}\\, 100 - \\log_{10}\\, 10 = 2 - 1 = 1$$\n",
    "$$\\log_{10}\\, 200 - \\log_{10}\\, 20 = 2.301\\ldots - 1.301\\ldots = 1$$\n",
    "\n",
    "次のセルを実行すると$y=x$, $y=10x$, $y=100x$の3つの関数を両対数グラフに出力します．\n",
    "$x$の値として13個選んでそれらの間は直線で近似しています．\n",
    "直線$y=ax$の傾き$a$の部分が変化しても両対数グラフでは傾きが同じ直線で，\n",
    "$a$の部分は直線がY軸の方向に$\\log_{10}a$だけ移動していることがわかります．\n",
    "\n",
    "`plt.yscale('log')`の部分をコメントアウトするか引数を`'linear'`に書き換えると，Y軸が線形軸になります．\n",
    "X軸も同様に対数軸と線形軸を切り替えられます．\n",
    "\n",
    "**練習**\n",
    "次のセルを実行すると，同じグラフが二つ出力されています．\n",
    "二つ目のグラフを線形軸に変更しなさい．\n",
    "同じ一次関数が線形軸と対数軸でどのように違うグラフになるか確認しなさい．\n",
    "X軸とY軸の一方を対数軸，他方を線形軸にした場合も試しなさい．"
   ]
  },
  {
   "cell_type": "code",
   "execution_count": null,
   "metadata": {},
   "outputs": [],
   "source": [
    "x = list(map(lambda x: 10**(x / 3.0), range(0 ,13)))\n",
    "print('x', x) # ノード数のリスト\n",
    "\n",
    "# y = x, 実行時間[μs]がノード数になる場合\n",
    "y1 = x\n",
    "print('y = x', y1) # 実行時間ののリスト\n",
    "\n",
    "# y = 10x, 実行時間がノード数の10倍になる場合\n",
    "def x10(x): return 10 * x\n",
    "y10 = list(map(lambda x: x10(x), x))\n",
    "print('y = 10x', y10) # 実行時間ののリスト\n",
    "\n",
    "# y = 100x, 実行時間がノード数の100倍になる場合\n",
    "def x100(x): return 100 * x\n",
    "y100 = list(map(lambda x: x100(x), x))\n",
    "print('y = 100x', y100) # 実行時間ののリスト\n",
    "\n",
    "# 一つ目の目のグラフ\n",
    "plt.figure(figsize=[5, 3]) # グラフのサイズ\n",
    "plt.plot(x, y1, marker='.', label='y = x')\n",
    "plt.plot(x, y10, marker='.', label='y = 10x')\n",
    "plt.plot(x, y100, marker='.', label='y = 100x')\n",
    "plt.xscale('log')                # X軸は対数軸(log)．線形軸はlinear\n",
    "plt.yscale('log')                # Y軸は対数軸(log)．線形軸はlinear\n",
    "def show(plt):\n",
    "  plt.xlabel('number of nodes')  # X軸ラベル\n",
    "  plt.ylabel('time [μ second]')  # Y軸ラベル \n",
    "  plt.legend(loc='upper left')   # 凡例\n",
    "  plt.show()\n",
    "show(plt)\n",
    "\n",
    "# 二つ目のグラフ\n",
    "plt.figure(figsize=[5, 3]) # グラフのサイズ\n",
    "plt.plot(x, y1, marker='.', label='y = x')\n",
    "plt.plot(x, y10, marker='.', label='y = 10x')\n",
    "plt.plot(x, y100, marker='.', label='y = 100x')\n",
    "plt.xscale('log')                # X軸は対数軸(log)．線形軸はlinear\n",
    "plt.yscale('log')                # Y軸は対数軸(log)．線形軸はlinear\n",
    "show(plt)"
   ]
  },
  {
   "cell_type": "markdown",
   "metadata": {},
   "source": [
    "次は$a$次関数を対数軸のグラフにしてみましょう．\n",
    "次のコードは$y=x^1$, $y=x^2$, $y=x^3$, $y=x^4$の4つの関数をグラフを出力します．\n",
    "この二つのグラフを出力しますが，二つとも線形軸のグラフです．\n",
    "$y=x^a$の$a$次関数は次数が増えると線形グラフだと急なカーブを描きます．\n",
    "\n",
    "**練習**\n",
    "一つ目のグラフを両対数グラフにしなさい．二つ目のグラフの軸は整形軸のままでよい．前のセルと同様に`plt.xscale('log')`と`plt.yscale('log')`にすると両対数グラフになる．"
   ]
  },
  {
   "cell_type": "code",
   "execution_count": null,
   "metadata": {},
   "outputs": [],
   "source": [
    "x = list(map(lambda x: 10**(x / 10.0), range(0, 11)))\n",
    "print('x', x)\n",
    "\n",
    "# y = x\n",
    "yp1 = x\n",
    "print('y = x', yp1)\n",
    "\n",
    "# y = x * x\n",
    "def pow2(x): return x * x\n",
    "yp2 = list(map(lambda x: pow2(x), x))\n",
    "print('y = x * x', yp2)\n",
    "\n",
    "# y = x^3\n",
    "def pow3(x): return x * x * x\n",
    "yp3 = list(map(lambda x: pow3(x), x))\n",
    "print('y = x^3', yp3)\n",
    "\n",
    "# y = x^4\n",
    "def pow4(x): return x ** 4\n",
    "yp4 = list(map(lambda x: pow4(x), x))\n",
    "print('y = x^4', yp4)\n",
    "\n",
    "y_label = [[yp1, 'y = x'], [yp2, 'y = x * x'], [yp3, 'y = x^3'], [yp4, 'y = x^4']]\n",
    "\n",
    "# 一つ目のグラフ\n",
    "plt.figure(figsize=[5, 3]) # グラフのサイズ\n",
    "for y, label in y_label:\n",
    "  plt.plot(x, y, marker='.', label=label)\n",
    "plt.xscale('linear') # X軸は対数軸(log)．線形軸はlinear\n",
    "plt.yscale('linear') # Y軸は対数軸(log)．線形軸はlinear\n",
    "show(plt)\n",
    "\n",
    "# 二つ目のグラフ\n",
    "plt.figure(figsize=[5, 3]) # グラフのサイズ\n",
    "for y, label in y_label:\n",
    "  plt.plot(x, y, marker='.', label=label)\n",
    "show(plt)"
   ]
  },
  {
   "cell_type": "markdown",
   "metadata": {},
   "source": [
    "**練習**\n",
    "上のコードを複製して，$x$の範囲を$1\\le x\\le 10$から$1\\le x\\le 10^4=10000$に変更しなさい．\n",
    "コード先頭の`range(0, 11)`の`11`を`41`に変更すると$x\\le 10^{40}$に変更できる．\n",
    "一つ目のグラフのX,Y軸は対数軸にしなさい．\n",
    "二つ目のグラフのX,Y軸は線形軸にしなさい．"
   ]
  },
  {
   "cell_type": "markdown",
   "metadata": {},
   "source": [
    "**練習**\n",
    "上のグラフで$y=x$や$y=x^2$の線がどこにあるか考えて次のテキストセルに書きなさい．"
   ]
  },
  {
   "cell_type": "markdown",
   "metadata": {},
   "source": [
    "解答欄："
   ]
  },
  {
   "cell_type": "markdown",
   "metadata": {},
   "source": [
    "最後に指数関数も両対数グラフに表してみる．\n",
    "グラフにする関数は$1\\le x\\le 100$の範囲で$y=x$, $y=1000x$, $y=x^{10}$, $y=2^x$の4つの関数のグラフを示す．\n",
    "\n",
    "**練習**\n",
    "次のコードで出力するグラフを軸を両対数にして4つの関数の傾向を見なさい．\n",
    "傾向をコードセルの下のテキストセルに書きなさい．"
   ]
  },
  {
   "cell_type": "code",
   "execution_count": null,
   "metadata": {},
   "outputs": [],
   "source": [
    "# 指数\n",
    "x = list(map(lambda x: 10**(x / 10.0), range(0, 21)))\n",
    "\n",
    "# y = x\n",
    "y1 = x\n",
    "y_label = [[y1, 'y = x']]\n",
    "\n",
    "# y = 1000x\n",
    "def x1000(x): return 1000 * x\n",
    "y1000 = list(map(lambda x: x1000(x), x))\n",
    "y_label.append([y1000, 'y = 1000x'])\n",
    "\n",
    "# y = x^10\n",
    "def pow10(x): return x ** 10\n",
    "yp10 = list(map(lambda x: pow10(x), x))\n",
    "y_label.append([yp10, 'y = x^10'])\n",
    "\n",
    "# y = 2^x\n",
    "def exp10(x): return 2 ** x\n",
    "ye2 = list(map(lambda x: exp10(x), x))\n",
    "y_label.append([ye2, 'y = 2^x'])\n",
    "\n",
    "# グラフ\n",
    "plt.figure(figsize=[5, 3]) # グラフのサイズ\n",
    "for y, label in y_label:\n",
    "  plt.plot(x, y, marker='.', label=label)\n",
    "plt.xscale('linear')             # X軸 logなら対数軸 linearなら線形軸\n",
    "plt.yscale('linear')             # Y軸 logなら対数軸 linearなら線形軸\n",
    "show(plt)"
   ]
  },
  {
   "cell_type": "markdown",
   "metadata": {},
   "source": [
    "解答欄："
   ]
  },
  {
   "cell_type": "markdown",
   "metadata": {},
   "source": [
    "2.4節で作成した実行時間のグラフは両対数グラフです．\n",
    "改めて実行時間のグラフを見て，実行時間がノード数に対して線形に増加しているのか，$a>1$の$a$次関数で増加してるのか考えてください．\n",
    "\n",
    "ノートブックは以上です．\n",
    "レポートを作成してください．"
   ]
  }
 ],
 "metadata": {
  "colab": {
   "provenance": []
  },
  "kernelspec": {
   "display_name": "Python 3 (ipykernel)",
   "language": "python",
   "name": "python3"
  },
  "language_info": {
   "codemirror_mode": {
    "name": "ipython",
    "version": 3
   },
   "file_extension": ".py",
   "mimetype": "text/x-python",
   "name": "python",
   "nbconvert_exporter": "python",
   "pygments_lexer": "ipython3",
   "version": "3.12.2"
  }
 },
 "nbformat": 4,
 "nbformat_minor": 4
}
