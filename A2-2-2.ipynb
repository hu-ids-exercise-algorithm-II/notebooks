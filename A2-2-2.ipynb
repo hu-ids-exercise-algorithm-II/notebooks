{
 "cells": [
  {
   "cell_type": "markdown",
   "metadata": {
    "id": "iAgWpkVC3KVm"
   },
   "source": [
    "# 情報科学演習II アルゴリズムとデータ構造II 第2週 2冊目\n",
    "\n",
    "#### 第2週目次\n",
    "\n",
    "1. ダイクストラのアルゴリズムの簡単な実装（1冊目）\n",
    "2. 実装のクラス化（2冊目）\n",
    "3. 優先度付きキュー（3冊目）\n",
    "4. ダイクストラのアルゴリズムの効率的な実装（4冊目）"
   ]
  },
  {
   "cell_type": "markdown",
   "metadata": {},
   "source": [
    "## 2. 実装のクラス化\n",
    "\n",
    "1章で作成したdijkstra関数とそこから呼び出される関数をクラスにまとめます．\n",
    "\n",
    "1章と同じノートブックだと同一の仮想マシンで混乱するため，別のノートブックです．\n",
    "1冊目を横に並べて表示しておくことをお勧めします．\n",
    "\n",
    "次の2つのセルは準備ですので，実行してください．\n",
    "二つ目のセルで必要なモジュールを`import`し，いくつかの関数を定義しておきます．"
   ]
  },
  {
   "cell_type": "code",
   "execution_count": null,
   "metadata": {},
   "outputs": [],
   "source": [
    "!apt install libgraphviz-dev\n",
    "!pip install pygraphviz\n",
    "# 最終行は Successfully installed pygraphviz-x.xx\n",
    "# x.xxの部分は1.13などのバージョン番号"
   ]
  },
  {
   "cell_type": "code",
   "execution_count": null,
   "metadata": {
    "id": "CFf_w1bm5i9P"
   },
   "outputs": [],
   "source": [
    "# 準備\n",
    "import networkx as nx\n",
    "import math\n",
    "import pygraphviz as pgv\n",
    "from IPython.display import SVG, display_svg\n",
    "from test import support # sortdict関数\n",
    "\n",
    "log = False # log = Trueにすると途中経過が出力される\n",
    "\n",
    "def print_graph(G): # GはnetworkxのGraphクラス (networkx.classes.graph.Graphクラス)\n",
    "  print('print_graph:')\n",
    "  print(\"  nodes\", list(G.nodes))\n",
    "  # print('  edges', list(G.edges))\n",
    "  print('  edges', list(G.edges.data())) # 辺の重みも出力\n",
    "\n",
    "def draw_graph(G, filename = 'tmp'):\n",
    "  A = nx.nx_agraph.to_agraph(G)\n",
    "  for edge in G.edges(data=\"weight\"):\n",
    "    u, v, d = edge\n",
    "    A.get_edge(u, v).attr['label'] = d\n",
    "\n",
    "  A.layout(args='-Nshape=circle')  # default prog='neato' \n",
    "  A.draw(F'{filename}.svg')\n",
    "  display_svg(SVG(F'{filename}.svg'))\n",
    "\n",
    "def sample_graph1():\n",
    "  G = nx.Graph() # 無向グラフ\n",
    "  for i,j,w in [[0, 1, 5], [0, 4, 9], [0, 7, 8], [1, 2, 12], [1, 3, 15], \n",
    "                [1, 7, 4], [2, 3, 3], [2, 6, 11], [3, 6, 9], [4, 5, 4], \n",
    "                [4, 7, 5], [5, 2, 1], [5, 6, 13], [7, 2, 7], [7, 5, 6]]:\n",
    "    G.add_edge(i, j, weight=w) # weightはnetworkx, labelはgraphviz\n",
    "  L = nx.get_edge_attributes(G, 'weight')\n",
    "  print('edge length', L)\n",
    "  return G\n",
    "\n",
    "G1 = sample_graph1()\n",
    "L1 = nx.get_edge_attributes(G1, 'weight')\n",
    "answer_d1 = {0: 0, 1: 5, 2: 14, 3: 17, 4: 9, 5: 13, 6: 25, 7: 8}\n",
    "    \n",
    "def sample_graph2():\n",
    "  G = nx.Graph() # 無向グラフ\n",
    "  for i,j,w in [[7, 5, 6], [7, 2, 7], [5, 6, 13], [5, 2, 1], [4, 7, 5], \n",
    "                [4, 5, 4], [3, 6, 9], [2, 6, 11], [2, 3, 3], [1, 7, 4], \n",
    "                [1, 3, 15], [1, 2, 12], [0, 7, 8], [0, 4, 9], [0, 1, 5]]:\n",
    "    G.add_edge(i, j, weight=w) # weightはnetworkx, labelはgraphviz\n",
    "  L = nx.get_edge_attributes(G, 'weight')\n",
    "  print('edge length', w)\n",
    "  return G\n",
    "\n",
    "G2 = sample_graph2()\n",
    "L2 = nx.get_edge_attributes(G2, 'weight')\n",
    "answer_d2 = {0: 0, 1: 5, 2: 14, 3: 17, 4: 9, 5: 13, 6: 25, 7: 8}"
   ]
  },
  {
   "cell_type": "markdown",
   "metadata": {},
   "source": [
    "次のセルはサンプルのグラフG1とG2を図示するコードですので，実行しなさい．"
   ]
  },
  {
   "cell_type": "code",
   "execution_count": null,
   "metadata": {},
   "outputs": [],
   "source": [
    "print('G1')\n",
    "print_graph(G1)\n",
    "draw_graph(G1)\n",
    "\n",
    "print('G2')\n",
    "print_graph(G2)\n",
    "draw_graph(G2)"
   ]
  },
  {
   "cell_type": "markdown",
   "metadata": {
    "id": "CFf_w1bm5i9P"
   },
   "source": [
    "### 2.1 クラス化する\n",
    "\n",
    "先ほどのノートブックで作成したダイクストラのアルゴリズムの関数群（dijkstra, initialize_single_source, insert, extract_min, relax）を次のコードセルの`FirstImplementation`クラスにまとめなさい．\n",
    "\n",
    "このクラスの一部を作成してありますので，残りの部分を書く必要があります．\n",
    "\n",
    "- クラス名は`FirstImplementation`．\n",
    "- 1.2節で作った5つの関数をこのクラス内で定義する．\n",
    "  \n",
    "  字下げした範囲がクラス．\n",
    "- 2つの辞書`d`と`pi`，リスト`Q`をこのクラスに入れる．\n",
    "  \n",
    "  初期化関数`__init__`内で辞書`d`と`pi`，リスト`Q`を宣言する．\n",
    "  関数内でこれらの変数を読み書きするときは`self.d`のように変数名の前に`self.`をつけて使う．\n",
    "- 関数を定義する際は，第1引数に`self`を<u>追加する．</u>\n",
    "  \n",
    "  `self`は自身のオブジェクトを指す．例：`insert`関数の定義の部分．\n",
    "\n",
    "  `def insert(self, u):`\n",
    "  \n",
    "- 関数を呼び出す側では関数名の前に`self.`をつける．\n",
    "  \n",
    "  関数呼び出しのとき第1引数`self`は<u>書かない</u>．\n",
    "  例：`dijkstra`関数内で`insert`関数を呼び出している部分．\n",
    "\n",
    "  `self.insert(u) # Qに頂点uを加える`\n",
    "  \n",
    "- このクラスのオブジェクトを初期化する関数は`__init__`．\n",
    "  参考：[チュートリアル __init__](https://docs.python.org/ja/3/reference/datamodel.html#object.__init__)．Javaのコンストラクタに対応するのが`__init__`関数です．\n",
    "- 字下げ（インデント）に注意しましょう．\n",
    "  クラス全体を字下げします．\n",
    "  関数全体も字下げします．\n",
    "\n",
    "作成済みの関数\n",
    "- `__init__`\n",
    "- `dijkstra`\n",
    "\n",
    "書き加える必要がある関数\n",
    "- `initialize_single_source(G)`\n",
    "- `insert(u)`\n",
    "- `extract_min()`\n",
    "- `relax(u, v, L)`\n",
    "\n",
    "1.2節の関数と同じ処理になるようにこれら4つの関数を書きましょう．\n",
    "`self`がつくことと，字下げが増えるること以外は1.2節のままです．\n",
    "\n",
    "**書き換えを楽にする技法**\n",
    "`relax`関数内で辞書`d`を何度も使います．\n",
    "関数の先頭で次のように`d = self.d`と書いておくと，その関数内では\n",
    "\n",
    "`self.d[u]`や`self.d[v]`と何度も書く代わりに，\n",
    "\n",
    "`d[u]`や`d[v]`のように短く書けるのでおすすめです．\n",
    "\n",
    "**編集の技法**\n",
    "複数行の字下げをまとめて増やしたい場合は，コードセルの行を選んだ状態でTabキーを押します．\n",
    "逆に，複数行の字下げをまとめて減らししたい場合は，コードセルの行を選んだ状態でShift+Tabキーを押します．\n",
    "\n",
    "**練習**\n",
    "`dijkstra`関数から呼び出される4つの関数を書きなさい．"
   ]
  },
  {
   "cell_type": "code",
   "execution_count": null,
   "metadata": {
    "id": "CFf_w1bm5i9P"
   },
   "outputs": [],
   "source": [
    "class FirstImplementation:\n",
    "    \n",
    "  def __init__(self):\n",
    "    self.d = {}   # d[u]は頂点uの距離\n",
    "    self.Q = []   # 頂点が距離順に格納されたヒープ．Q[0]が最小距離の頂点\n",
    "    self.pi = {} # pi[u]は頂点uへの最短経路上で，頂点uの直前にある頂点\n",
    "\n",
    "  # sから各頂点への最短距離を返す\n",
    "  # G: グラフ, L: Gの各辺の長さの辞書, s: 始点とする頂点\n",
    "  def dijkstra(self, G, L, s):\n",
    "    d = self.d # この関数内ではd[s]と書けばself.d[s]を読み書きできる\n",
    "    Q = self.Q\n",
    "    self.initialize_single_source(G) # すべての頂点uについて距離d[u]を初期化する\n",
    "    S = set() # Sは空集合\n",
    "    \n",
    "    for u in list(G.nodes): # Vに含まれるそれぞれの頂点uに対して\n",
    "      self.insert(u) # Qに頂点uを加える\n",
    "    \n",
    "    d[s] = 0\n",
    "\n",
    "    # 最短距離を求める\n",
    "    while len(Q) > 0: # Qが空集合になるまで\n",
    "      u = self.extract_min()   #   Qから最小値の頂点uを取り出す\n",
    "      S.add(u)       #   Sに頂点uを加える\n",
    "      for v in list(G.adj[u]): #   uに隣接するそれぞれの頂点に対して\n",
    "        if not v in S: # まだSに含まれていないならば\n",
    "          self.relax(u, v, L) #     頂点vへの二つの経路のうち短いものを残しキューの並びも調整する\n",
    "    return self.d\n",
    "\n",
    "  # すべての頂点uについて距離d[u]を初期化する\n",
    "  def initialize_single_source(self, G):\n",
    "    ....\n",
    "\n",
    "  # Qに頂点uを加える\n",
    "  def insert(self, u):\n",
    "    ....\n",
    "\n",
    "  # Qから最小値の頂点uを取り出す．\n",
    "  def extract_min(self):\n",
    "    return ....\n",
    "\n",
    "  # 頂点vへの二つの経路のうち短いものを残す\n",
    "  def relax(self, u, v, L):\n",
    "    ...."
   ]
  },
  {
   "cell_type": "markdown",
   "metadata": {
    "id": "CFf_w1bm5i9P"
   },
   "source": [
    "### 2.2 クラス化したものをテストする\n",
    "\n",
    "次のコードセルでテストします．\n",
    "うまくFirstShortestPathクラスが作れたか，以下のコードセルを実行して，\n",
    "グラフG1，始点0について1章と同じ結果が得られることを確かめよ．\n",
    "\n",
    "`d = {0: 0, 1: 5, 2: 14, 3: 17, 4: 9, 5: 13, 6: 25, 7: 8}`が正解です．"
   ]
  },
  {
   "cell_type": "code",
   "execution_count": null,
   "metadata": {
    "id": "CFf_w1bm5i9P"
   },
   "outputs": [],
   "source": [
    "c = FirstImplementation()\n",
    "d = c.dijkstra(G1, L1, 0)\n",
    "print(\"d =\", support.sortdict(d)) # 距離の辞書dを出力（頂点でソートして出力)\n",
    "if d == answer_d1:\n",
    "  print('正解です')\n",
    "else:\n",
    "  print('間違っています')"
   ]
  },
  {
   "cell_type": "markdown",
   "metadata": {},
   "source": [
    "上のコードの最初の2行について解説します．\n",
    "\n",
    "`c = FirstImplementation()`は`FirstImplementation`クラスのオブジェクトを生成して，変数`c`に格納します．\n",
    "生成のときに呼び出されているのは`__init__(self)`関数です．\n",
    "生成されたオブジェクト`c`には`d`と`Q`と`pi`のデータが保持されます．\n",
    "これらのデータは`dijkstra`関数や`insert`関数などで読み書きされます．\n",
    "\n",
    "`d = c.dijkstra(G1, L1, 0)`はオブジェクト`c`の`dijkstra`関数を呼び出して，その戻り値を`d`に格納します．\n",
    "`c`は`FirstImplementation`クラスのオブジェクトですから，クラス内に定義した`dijkstra`関数が呼び出されます．\n",
    "呼び出し元の`G1, L1, 0`は単一始点最短距離問題のグラフ，辺の長さの辞書，始点として`dijkstra`関数に渡されます．\n",
    "`dijkstra`関数は各頂点の始点0からの最短距離の入った辞書を返します．\n",
    "この辞書が`d`に格納されます．"
   ]
  },
  {
   "cell_type": "markdown",
   "metadata": {},
   "source": [
    "もう一つのグラフG2，始点0についても以下のコードセルを実行して確かめましょう．\n",
    "\n",
    "`d = {0: 0, 1: 7, 2: 12, 3: 15, 4: 9, 5: 11, 6: 23, 7: 5}`が正解です．"
   ]
  },
  {
   "cell_type": "code",
   "execution_count": null,
   "metadata": {
    "id": "CFf_w1bm5i9P"
   },
   "outputs": [],
   "source": [
    "c = FirstImplementation()\n",
    "d = c.dijkstra(G2, L2, 0)\n",
    "print(\"d =\", support.sortdict(d)) # 距離の辞書dを出力（頂点でソートして出力)\n",
    "if d == answer_d2:\n",
    "  print('正解です')\n",
    "else:\n",
    "  print('間違っています')\n",
    "answer_d2"
   ]
  },
  {
   "cell_type": "markdown",
   "metadata": {},
   "source": [
    "最後にグラフG1について，始点を変えながら動作を確かめましょう．"
   ]
  },
  {
   "cell_type": "code",
   "execution_count": null,
   "metadata": {},
   "outputs": [],
   "source": [
    "for s in range(G1.order()):\n",
    "  d = FirstImplementation().dijkstra(G1, L1, s)\n",
    "  answer_d = nx.single_source_dijkstra_path_length(G1, s)\n",
    "  if d == answer_d:\n",
    "    print(F'始点が{s}のときすべての頂点の距離が正しく求められました．')\n",
    "  else:\n",
    "    print(F'始点が{s}のとき距離が間違っている頂点があります．')\n",
    "    print()\n",
    "    for u, du in d.items():\n",
    "      if du != answer_d[u]:\n",
    "        print(F'始点{s}から頂点{u}への最短距離は{answer_d[u]}ですが，{du}と求めています．')\n",
    "\n",
    "draw_graph(G1)"
   ]
  }
 ],
 "metadata": {
  "colab": {
   "provenance": []
  },
  "kernelspec": {
   "display_name": "Python 3 (ipykernel)",
   "language": "python",
   "name": "python3"
  },
  "language_info": {
   "codemirror_mode": {
    "name": "ipython",
    "version": 3
   },
   "file_extension": ".py",
   "mimetype": "text/x-python",
   "name": "python",
   "nbconvert_exporter": "python",
   "pygments_lexer": "ipython3",
   "version": "3.12.2"
  }
 },
 "nbformat": 4,
 "nbformat_minor": 4
}
