{
 "cells": [
  {
   "cell_type": "markdown",
   "metadata": {
    "id": "7VohWFMwMZb9"
   },
   "source": [
    "# 情報科学演習II アルゴリズムとデータ構造II 第1週 1冊目\n",
    "\n",
    "情報科学演習IIの前半3週間はアルゴリズムとデータ構造IIのテーマです．\n",
    "このテーマで使うプログラミング言語はPythonです．\n",
    "\n",
    "アルゴリズムとデータ構造IIの第1週はこのノートブックを含む3冊のノートブックを使って演習します．\n",
    "Pythonの基本は教養教育の「ゼロからはじめるプログラミング」を復習してください．\n",
    "Pythonの基本は[Pythonチュートリアル](https://docs.python.org/ja/3/tutorial/)の3，4，5，7章で学ぶこともできます．\n",
    "\n",
    "#### 第1週目次\n",
    "\n",
    "1. ColabraoryのPythonノートブックに慣れる（1冊目）\n",
    "2. グラフの最短経路問題を解く（2冊目）\n",
    "3. グラフ操作ライブラリnetworkxに慣れる（2冊目）\n",
    "4. リストと集合と辞書（3冊目）\n",
    "5. 要素の探索にかかる速度を比べる（3冊目）\n",
    "6. ダイクストラのアルゴリズムを理解する（4冊目）"
   ]
  },
  {
   "cell_type": "markdown",
   "metadata": {
    "id": "OAq5pOmYj3Oh"
   },
   "source": [
    "## 1. ColabraoryのJupyterノートブックに慣れる\n"
   ]
  },
  {
   "cell_type": "markdown",
   "metadata": {
    "id": "ixordqNgkF8W"
   },
   "source": [
    "### 1.1 コードセルの実行\n",
    "ノートブックのコードセルに書いたコードは実行できます．\n",
    "コードに書く言語はPythonです．\n",
    "左端に`[ ]`が表示されているのがコードセルです．\n",
    "次のコードセルを実行してみましょう．\n",
    "コードセルにマウスポインタを移動させ，行番号1の左の`[ ]`の部分をクリックすると実行されます．\n",
    "実行するとコードセルの下部に`'Hello notebook'`と出力されます．"
   ]
  },
  {
   "cell_type": "code",
   "execution_count": null,
   "metadata": {
    "colab": {
     "base_uri": "https://localhost:8080/",
     "height": 35
    },
    "executionInfo": {
     "elapsed": 456,
     "status": "ok",
     "timestamp": 1712302141193,
     "user": {
      "displayName": "北須賀輝明",
      "userId": "08683967670490393975"
     },
     "user_tz": -540
    },
    "id": "NGDAcq3eVIOD",
    "outputId": "5ff5c4af-ce1d-47d1-8d2a-9f4b32461fdb"
   },
   "outputs": [],
   "source": [
    "'Hello notebook'"
   ]
  },
  {
   "cell_type": "markdown",
   "metadata": {
    "id": "FZ8gyXj9WR3E"
   },
   "source": [
    "コードセルを実行する方法は，`[ ]`をクリックするだけではありません．\n",
    "キーボードショットカットを使うと早く作業できます．\n",
    "\n",
    "Shiftキーを押しながらEnterキーを押すことでセルを実行できます．\n",
    "これを略してShift＋Enterキーを押すといいます．\n",
    "Shift＋Enterキーを押すと次のコードやテキストにフォーカスが移動します．\n",
    "\n",
    "実行するセルは上下カーソルキー（⏶と⏷）で選べます．\n",
    "Ctrl+Enterキーを押すとフォーカスを移動させずにセルを実行できます．\n",
    "同じセルを何度も実行したいときはCtrl+Enterキーが便利です．\n",
    "\n",
    "Alt+Enterキーはセルを実行した後，新しいコードセルをすぐ下に挿入します．\n",
    "\n",
    "コードを編集したいときはコードセルをクリックするか，Enterキーを押します．\n",
    "コードの編集を終えるときはESCキーを押します．\n",
    "次の練習でこれらのキーボードショートカットを練習することをお勧めします．\n",
    "\n",
    "**練習**\n",
    "次の二つのセルのコードを書き替えながら何度か実行しなさい．\n",
    "左の`[ ]`の部分に`[2]`などと表示されているのは実行された順序を示しており，`[2]`であればこのセルがこのノートブックで2番目に実行されたことを示しています．\n",
    "実行するたびに`[ ]`の中の数が増えることを確認しなさい．"
   ]
  },
  {
   "cell_type": "code",
   "execution_count": null,
   "metadata": {
    "colab": {
     "base_uri": "https://localhost:8080/",
     "height": 35
    },
    "executionInfo": {
     "elapsed": 6,
     "status": "ok",
     "timestamp": 1712302141475,
     "user": {
      "displayName": "北須賀輝明",
      "userId": "08683967670490393975"
     },
     "user_tz": -540
    },
    "id": "uGiDnY_XZea1",
    "outputId": "b27d27cc-08bf-4165-ee41-d1d719ae7328"
   },
   "outputs": [],
   "source": [
    "'Hello again'"
   ]
  },
  {
   "cell_type": "code",
   "execution_count": null,
   "metadata": {
    "colab": {
     "base_uri": "https://localhost:8080/",
     "height": 35
    },
    "executionInfo": {
     "elapsed": 6,
     "status": "ok",
     "timestamp": 1712302141476,
     "user": {
      "displayName": "北須賀輝明",
      "userId": "08683967670490393975"
     },
     "user_tz": -540
    },
    "id": "YMdM8LD5Zubb",
    "outputId": "13ff0168-19ef-4276-81e2-9060b923b340"
   },
   "outputs": [],
   "source": [
    "'こんにちは'"
   ]
  },
  {
   "cell_type": "markdown",
   "metadata": {
    "id": "EazmFypBaYKT"
   },
   "source": [
    "これまでに実行したセルの左に小さく表示されている「0秒」はセルの実行にかかった時間です．次のセルでは`time.sleep`関数を呼び出しているので実行に1秒かかります．`time.sleep`関数は引数で指定した秒数だけ時間実行を中断します．引数の秒数1を書き替えると実行時間が変化します．なお，1行目の`import`は`time`モジュールを使うという宣言です．`time`モジュールの`import`はノートブック内で一度実行すれば十分で，何度も同じモジュールを`import`する必要はありません．\n",
    "\n",
    "参考：[time.sleep関数の説明](https://docs.python.org/ja/3/library/time.html#time.sleep)\n"
   ]
  },
  {
   "cell_type": "code",
   "execution_count": null,
   "metadata": {
    "id": "aQx_aEDEaFXr"
   },
   "outputs": [],
   "source": [
    "import time\n",
    "time.sleep(1.0)"
   ]
  },
  {
   "cell_type": "markdown",
   "metadata": {
    "id": "ayQ1gQOPe3_C"
   },
   "source": [
    "### 1.2 セッションと実行履歴\n",
    "ノートブック内のコードセルは一つの仮想マシン上で実行されます．\n",
    "ノートブックがこの仮想マシンと接続されていることをセッションと呼びます．\n",
    "セッションが続く間はコードで定義した変数や関数などが仮想マシン上に保持されます．\n",
    "\n",
    "ノートブックをしばらく放っておくと，ノートブックが仮想マシンから切断されます．\n",
    "切断された時点でセッションが終了します．\n",
    "セッションが終了してもコードセルの下の出力が消えるわけではありません．\n",
    "\n",
    "参考：右上の「その他の接続オプション」アイコンから「コードの実行履歴を表示」すると，現在のセッションで実行したコードの履歴を確認できます．\n",
    "\n",
    "次のセルは変数`a`に整数`1`を代入しています．"
   ]
  },
  {
   "cell_type": "code",
   "execution_count": null,
   "metadata": {
    "id": "uZZFcVZkekc_"
   },
   "outputs": [],
   "source": [
    "a = 1"
   ]
  },
  {
   "cell_type": "markdown",
   "metadata": {
    "id": "DtpvscEme_55"
   },
   "source": [
    "**練習**\n",
    "次のセルに`a`と書いて実行してください．変数`a`の値`1`が出力されます．"
   ]
  },
  {
   "cell_type": "code",
   "execution_count": null,
   "metadata": {
    "colab": {
     "base_uri": "https://localhost:8080/"
    },
    "executionInfo": {
     "elapsed": 3,
     "status": "ok",
     "timestamp": 1712302142541,
     "user": {
      "displayName": "北須賀輝明",
      "userId": "08683967670490393975"
     },
     "user_tz": -540
    },
    "id": "TZy7dpGAesCC",
    "outputId": "e2614319-9404-4027-8012-2abe0911fafc"
   },
   "outputs": [],
   "source": []
  },
  {
   "cell_type": "markdown",
   "metadata": {
    "id": "qMoQOGILebOq"
   },
   "source": [
    "このノートブックを開き直すとランタイム（仮想マシン）が初期化され，これまでに実行した内容が仮想マシンから失われます．\n",
    "\n",
    "**練習**\n",
    "開き直すのと同じことを「ランタイム」メニューの「セッションを再起動する」を選んで試してください．\n",
    "実行中の仮想マシンを再起動しますのでこれまでに実行した内容が失われます．\n",
    "\n",
    "セッションを再起動した後，`a = 1`のセルを実行せずに`a`のセルを実行してください．次のエラーが表示されるはずです．このエラーは変数`a`が未定義であるというエラーです．さらに，`a = 1`のセルを実行した後`a`のセルを実行してください．このエラーは起きず`1`が出力されます．\n",
    "\n",
    "```\n",
    "---------------------------------------------------------------------------\n",
    "NameError                                 Traceback (most recent call last)\n",
    "<ipython-input-1-3f786850e387> in <cell line: 1>()\n",
    "----> 1 a\n",
    "\n",
    "NameError: name 'a' is not defined\n",
    "```\n"
   ]
  },
  {
   "cell_type": "markdown",
   "metadata": {
    "id": "5Pccdv_UnDIQ"
   },
   "source": [
    "### 1.3 コードセルの出力\n",
    "コードセルを実行するとコードの出力がコードの下に表示されます．\n",
    "レポートを提出するときは，出力を残したままipynbファイルをダウンロードして提出してください．\n",
    "\n",
    "**練習**\n",
    "ファイルメニューから「ダウンロード」「ipynbをダウンロード」と進んでこのノートブックをダウンロードしてください．\n",
    "自分のPCにダウンロードしたWeek2.ipynbファイルがあることを確認しなさい．\n",
    "確認できたらダウンロードしたファイルは紛らわしいので削除しましょう．\n",
    "\n",
    "次のセルのように複数の文を一つのセルにまとめて書くことができます．実行結果として出力されるのは最後の文だけです．`2`が出力されます．\n",
    "\n",
    "**練習**\n",
    "途中の値を出力したい場合は`print`関数を使います．`a`の部分を`print(a)`に書き替えて`a`の値`1`と`b`の値`2`が出力されることを確かめなさい．"
   ]
  },
  {
   "cell_type": "code",
   "execution_count": null,
   "metadata": {
    "colab": {
     "base_uri": "https://localhost:8080/"
    },
    "executionInfo": {
     "elapsed": 11,
     "status": "ok",
     "timestamp": 1712302143041,
     "user": {
      "displayName": "北須賀輝明",
      "userId": "08683967670490393975"
     },
     "user_tz": -540
    },
    "id": "wWiONwOjmgT7",
    "outputId": "58c8e599-5bc1-4b7c-ed57-98bfff7f3dd1"
   },
   "outputs": [],
   "source": [
    "a = 1\n",
    "b = 2\n",
    "a\n",
    "b"
   ]
  },
  {
   "cell_type": "markdown",
   "metadata": {},
   "source": [
    "### 1.4 関数を定義する\n",
    "\n",
    "関数の説明のために，次のコードで7つの変数に整数を代入します．"
   ]
  },
  {
   "cell_type": "code",
   "execution_count": null,
   "metadata": {},
   "outputs": [],
   "source": [
    "a, b, c, d, e, f, g = [16, 9, 49, 36, 4, 1, 25]\n",
    "print(a, b, c, d, e, f, g)"
   ]
  },
  {
   "cell_type": "markdown",
   "metadata": {},
   "source": [
    "**練習**\n",
    "`func_print(a, b, c, d)`関数を定義して一度呼び出している．\n",
    "次のコードの`....`の3箇所で，この関数を次のように呼び出しなさい．\n",
    "関数の実体を構成する実行文は字下げされていることに注意しなさい．\n",
    "```\n",
    "r = func_print(b, c, d, e)\n",
    "r = func_print(c, d, e, f)\n",
    "r = func_print(d, e, f, g)\n",
    "```\n",
    "出力を予想してから実行しなさい．\n",
    "次のように出力されたら正しく呼び出せています．\n",
    "```\n",
    "func_print 16 9 49 36\n",
    "r1 36\n",
    "func_print 9 49 36 4\n",
    "r2 4\n",
    "func_print 49 36 4 1\n",
    "r3 1\n",
    "func_print 9 49 36 4\n",
    "r4 4\n",
    "```"
   ]
  },
  {
   "cell_type": "code",
   "execution_count": null,
   "metadata": {},
   "outputs": [],
   "source": [
    "def func_print(x, y, z, t):\n",
    "  print('func_print', x, y, z, t)\n",
    "  return t\n",
    "\n",
    "r = func_print(a, b, c, d)\n",
    "print('r1', r)\n",
    "....\n",
    "print('r2', r)\n",
    "....\n",
    "print('r3', r)\n",
    "....\n",
    "print('r4', r)"
   ]
  },
  {
   "cell_type": "markdown",
   "metadata": {},
   "source": [
    "変数の組合せを変えながら同じ計算を4回しているコードを以下に示します．\n",
    "次の練習でこの4回の処理の繰り返しを関数にまとめてください．"
   ]
  },
  {
   "cell_type": "code",
   "execution_count": null,
   "metadata": {},
   "outputs": [],
   "source": [
    "s = a + b + c\n",
    "t = d\n",
    "r = s / t\n",
    "print(r)\n",
    "s = b + c + d\n",
    "t = e\n",
    "r = s / t\n",
    "print(r)\n",
    "s = c + d + e\n",
    "t = f\n",
    "r = s / t\n",
    "print(r)\n",
    "s = d + e + f\n",
    "t = a\n",
    "r = s / t\n",
    "print(r)"
   ]
  },
  {
   "cell_type": "markdown",
   "metadata": {},
   "source": [
    "**練習**\n",
    "次のコードでは，上のコードの同じ部分を`func`関数の呼び出しに書き換えている．\n",
    "上の変数`r`の値を返す関数になるように`func`関数定義の`....`の部分を書きなさい．\n",
    "\n",
    "上のコードの同じ部分というのは次の3行である．\n",
    "変数名が変わることを除いて3つの変数の和を別の変数で割るという式は同じである．\n",
    "```\n",
    "s = a + b + c\n",
    "t = d\n",
    "r = s / t\n",
    "```"
   ]
  },
  {
   "cell_type": "code",
   "execution_count": null,
   "metadata": {},
   "outputs": [],
   "source": [
    "def func(a, b, c, d):\n",
    "  ....\n",
    "  return r\n",
    "\n",
    "r = func(a, b, c, d)\n",
    "print(r)\n",
    "r = func(b, c, d, e)\n",
    "print(r)\n",
    "r = func(c, d, e, f)\n",
    "print(r)\n",
    "r = func(b, c, d, e)\n",
    "print(r)"
   ]
  },
  {
   "cell_type": "markdown",
   "metadata": {},
   "source": [
    "### 1.5 もっとColaboratoryを知りたい\n",
    "\n",
    "もっとColaboratoryを知りたい人は，\n",
    "[Overview of Colaboratory Features](https://colab.research.google.com/notebooks/basic_features_overview.ipynb)\n",
    "を試しましょう．"
   ]
  }
 ],
 "metadata": {
  "colab": {
   "collapsed_sections": [
    "PubQ0tBIkVIQ"
   ],
   "provenance": []
  },
  "kernelspec": {
   "display_name": "Python 3 (ipykernel)",
   "language": "python",
   "name": "python3"
  },
  "language_info": {
   "codemirror_mode": {
    "name": "ipython",
    "version": 3
   },
   "file_extension": ".py",
   "mimetype": "text/x-python",
   "name": "python",
   "nbconvert_exporter": "python",
   "pygments_lexer": "ipython3",
   "version": "3.12.2"
  }
 },
 "nbformat": 4,
 "nbformat_minor": 4
}
