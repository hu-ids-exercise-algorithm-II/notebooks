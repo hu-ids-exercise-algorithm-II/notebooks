{
 "cells": [
  {
   "cell_type": "markdown",
   "metadata": {
    "id": "iAgWpkVC3KVm"
   },
   "source": [
    "# 情報科学演習II アルゴリズムとデータ構造II 第2週 1冊目\n",
    "\n",
    "#### 第2週目次\n",
    "\n",
    "1. ダイクストラのアルゴリズムの簡単な実装（1冊目）\n",
    "2. 実装のクラス化（2冊目）\n",
    "3. 優先度付きキュー（3冊目）\n",
    "4. ダイクストラのアルゴリズムの効率的な実装（4冊目）"
   ]
  },
  {
   "cell_type": "markdown",
   "metadata": {
    "id": "CFf_w1bm5i9P"
   },
   "source": [
    "## 1. ダイクストラのアルゴリズムの簡単な実装\n",
    "\n",
    "ダイクストラのアルゴリズムは単一始点の最短経路問題を効率よく解く解法です．\n",
    "この章ではリストを使った簡単な実装をします．\n",
    "第1週4冊目の6.3節で示した疑似コードをPythonで書きます．\n",
    "アルゴリズムの詳細は第1週6.3節で示しています．\n",
    "第1週6.3節を横に表示しながらこの章を進めるのがよいでしょう．\n",
    "\n",
    "優先度付きキューを用いた効率的な実装は4章でします．"
   ]
  },
  {
   "cell_type": "markdown",
   "metadata": {
    "id": "CFf_w1bm5i9P"
   },
   "source": [
    "### 1.1 準備とnetworkxの復習\n",
    "\n",
    "次の二つのセルは準備ですので，実行してください．\n",
    "二つ目のセルで必要なモジュールを`import`し，いくつかの関数を定義しておきます．"
   ]
  },
  {
   "cell_type": "code",
   "execution_count": null,
   "metadata": {},
   "outputs": [],
   "source": [
    "!apt install libgraphviz-dev\n",
    "!pip install pygraphviz\n",
    "# このセルの実行は1分近くかかるし出力も多い（100行近い）\n",
    "# 最終行は Successfully installed pygraphviz-x.xx\n",
    "# x.xxの部分は1.13などのバージョン番号\n",
    "# 2度目の実行は短時間で終わり，出力は10行程度である．2度実行した場合の最終行は次のようになる．(y.yyとx.xx)はバージョン番号\n",
    "# Requirement already satisfied: pygraphviz in /usr/local/lib/pythony.yy/dist-packages (x.xx)"
   ]
  },
  {
   "cell_type": "code",
   "execution_count": null,
   "metadata": {
    "id": "CFf_w1bm5i9P"
   },
   "outputs": [],
   "source": [
    "import networkx as nx\n",
    "import math\n",
    "import pygraphviz as pgv\n",
    "from IPython.display import Image, display_png # Imageクラス\n",
    "from test import support # sortdict関数\n",
    "\n",
    "# グラフの頂点のリストと辺のリストを出力する関数\n",
    "def print_graph(G): # GはnetworkxのGraphクラス (networkx.classes.graph.Graphクラス)\n",
    "  print('print_graph:')\n",
    "  print('  nodes', list(G.nodes))\n",
    "  print('  edges', list(G.edges)) # 辺の重みも出力するにはedgesの代わりにedges.data()\n",
    "  \n",
    "# グラフを図示する関数\n",
    "def draw_graph(G):\n",
    "  A = nx.nx_agraph.to_agraph(G)\n",
    "  for edge in G.edges(data='weight'):\n",
    "    u, v, d = edge\n",
    "    A.get_edge(u, v).attr['label'] = d\n",
    "\n",
    "  A.layout(args='-Nshape=circle')  # default prog='neato' \n",
    "  A.draw('tmp.png')\n",
    "  display_png(Image('tmp.png'))\n",
    "\n",
    "# グラフのサンプル\n",
    "def sample_graph1():\n",
    "  G = nx.Graph() # 無向グラフ\n",
    "  for i,j,w in [[0, 1, 5], [0, 4, 9], [0, 7, 8], [1, 2, 12], [1, 3, 15], \n",
    "                [1, 7, 4], [2, 3, 3], [2, 6, 11], [3, 6, 9], [4, 5, 4], \n",
    "                [4, 7, 5], [5, 2, 1], [5, 6, 13], [7, 2, 7], [7, 5, 6]]:\n",
    "    G.add_edge(i, j, weight=w) # weightはnetworkx, labelはgraphviz\n",
    "  return G\n",
    "\n",
    "G1 = sample_graph1()\n",
    "L1 = nx.get_edge_attributes(G1, 'weight') # L1は辞書型でキーは辺，値は重み（辺の長さ），\n",
    "answer_d1 = nx.single_source_dijkstra_path_length(G1, 0)\n",
    "print('G1の辺の長さ L1 = ', L1)\n",
    "print('グラフ G1')\n",
    "draw_graph(G1)\n"
   ]
  },
  {
   "cell_type": "markdown",
   "metadata": {},
   "source": [
    "networkxの復習をします．\n",
    "上に図示した7頂点のグラフG1を使います．\n",
    "\n",
    "**練習**\n",
    "次のコードセルでグラフG1の頂点のリストを出力しなさい．\n",
    "`list(G1.nodes)`を使います．\n",
    "`[0, 1, 4, 7, 2, 3, 6, 5]`が出力されたら正解です．"
   ]
  },
  {
   "cell_type": "code",
   "execution_count": null,
   "metadata": {},
   "outputs": [],
   "source": [
    "# 頂点のリスト\n"
   ]
  },
  {
   "cell_type": "markdown",
   "metadata": {},
   "source": [
    "**練習**\n",
    "次のコードセルでグラフG1の頂点0の隣接頂点のリストを出力しなさい．\n",
    "`list(G1.adj[0])`を使います．\n",
    "`[1, 4, 7]`が出力されたら正解です．\n",
    "\n",
    "頂点7の隣接頂点は`[0, 1, 2, 4, 5]`です．\n",
    "順番は問いません．"
   ]
  },
  {
   "cell_type": "code",
   "execution_count": null,
   "metadata": {},
   "outputs": [],
   "source": [
    "# 隣接頂点のリスト\n"
   ]
  },
  {
   "cell_type": "markdown",
   "metadata": {},
   "source": [
    "`relax`関数で辺の長さを読み出しますので，辺の長さを読み出す練習をします．\n",
    "辺の長さが格納されているデータ型は辞書です．\n",
    "\n",
    "**練習**\n",
    "グラフG1には辺(0, 1)があり，この辺の長さは5です．\n",
    "グラフG1の辺の長さ（重み）は辞書`L1`に格納されています．\n",
    "次の3つのセルを実行するとわかりますが，`L1`のキーとして`(0, 1)`はあるが`(1, 0)`はありません．\n",
    "`i`と`j`を変更して他の辺(2, 7)についても一方のキーしかないことを確かめなさい．"
   ]
  },
  {
   "cell_type": "code",
   "execution_count": null,
   "metadata": {},
   "outputs": [],
   "source": [
    "# L1のキーのリスト\n",
    "list(L1)"
   ]
  },
  {
   "cell_type": "code",
   "execution_count": null,
   "metadata": {},
   "outputs": [],
   "source": [
    "i = 0\n",
    "j = 1\n",
    "L1[(i, j)] # 辺(i, j)の長さ"
   ]
  },
  {
   "cell_type": "code",
   "execution_count": null,
   "metadata": {},
   "outputs": [],
   "source": [
    "L1[(j, i)] # 辺(j, i)の長さ"
   ]
  },
  {
   "cell_type": "code",
   "execution_count": null,
   "metadata": {},
   "outputs": [],
   "source": [
    "(i, j) in L1 # 辺(i, j)が辞書L1に含まれているか"
   ]
  },
  {
   "cell_type": "code",
   "execution_count": null,
   "metadata": {},
   "outputs": [],
   "source": [
    "(j, i) in L1 # 辺(j, i)が辞書L1に含まれているか"
   ]
  },
  {
   "cell_type": "markdown",
   "metadata": {},
   "source": [
    "**練習**\n",
    "グラフG1の辺(u, v)の長さを辞書`L1`で調べて変数luvに格納するコードになるように次のセルの`....`の部分を書きなさい．\n",
    "`L1`のキーに(u, v)がある場合と(v, u)がある場合があるので`if`文で場合分けすること．\n",
    "\n",
    "u = 0, v = 1だと辺(u, v)の長さ5を出力すること．\n",
    "u = 1, v = 0に書き換えても，辺(u, v)の長さ5を出力すること．\n",
    "u = 5, v = 6 や u = 6, v = 5に書き換えると辺(u, v)の長さ13を出力すること．"
   ]
  },
  {
   "cell_type": "code",
   "execution_count": null,
   "metadata": {},
   "outputs": [],
   "source": [
    "L = L1\n",
    "u = 0\n",
    "v = 1\n",
    "if .... :\n",
    "  luv = ....\n",
    "else:\n",
    "  luv = ....\n",
    "luv"
   ]
  },
  {
   "cell_type": "markdown",
   "metadata": {},
   "source": [
    "### 1.2 dijkstra関数をPythonで書く\n",
    "\n",
    "第1週6.3節の疑似コードをPythonのコードに書き換えます．\n",
    "次のコードセルに前回6.3節のdijkstra関数をコピーしてあります．\n",
    "試しに実行しても文法エラー(SyntaxError)で関数が定義できませんね．\n",
    "\n",
    "**練習**\n",
    "次のコードのdijkstra関数を上から順に読んで，Python言語に合うように書き換えなさい．\n",
    "次のように書き換えればよいでしょう．\n",
    "\n",
    "- 関数を定義するときは関数名の前に`def`をつけます．\n",
    "  \n",
    "  `def dijkstra(G, L, s):`\n",
    "- `頂点u`という日本語混じりの変数名を`u`に書き換えます．\n",
    "- 頂点集合`V`をnetworkxの頂点のリストに書き換えます．\n",
    "  グラフ`G`の頂点のリストは，1.1節で練習したように`list(G.nodes)`です．\n",
    "- `Sにuを加える`は`S`が集合型ですから`S.add(u)`と書き換えます．\n",
    "- `頂点v`という日本語混じりの変数名を`v`に書き換えます．\n",
    "- `uの隣接頂点`をnetworkxの隣接頂点リストに書き換えます．\n",
    "  1.1節で練習したように`list(G.adj[u])`がグラフ`G`の頂点`u`の隣接頂点リストです．"
   ]
  },
  {
   "cell_type": "code",
   "execution_count": null,
   "metadata": {},
   "outputs": [],
   "source": [
    "d = {} # d[v]は頂点sから頂点vまでの距離\n",
    "Q = [] # 距離が確定していない頂点のリスト\n",
    "pi = {} # pi[v]は短い経路上で，vの直前にある頂点\n",
    "\n",
    "# sから各頂点への最短距離を返す\n",
    "# G: グラフ, L: Gの各辺の長さの辞書, s: 始点とする頂点\n",
    "dijkstra(G, L, s):\n",
    "  initialize_single_source(G) # すべての頂点uについて距離d[u]を初期化する\n",
    "  S = set() # Sは空集合\n",
    "  \n",
    "  # キューQの初期化\n",
    "  for 頂点u in V: # Vに含まれるそれぞれの頂点uに対して\n",
    "    insert(u) # Qに頂点uを加える\n",
    "\n",
    "  # 始点sの距離を0にする\n",
    "  d[s] = 0\n",
    "\n",
    "  # 最短距離を求める\n",
    "  while Q が空集合でない: # Qが空集合になるまで\n",
    "    頂点u = extract_min()   #   Qから最小値の頂点uを取り出す\n",
    "    S に u を加える       #   Sに頂点uを加える\n",
    "    for 頂点v in uの隣接頂点: #   uに隣接するそれぞれの頂点に対して\n",
    "      relax(u, v, L) #     頂点vへの二つの経路のうち短いものを残しキューの並びも調整する"
   ]
  },
  {
   "cell_type": "markdown",
   "metadata": {},
   "source": [
    "上のセルの`dijkstra`関数をPython言語に書き換えると，このセルを実行しても文法エラー(SyntaxError)は起きません．\n",
    "\n",
    "次のコードセルで作成した`dijkstra`関数を呼び出してみましょう．\n",
    "`initialize_single_source`など未定義の関数があるので呼び出すとエラー(NameError)になります．"
   ]
  },
  {
   "cell_type": "code",
   "execution_count": null,
   "metadata": {},
   "outputs": [],
   "source": [
    "dijkstra(G1, L1, 0)"
   ]
  },
  {
   "cell_type": "markdown",
   "metadata": {},
   "source": [
    "`dijkstra`関数から呼び出す関数をこれから作成します．\n",
    "このノートブックの終わりでは`dijkstra`関数が動作するようにしましょう．\n",
    "前回6.3節の疑似コードを確認しながら次の4つの関数を書いてください．\n",
    "\n",
    "- initialize_single_source(G)\n",
    "- insert(u)\n",
    "- extract_min()\n",
    "- relax(u, v, L)\n",
    "\n",
    "**練習**\n",
    "`initialize_single_source(G)`関数を次のセルに定義しなさい．\n",
    "引数の`G`はnetworkxで表した無向グラフです．\n",
    "無限大は`math.inf`と書きます．"
   ]
  },
  {
   "cell_type": "code",
   "execution_count": null,
   "metadata": {},
   "outputs": [],
   "source": [
    "# すべての頂点uについて距離d[u]を初期化する．距離は無限大にする．\n",
    "def initialize_single_source(G):\n",
    "  for 頂点v in V: # VはグラフGの頂点の集合\n",
    "    d[v] = 無限大\n",
    "    pi[v] = -1"
   ]
  },
  {
   "cell_type": "markdown",
   "metadata": {},
   "source": [
    "次のセルで`initialize_single_source`関数の動作を確認しましょう．\n",
    "出力が次の2行のように慣れば期待したように動作しています．\n",
    "頂点の並び順は問いません．\n",
    "\n",
    "```\n",
    "d =  {0: inf, 1: inf, 2: inf, 3: inf, 4: inf, 5: inf, 6: inf, 7: inf}\n",
    "pi =  {0: -1, 1: -1, 2: -1, 3: -1, 4: -1, 5: -1, 6: -1, 7: -1}\n",
    "```"
   ]
  },
  {
   "cell_type": "code",
   "execution_count": null,
   "metadata": {},
   "outputs": [],
   "source": [
    "d = {}\n",
    "pi = {}\n",
    "initialize_single_source(G1)\n",
    "print('d = ', d)\n",
    "print('pi = ', pi)"
   ]
  },
  {
   "cell_type": "markdown",
   "metadata": {},
   "source": [
    "**練習**\n",
    "`insert(u)`関数を次のセルに定義しなさい．\n",
    "`u`は頂点（の番号）です．\n",
    "\n",
    "ヒント：`Q`は頂点のリストです．\n",
    "リストに要素を追加するには`append`関数を使います．\n",
    "詳しくは第1週の4.1節や[リストの説明2](https://docs.python.org/ja/3/tutorial/datastructures.html#more-on-lists)を読んでください．"
   ]
  },
  {
   "cell_type": "code",
   "execution_count": null,
   "metadata": {},
   "outputs": [],
   "source": [
    "# Qに頂点uを加える\n",
    "def insert(u):\n",
    "  キューQに頂点uを加える．"
   ]
  },
  {
   "cell_type": "markdown",
   "metadata": {},
   "source": [
    "次のセルを実行して`insert`関数の動作を確認しましょう．\n",
    "リスト`Q`の長さが2から3に一つ増えることだけ確認することにします．\n",
    "`2 -> 3`と出力されたらできたことにしましょう．\n",
    "\n",
    "いい加減な確認しかしていないので，あとで`dijkstra`関数の動作が期待と異なるときはこの関数を修正する必要があるかもしれません．"
   ]
  },
  {
   "cell_type": "code",
   "execution_count": null,
   "metadata": {},
   "outputs": [],
   "source": [
    "Q = [1, 5]\n",
    "print(len(Q), end = ' -> ')\n",
    "insert(3)\n",
    "print(len(Q))"
   ]
  },
  {
   "cell_type": "markdown",
   "metadata": {},
   "source": [
    "**練習**\n",
    "リスト`Q`のすべての頂点の距離が出力されるように，次のコードの`....`の部分を書き換えなさい．\n",
    "`for`文を使って`extract_min()`関数でこの`for`文を使います．"
   ]
  },
  {
   "cell_type": "code",
   "execution_count": null,
   "metadata": {},
   "outputs": [],
   "source": [
    "for v in ....:\n",
    "  print(d[v])"
   ]
  },
  {
   "cell_type": "markdown",
   "metadata": {},
   "source": [
    "**練習**\n",
    "`extract_min()`関数を次のセルに定義しなさい．\n",
    "この関数は最短距離の頂点を返します．\n",
    "最短距離の頂点はリスト`Q`から削除します．\n",
    "\n",
    "ヒント：\n",
    "`Q`は距離が確定していない頂点のリストです．\n",
    "最短距離の頂点を探すには`Q`のすべての頂点`v`の距離`d[v]`を比べる必要があります．\n",
    "リストの各要素`v`に対して処理を繰り返すには`for v in Q:`のように`for`文を使います．\n",
    "リスト`Q`から要素を取り除くには`remove`関数を使います．"
   ]
  },
  {
   "cell_type": "code",
   "execution_count": null,
   "metadata": {},
   "outputs": [],
   "source": [
    "# Qから最小値の頂点uを取り出す\n",
    "def extract_min():\n",
    "  Qから距離d[v]が最も短い頂点vを探して返す．"
   ]
  },
  {
   "cell_type": "markdown",
   "metadata": {},
   "source": [
    "次の一連のセルを実行して`extract_min`関数の動作を確認しましょう．\n",
    "出力の`(i, j)`は頂点iの距離がjであるというふうに読んでください．\n",
    "コードセルの末尾に期待される出力をコメントで書いていますので，出力が一致することを確認しましょう．"
   ]
  },
  {
   "cell_type": "code",
   "execution_count": null,
   "metadata": {},
   "outputs": [],
   "source": [
    "d = {1: 5, 2: 4, 3: 9, 4: 1, 5: 7}\n",
    "Q = [1, 5, 3]\n",
    "u = extract_min()\n",
    "u, d[u]\n",
    "# (1, 5)"
   ]
  },
  {
   "cell_type": "code",
   "execution_count": null,
   "metadata": {},
   "outputs": [],
   "source": [
    "Q = [5, 3, 1]\n",
    "u = extract_min()\n",
    "u, d[u]\n",
    "# (1, 5)"
   ]
  },
  {
   "cell_type": "code",
   "execution_count": null,
   "metadata": {},
   "outputs": [],
   "source": [
    "Q = [3, 5, 1]\n",
    "u = extract_min()\n",
    "u, d[u]\n",
    "# (1, 5)"
   ]
  },
  {
   "cell_type": "code",
   "execution_count": null,
   "metadata": {},
   "outputs": [],
   "source": [
    "Q = [2, 3, 5, 1]\n",
    "u = extract_min()\n",
    "u, d[u]\n",
    "# (2, 4)"
   ]
  },
  {
   "cell_type": "code",
   "execution_count": null,
   "metadata": {},
   "outputs": [],
   "source": [
    "Q = [3]\n",
    "u = extract_min()\n",
    "u, d[u]\n",
    "# (3, 9)"
   ]
  },
  {
   "cell_type": "code",
   "execution_count": null,
   "metadata": {},
   "outputs": [],
   "source": [
    "Q = [1, 2, 3, 4, 5]\n",
    "u = extract_min()\n",
    "u, d[u]\n",
    "# (4, 1)"
   ]
  },
  {
   "cell_type": "markdown",
   "metadata": {},
   "source": [
    "最後の関数は`relax`です．\n",
    "\n",
    "**練習**\n",
    "`relax(u, v, L)`関数を次のセルに定義しなさい．\n",
    "`relax`関数が呼び出されるのは頂点`u`の最短経路が求まったときです．\n",
    "頂点`v`は頂点`u`の隣の頂点で，頂点`v`にもっと短い経路が見つかったらそれに更新するのがこの関数の役割です．\n",
    "`L`は辺の長さを格納した辞書です．\n",
    "\n",
    "頂点`u`と頂点`v`の辺の長さを`luv`とすると，以下の式が成り立つならば，\n",
    "`u`を通って頂点`v`に至る経路が，これまで見つかった経路より短い`v`への経路です．\n",
    "\n",
    "$$ d[v] > d[u] + luv $$\n",
    "\n",
    "より短い経路であれば次のように距離`d[v]`と直前の頂点`pi[v]`を新しいものに更新します．\n",
    "\n",
    "```\n",
    "d[v] = d[u] + luv\n",
    "pi[v] = u\n",
    "```"
   ]
  },
  {
   "cell_type": "code",
   "execution_count": null,
   "metadata": {},
   "outputs": [],
   "source": [
    "# 頂点vへの二つの経路のうち短いものを残す\n",
    "def relax(u, v, L):\n",
    "   # luvに辺(u, v)の長さを代入する\n",
    "  if (u, v) in L:\n",
    "    luv = L[(u, v)]\n",
    "  else:\n",
    "    luv = L[(v, u)]\n",
    "\n",
    "  頂点uの距離d[u]に辺(u,v)の長さluvを加えた距離をdv2とする．\n",
    "  もし，dv2がこれまでの距離d[v]より短ければ，dv2をd[v]に代入し，pi[v]にuを代入する．"
   ]
  },
  {
   "cell_type": "markdown",
   "metadata": {},
   "source": [
    "### 1.3 dijkstra関数の動作を確かめる\n",
    "\n",
    "`dijkstra`関数と他4つの関数ができたので実行してみます．"
   ]
  },
  {
   "cell_type": "code",
   "execution_count": null,
   "metadata": {
    "scrolled": true
   },
   "outputs": [],
   "source": [
    "d = {} # d[v]は頂点sから頂点vまでの距離\n",
    "Q = [] # 距離が確定していない頂点のリスト\n",
    "pi = {} # pi[v]は短い経路上で，vの直前にある頂点\n",
    "\n",
    "s = 0\n",
    "dijkstra(G1, L1, s)\n",
    "d"
   ]
  },
  {
   "cell_type": "markdown",
   "metadata": {},
   "source": [
    "次のセルで`dijkstra`関数で求めた距離が正しいか確認しましょう．\n",
    "グラフG1のすべての頂点について始点0からの距離を求めています．"
   ]
  },
  {
   "cell_type": "code",
   "execution_count": null,
   "metadata": {},
   "outputs": [],
   "source": [
    "if d == answer_d1:\n",
    "  print('すべての頂点の距離が一致しました')\n",
    "else:\n",
    "  print('距離が間違っている場合があります．')\n",
    "  print()\n",
    "  for u, du in d.items():\n",
    "    if du != answer_d1[u]:\n",
    "      print(F'始点{s}から頂点{u}への最短距離は{answer_d1[u]}ですが，{du}と求めています．')\n",
    "  draw_graph(G1)"
   ]
  },
  {
   "cell_type": "markdown",
   "metadata": {},
   "source": [
    "**デバッグ**\n",
    "正しく計算できていない場合は，`dijkstra(G, L, s)`関数の`while`ループのところで`Q`と`d`の値を出力して動作を確認するのがいいでしょう．\n",
    "```\n",
    "  while len(Q) > 0: # Qが空集合になるまで\n",
    "    print('Q = ', Q)\n",
    "    print('d = ', d)\n",
    "    u = extract_min()   #   Qから最小値の頂点uを取り出す\n",
    "```"
   ]
  }
 ],
 "metadata": {
  "colab": {
   "provenance": []
  },
  "kernelspec": {
   "display_name": "Python 3 (ipykernel)",
   "language": "python",
   "name": "python3"
  },
  "language_info": {
   "codemirror_mode": {
    "name": "ipython",
    "version": 3
   },
   "file_extension": ".py",
   "mimetype": "text/x-python",
   "name": "python",
   "nbconvert_exporter": "python",
   "pygments_lexer": "ipython3",
   "version": "3.12.2"
  }
 },
 "nbformat": 4,
 "nbformat_minor": 4
}
