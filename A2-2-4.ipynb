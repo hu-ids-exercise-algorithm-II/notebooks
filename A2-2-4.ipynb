{
 "cells": [
  {
   "cell_type": "markdown",
   "metadata": {
    "id": "iAgWpkVC3KVm"
   },
   "source": [
    "# 情報科学演習II アルゴリズムとデータ構造II 第2週 4冊目\n",
    "\n",
    "#### 第2週目次\n",
    "\n",
    "1. ダイクストラのアルゴリズムの簡単な実装（1冊目）\n",
    "2. 実装のクラス化（2冊目）\n",
    "3. 優先度付きキュー（3冊目）\n",
    "4. ダイクストラのアルゴリズムの効率的な実装（4冊目）"
   ]
  },
  {
   "cell_type": "markdown",
   "metadata": {},
   "source": [
    "今週4冊目のノートブックです．\n",
    "同一の仮想マシンで混乱するのを防ぐ目的で別のノートブックにしています．\n",
    "2冊目と3冊目のノートブックを見やすい場所に表示しておきましょう．"
   ]
  },
  {
   "cell_type": "markdown",
   "metadata": {
    "id": "CFf_w1bm5i9P"
   },
   "source": [
    "## 4. ダイクストラのアルゴリズムの効率的な実装\n",
    "\n",
    "この章では，ダイクストラのアルゴリズムを効率的に実装したSecondImplementationクラスを作成します．\n",
    "2章で実装したダイクストラのアルゴリズムに優先度付きキューを組み込んで高速化します．\n",
    "優先度付きキューの使い方は3章で学びました．\n",
    "\n",
    "次の2つのセルは準備ですので，実行してください．\n",
    "二つ目のセルで必要なモジュールを`import`し，いくつかの関数を定義しておきます．"
   ]
  },
  {
   "cell_type": "code",
   "execution_count": null,
   "metadata": {},
   "outputs": [],
   "source": [
    "!apt install libgraphviz-dev\n",
    "!pip install pygraphviz\n",
    "# 最終行は Successfully installed pygraphviz-x.xx\n",
    "# x.xxの部分は1.13などのバージョン番号"
   ]
  },
  {
   "cell_type": "code",
   "execution_count": null,
   "metadata": {},
   "outputs": [],
   "source": [
    "import networkx as nx\n",
    "import math\n",
    "import pygraphviz as pgv\n",
    "from IPython.display import SVG, display_svg\n",
    "from test import support # sortdict関数\n",
    "\n",
    "# グラフの頂点のリストと辺のリストを出力する関数\n",
    "def print_graph(G): # GはnetworkxのGraphクラス (networkx.classes.graph.Graphクラス)\n",
    "  print('print_graph:')\n",
    "  print('  nodes', list(G.nodes))\n",
    "  print('  edges', list(G.edges)) # 辺の重みも出力するにはedgesの代わりにedges.data()\n",
    "  \n",
    "# グラフを図示する関数\n",
    "def draw_graph(G):\n",
    "  A = nx.nx_agraph.to_agraph(G)\n",
    "  for edge in G.edges(data='weight'):\n",
    "    u, v, d = edge\n",
    "    A.get_edge(u, v).attr['label'] = d\n",
    "\n",
    "  A.layout(args='-Nshape=circle')  # default prog='neato' \n",
    "  A.draw('tmp.svg')\n",
    "  display_svg(SVG('tmp.svg'))\n",
    "\n",
    "# グラフのサンプル\n",
    "def sample_graph1():\n",
    "  G = nx.Graph() # 無向グラフ\n",
    "  for i,j,w in [[0, 1, 5], [0, 4, 9], [0, 7, 8], [1, 2, 12], [1, 3, 15], \n",
    "                [1, 7, 4], [2, 3, 3], [2, 6, 11], [3, 6, 9], [4, 5, 4], \n",
    "                [4, 7, 5], [5, 2, 1], [5, 6, 13], [7, 2, 7], [7, 5, 6]]:\n",
    "    G.add_edge(i, j, weight=w) # weightはnetworkx, labelはgraphviz\n",
    "  return G\n",
    "\n",
    "G1 = sample_graph1()\n",
    "L1 = nx.get_edge_attributes(G1, 'weight') # w1は辞書型でキーは辺，値は重み（辺の長さ），\n",
    "answer_d1 = nx.single_source_dijkstra_path_length(G1, 0)\n",
    "print('G1の辺の長さ L1 = ', L1)\n",
    "print('グラフ G1')\n",
    "draw_graph(G1)\n",
    "\n",
    "def sample_graph2():\n",
    "  G = nx.Graph() # 無向グラフ\n",
    "  for i,j,w in [[7, 5, 6], [7, 2, 7], [5, 6, 13], [5, 2, 1], [4, 7, 5], \n",
    "                [4, 5, 4], [3, 6, 9], [2, 6, 11], [2, 3, 3], [1, 7, 4], \n",
    "                [1, 3, 15], [1, 2, 12], [0, 7, 8], [0, 4, 9], [0, 1, 5]]:\n",
    "    G.add_edge(i, j, weight=w) # weightはnetworkx, labelはgraphviz\n",
    "  L = nx.get_edge_attributes(G, 'weight')\n",
    "  print('edge length', w)\n",
    "  return G\n",
    "\n",
    "G2 = sample_graph2()\n",
    "L2 = nx.get_edge_attributes(G2, 'weight')\n",
    "answer_d2 = {0: 0, 1: 5, 2: 14, 3: 17, 4: 9, 5: 13, 6: 25, 7: 8}\n",
    "print('G2の辺の長さ L2 = ', L2)\n",
    "print('グラフ G2')\n",
    "draw_graph(G2)"
   ]
  },
  {
   "cell_type": "markdown",
   "metadata": {},
   "source": [
    "### 4.1 実装\n",
    "\n",
    "次のような方針で効率的なダイクストラのアルゴリズムを実装します．\n",
    "\n",
    "1. クラス名を`SecondImplementation`にします．\n",
    "1. 2章で作成した`FirstImplemetaion`クラスと3章で作成した`DijkstraHeap`クラスの関数をコピーし，必要な変更を加えます．\n",
    "1. `__init__`で初期化するデータ構造は，`FirstImplementation`クラスで使った`d`，`Q`，`pi`に加えて，`DijkstraHeap`クラスの`pos`の4つです．\n",
    "1. 次の2つの関数は`FirstImplemetaion`クラスの同名の関数を使います．\n",
    "   - `dijkstra`関数\n",
    "   - `initialize_single_source`関数\n",
    "1. 次の2つの関数は`FirstImplemetaion`クラスと`DijkstraHeap`クラスの両方にあります．\n",
    "   優先度キューを実装しているので`DijkstraHeap`クラスのものを使います．\n",
    "   - `extract_min`関数\n",
    "   - `insert`関数\n",
    "1. `relax`関数は`FirstImplemetaion`クラスの同名の関数を使います．\n",
    "   ただし，距離が短くなった頂点についてヒープ条件を満たすとは限らないので，ヒープ条件を維持するために`d[v] > d[u] + luv`が成り立つならば`self.heapify_up(self.pos[v])`を呼び出します．\n",
    "   `if`文の部分が次のようになります．\n",
    "\n",
    "   ```\n",
    "       if d[v] > d[u] + luv:\n",
    "         d[v] = d[u] + luv\n",
    "         pi[v] = u\n",
    "         self.heapify_up(self.pos[v]) # この行を追加\n",
    "   ```\n",
    "\n",
    "1. 次の3つの関数は`DijkstraHeap`クラスの同名の関数を使います．\n",
    "   - `heapify_up`関数\n",
    "   - `heapify_down`関数\n",
    "   - `draw`関数\n",
    "\n",
    "1. `dijkstra`関数の`d[s] = 0`の行で頂点sの距離が短くなりますので，\n",
    "   頂点`s`がヒープ条件を満たさない位置にあるかもしれません．\n",
    "   この行の後に，節点sをヒープ条件を満たす位置に移動する処理が必要です．\n",
    "   `heapify_up`関数でこの処理が行えます．\n",
    "\n",
    "動作がおかしい場合は`dijkstra`関数の適当なところに`self.draw()`関数を追加して，ヒープの状態を確認するといいでしょう．\n",
    "\n",
    "**練習**\n",
    "次のコードセルの`....`の部分を上の方針に沿って適切に書き，`SecondImplementation`クラスを定義しなさい．"
   ]
  },
  {
   "cell_type": "code",
   "execution_count": null,
   "metadata": {},
   "outputs": [],
   "source": [
    "class SecondImplementation:\n",
    "    \n",
    "  def __init__(self):\n",
    "    self.d = {}   # d[u]は頂点uの距離\n",
    "    self.Q = []   # 頂点が距離順に格納されたヒープ．Q[0]が最小距離の頂点\n",
    "    self.pos = {} # pos[u]は頂点uのヒープQの位置(添字)．Q[pos[u]]に頂点uが格納されている．\n",
    "    self.pi = {}  # pi[u]は頂点uへの最短経路上で，頂点uの直前にある頂点\n",
    "\n",
    "  def dijkstra(self, G, L, s):\n",
    "    ....\n",
    "    return self.d\n",
    "\n",
    "  def initialize_single_source(self, G):\n",
    "    ....\n",
    "\n",
    "  def insert(self, u): # ヒープに頂点uを追加する\n",
    "    ....\n",
    "\n",
    "  def extract_min(self): # ヒープから最短距離の頂点を取り出す\n",
    "    ....\n",
    "\n",
    "  def relax(self, u, v, L):\n",
    "    ....\n",
    "\n",
    "  def heapify_up(self, i): # ヒープ条件を満たすように，ヒープのi番目の頂点を上に移動する\n",
    "    ....\n",
    "\n",
    "  def heapify_down(self, i): # ヒープ条件を満たすように，ヒープのi番目の頂点を下に移動する\n",
    "    ....\n",
    "\n",
    "  def draw(self, filename = 'tmp'): # ヒープを図示する．ヒープの動作を確認するための関数\n",
    "    ....\n"
   ]
  },
  {
   "cell_type": "markdown",
   "metadata": {},
   "source": [
    "### 4.2 テスト\n",
    "\n",
    "うまく`SecondImplementation`クラスが作れた確かめましょう．\n",
    "\n",
    "**練習**\n",
    "次のコードセルを実行して，\n",
    "`FirstImplementation`クラスと同じ結果が得られることを確かめよ．\n",
    "\n",
    "`d = {0: 0, 1: 5, 2: 14, 3: 17, 4: 9, 5: 13, 6: 25, 7: 8}`が正解です．"
   ]
  },
  {
   "cell_type": "code",
   "execution_count": null,
   "metadata": {},
   "outputs": [],
   "source": [
    "log = False # log = Trueにすると途中経過が出力される\n",
    "\n",
    "c = SecondImplementation()\n",
    "s = 0\n",
    "d = c.dijkstra(G1, L1, s)\n",
    "print(\"d =\", support.sortdict(d)) # 距離の辞書dを出力（頂点でソートして出力)\n",
    "if d == answer_d1:\n",
    "  print('すべての頂点の距離が正しく求められました．')\n",
    "else:\n",
    "  print('距離が間違っている場合があります．')\n",
    "  print()\n",
    "  for u, du in d.items():\n",
    "    if du != answer_d1[u]:\n",
    "      print(F'始点{s}から頂点{u}への最短距離は{answer_d1[u]}ですが，{du}と求めています．')\n",
    "  draw_graph(G1)"
   ]
  },
  {
   "cell_type": "markdown",
   "metadata": {},
   "source": [
    "**練習**\n",
    "もう一つのグラフについても以下のコードセルを実行して確かめましょう．\n",
    "\n",
    "`d = {0: 0, 1: 7, 2: 12, 3: 15, 4: 9, 5: 11, 6: 23, 7: 5}`が正解です．"
   ]
  },
  {
   "cell_type": "code",
   "execution_count": null,
   "metadata": {},
   "outputs": [],
   "source": [
    "log = False # log = Trueにすると途中経過が出力される\n",
    "\n",
    "c = SecondImplementation()\n",
    "s = 0\n",
    "d = c.dijkstra(G2, L2, s)\n",
    "print(\"d =\", support.sortdict(d)) # 距離の辞書dを出力（頂点でソートして出力)\n",
    "if d == answer_d2:\n",
    "  print('すべての頂点の距離が正しく求められました．')\n",
    "else:\n",
    "  print('距離が間違っている場合があります．')\n",
    "  print()\n",
    "  for u, du in d.items():\n",
    "    if du != answer_d2[u]:\n",
    "      print(F'始点{s}から頂点{u}への最短距離は{answer_d1[u]}ですが，{du}と求めています．')\n",
    "  draw_graph(G2)"
   ]
  },
  {
   "cell_type": "markdown",
   "metadata": {},
   "source": [
    "**練習**\n",
    "最後にグラフG1について，始点を変えながら動作を確かめましょう．"
   ]
  },
  {
   "cell_type": "code",
   "execution_count": null,
   "metadata": {
    "scrolled": true
   },
   "outputs": [],
   "source": [
    "for s in range(G1.order()):\n",
    "  d = SecondImplementation().dijkstra(G1, L1, s)\n",
    "  answer_d = nx.single_source_dijkstra_path_length(G1, s)\n",
    "  if d == answer_d:\n",
    "    print(F'始点が{s}のときすべての頂点の距離が正しく求められました．')\n",
    "  else:\n",
    "    print(F'始点が{s}のとき距離が間違っている頂点があります．')\n",
    "    print()\n",
    "    for u, du in d.items():\n",
    "      if du != answer_d[u]:\n",
    "        print(F'始点{s}から頂点{u}への最短距離は{answer_d[u]}ですが，{du}と求めています．')\n",
    "\n",
    "draw_graph(G1)"
   ]
  },
  {
   "cell_type": "markdown",
   "metadata": {},
   "source": [
    "以上です．次回は二つの実装の実行時間を計ります．"
   ]
  }
 ],
 "metadata": {
  "colab": {
   "provenance": []
  },
  "kernelspec": {
   "display_name": "Python 3 (ipykernel)",
   "language": "python",
   "name": "python3"
  },
  "language_info": {
   "codemirror_mode": {
    "name": "ipython",
    "version": 3
   },
   "file_extension": ".py",
   "mimetype": "text/x-python",
   "name": "python",
   "nbconvert_exporter": "python",
   "pygments_lexer": "ipython3",
   "version": "3.12.2"
  }
 },
 "nbformat": 4,
 "nbformat_minor": 4
}
