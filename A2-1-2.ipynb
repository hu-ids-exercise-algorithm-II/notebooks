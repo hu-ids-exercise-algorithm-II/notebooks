{
 "cells": [
  {
   "cell_type": "markdown",
   "id": "f99159b8-e650-414b-a1b0-00cf7811681b",
   "metadata": {},
   "source": [
    "# 情報科学演習II アルゴリズムとデータ構造II 第1週 2冊目\n",
    "\n",
    "#### 第1週目次\n",
    "\n",
    "1. ColabraoryのPythonノートブックに慣れる（1冊目）\n",
    "2. グラフの最短経路問題を解く（2冊目）\n",
    "3. グラフ操作ライブラリnetworkxに慣れる（2冊目）\n",
    "4. リストと集合と辞書（3冊目）\n",
    "5. 要素の探索にかかる速度を比べる（3冊目）\n",
    "6. ダイクストラのアルゴリズムを理解する（4冊目）"
   ]
  },
  {
   "cell_type": "markdown",
   "id": "88cd3032-c47c-4c54-8bf8-d5058d9335f8",
   "metadata": {},
   "source": [
    "## 2. グラフの最短経路問題を解く\n",
    "\n",
    "次のようなグラフが与えられたとき，頂点0から頂点1への経路は赤線の例のように複数ある．\n",
    "このような経路のうち距離が最も短い経路の長さを求めるのが最短経路問題である．\n",
    "このグラフの頂点0から頂点1への最短経路は0-3-4-5-1で，この経路の長さは13である．\n",
    "\n",
    "![](figs/graph-simple-0-1-paths.svg)\n",
    "\n",
    "**練習**\n",
    "グラフを書いた用紙を配布します．\n",
    "グラフ上の頂点0からそれぞれの頂点1, ..., 7への最短経路を求め，用紙に用意した以下のような表に各頂点の最短<u>距離</u>を書きなさい．最短<u>経路</u>を書く必要はありません．\n",
    "\n",
    "| 頂点 | 0 | 1 | 2 | 3 | 4 | 5 | 6 | 7 |\n",
    "| ---  | - | - | - | - | - | - | - | - |\n",
    "| 距離 | 0 | *1 |   |   |   |   |   |   |\n",
    "\n",
    "*1には頂点0から頂点1への最短距離を書く．他の頂点についても同様．\n",
    "\n",
    "授業時間に指示したフォームに各頂点の距離を提出しなさい．"
   ]
  },
  {
   "cell_type": "markdown",
   "id": "1bc22768-7bfd-41f2-9c48-c7a5373c097e",
   "metadata": {},
   "source": [
    "## 3. グラフ操作パッケージ networkx に慣れる\n",
    "\n",
    "この章でグラフを扱う練習をします．\n",
    "次回グラフの最短経路を求めるアルゴリズムをこのパッケージを使って作成するのでよく理解してください．\n",
    "\n",
    "グラフ処理に[networkx](https://networkx.org)を使います．\n",
    "グラフの可視化にgraphvizと[pygraphviz](https://pygraphviz.github.io)を使い，\n",
    "画像の表示にIPython.display.[SVGクラス](https://ipython.readthedocs.io/en/stable/api/generated/IPython.display.html#IPython.display.SVG)とdisplay_svg関数を使います．\n",
    "\n",
    "次の2つのセルでこれらのモジュールやパッケージを`import`します．\n",
    "例えば，今後`nx.hoge()`と書いてあればnetworkxの`hoge`関数を呼び出しているということですし，\n",
    "`SVG(ファイル名)`はファイルの内容を読み込んだオプジェクトを生成します．\n",
    "\n",
    "一つ目のセルはパッケージを仮想マシンにインストールします．\n",
    "`!apt`と`!pip`の2行で1分近く時間がかかります．\n",
    "多くの行が表示されますが，最終行が次のようであれば，内容は気にしないで構いません．\n",
    "行末のx.xxの部分は1.13などのバージョン番号です．\n",
    "```\n",
    "Successfully installed pygraphviz-x.xx\n",
    "```\n",
    "\n",
    "解説：[import文やfrom付きimport文](https://docs.python.org/ja/3/reference/simple_stmts.html#the-import-statement)"
   ]
  },
  {
   "cell_type": "code",
   "execution_count": null,
   "id": "85b3cdfe-da4d-480b-8de0-1e96afc5c708",
   "metadata": {},
   "outputs": [],
   "source": [
    "!apt install libgraphviz-dev\n",
    "!pip install pygraphviz"
   ]
  },
  {
   "cell_type": "code",
   "execution_count": null,
   "id": "c081c24c-f27e-4fbc-ae94-e20bf27084f6",
   "metadata": {},
   "outputs": [],
   "source": [
    "import networkx as nx\n",
    "import pygraphviz as pgv\n",
    "import matplotlib.pyplot as plt\n",
    "from IPython.display import SVG, display_svg"
   ]
  },
  {
   "cell_type": "markdown",
   "id": "fc84fdad-c2d7-4a50-b8dd-265c8655e779",
   "metadata": {},
   "source": [
    "次のセルで無向グラフGを生成します．\n",
    "空のグラフが生成されるので頂点はありません．\n",
    "グラフの生成に使う関数はnetworkxパッケージのGraph関数です．"
   ]
  },
  {
   "cell_type": "code",
   "execution_count": null,
   "id": "22d9b9cd-f697-4dae-830e-ce3d7fdf5aff",
   "metadata": {},
   "outputs": [],
   "source": [
    "G = nx.Graph()"
   ]
  },
  {
   "cell_type": "markdown",
   "id": "4ca74bb8-d6f4-49b9-b61c-70c21d7377ae",
   "metadata": {},
   "source": [
    "次のセルでprint_graph関数とdraw_graph関数を定義しています．\n",
    "これらの関数は今後変更したグラフを確認するために使います．\n",
    "print_graph関数は引数で与えたグラフGの頂点のリストと辺のリストを出力する関数です．\n",
    "draw_graph関数は引数で与えたグラフGを可視化して表示する関数です．\n",
    "\n",
    "解説：\n",
    "変数Aは[pygraphviz](https://pygraphviz.github.io)のグラフで，networkxのグラフGをpygraphvizで表示するためにAに変換しています．\n",
    "\n",
    "解説：\n",
    "頂点のリストはlist(G.nodes)で，辺のリストはlist(G.edges)で取得できます．\n",
    "list(G.edges.data())は辺のリストで，辺の重みが付属するリストです．\n",
    "辺の重みはあとで使います．"
   ]
  },
  {
   "cell_type": "code",
   "execution_count": null,
   "id": "862c99d3-c809-48b8-b343-6974a6249442",
   "metadata": {},
   "outputs": [],
   "source": [
    "def print_graph(G): # GはnetworkxのGraphクラス (networkx.classes.graph.Graphクラス)\n",
    "  print('print_graph:')\n",
    "  print('  nodes', list(G.nodes))\n",
    "  if False: # Falseは辺の重みを出力しない．辺の重みを出力するならTrueにする．\n",
    "    print('  edges', list(G.edges.data())) # 辺の重みも出力する\n",
    "  else:\n",
    "    print('  edges', list(G.edges)) # 辺の重みは出力しない\n",
    "\n",
    "def draw_graph(G, filename = 'tmp'):\n",
    "  A = nx.nx_agraph.to_agraph(G) # networkxのグラフGをpygraphviz用のグラフAに変換\n",
    "  for edge in G.edges(data='weight'): # 辺のweightをlabelにコピー．drawで出力されるのはlabel．\n",
    "    u, v, d = edge\n",
    "    if d != None:\n",
    "      A.get_edge(u, v).attr['label'] = d\n",
    "  A.layout(args='-Nshape=circle')  # default prog='neato' \n",
    "  A.draw(F'{filename}.svg')\n",
    "  display_svg(SVG(F'{filename}.svg'))"
   ]
  },
  {
   "cell_type": "markdown",
   "id": "26387581-2fae-4711-aaa3-ed103b8efd60",
   "metadata": {},
   "source": [
    "空のグラフ`G`に対してこれらの関数を呼び出してみましょう．"
   ]
  },
  {
   "cell_type": "code",
   "execution_count": null,
   "id": "014aa2d3-7861-4ee7-9bdb-566aa911a6f0",
   "metadata": {},
   "outputs": [],
   "source": [
    "print_graph(G)\n",
    "draw_graph(G)"
   ]
  },
  {
   "cell_type": "markdown",
   "id": "e4eb516b-9905-4aab-9f05-932b8b918601",
   "metadata": {},
   "source": [
    "次のセルに示すように`add_node`関数はグラフ`G`に頂点を追加します．\n",
    "辺の追加には`add_edge`関数を使います．\n",
    "次のセルではグラフ`G`に二つの頂点0と1を追加し，辺(0,1)を追加しています．\n",
    "無向グラフなので辺(0,1)と辺(1,0)は同じ一つの辺です．"
   ]
  },
  {
   "cell_type": "code",
   "execution_count": null,
   "id": "5fa11977-203c-440d-8f70-0c211100be33",
   "metadata": {},
   "outputs": [],
   "source": [
    "G.add_node(0)\n",
    "G.add_node(1)\n",
    "G.add_edge(0, 1)\n",
    "print_graph(G)\n",
    "draw_graph(G)"
   ]
  },
  {
   "cell_type": "markdown",
   "id": "0a284327-4c96-40fb-8167-4d657d4344c9",
   "metadata": {},
   "source": [
    "**練習**\n",
    "グラフ`G`からすべての頂点と辺を削除するように，次のコードの`....`の部分に書きなさい．\n",
    "グラフ`G`のすべての頂点を削除する関数は`clear()`です．\n",
    "`G.clear()`のように呼び出します．"
   ]
  },
  {
   "cell_type": "code",
   "execution_count": null,
   "id": "131d45a6-4759-4f4d-ae17-7adcad02bc23",
   "metadata": {},
   "outputs": [],
   "source": [
    "....\n",
    "print_graph(G)\n",
    "draw_graph(G)"
   ]
  },
  {
   "cell_type": "markdown",
   "id": "653f6122-bd13-48f9-9e44-7c58c1e412d3",
   "metadata": {},
   "source": [
    "グラフ`G`に辺(0,1)を追加すると頂点0と1は自動的に追加されます．"
   ]
  },
  {
   "cell_type": "code",
   "execution_count": null,
   "id": "777970c0-ef46-43fe-8d1e-18ed60c77390",
   "metadata": {},
   "outputs": [],
   "source": [
    "G.add_edge(0, 1)\n",
    "print_graph(G)\n",
    "draw_graph(G)"
   ]
  },
  {
   "cell_type": "markdown",
   "id": "e69bd31e-1a22-452e-b36a-50f39f587f39",
   "metadata": {},
   "source": [
    "**練習**\n",
    "2章で配布した用紙に書いたグラフと同じ頂点と枝をグラフ`G`に加えるコードを次のセルに書きなさい．\n",
    "辺の重みについてはこの練習では無視してよい．"
   ]
  },
  {
   "cell_type": "code",
   "execution_count": null,
   "id": "23cdf493-47bc-4b85-b0d7-7b827833e940",
   "metadata": {},
   "outputs": [],
   "source": [
    "...\n",
    "print_graph(G)\n",
    "draw_graph(G)"
   ]
  },
  {
   "cell_type": "markdown",
   "id": "00b594f9-3452-49d6-a7a4-430b016b35c3",
   "metadata": {},
   "source": [
    "辺(0,1)に長さ（重み）4を追加するには次のように書きます．"
   ]
  },
  {
   "cell_type": "code",
   "execution_count": null,
   "id": "101b5733-e30c-4a60-8e3d-e3f1bd4ce86e",
   "metadata": {},
   "outputs": [],
   "source": [
    "G[0][1]['weight'] = 4"
   ]
  },
  {
   "cell_type": "markdown",
   "id": "c1a95b0a-f977-4c88-81b1-7bdf948c825b",
   "metadata": {},
   "source": [
    "辺のリストは`list(G.edges())`で得られますが，長さが含まれません．\n",
    "長さを含めた辺のリストは`list(G.edges.data())`で得られます．\n",
    "\n",
    "**練習**\n",
    "次の2つのセルを実行して`.data`の有無で出力が異なることを確かめなさい．"
   ]
  },
  {
   "cell_type": "code",
   "execution_count": null,
   "id": "52f84fcb-c0a2-44e0-bbaf-3c13839f2a94",
   "metadata": {},
   "outputs": [],
   "source": [
    "list(G.edges())"
   ]
  },
  {
   "cell_type": "code",
   "execution_count": null,
   "id": "146c648f-a8ba-41b8-ae1d-c8156c1a5dd2",
   "metadata": {},
   "outputs": [],
   "source": [
    "list(G.edges.data())"
   ]
  },
  {
   "cell_type": "markdown",
   "id": "c0d6fd67-1f28-40f9-8911-d947c01ee8d0",
   "metadata": {},
   "source": [
    "**練習**\n",
    "上で定義した`print_graph`関数を呼び出しても辺の重みが出力されません．\n",
    "`print_graph`関数を書き換えて辺の重みが出力されるようにしなさい．\n",
    "次のセルを実行して確かめるといいでしょう．"
   ]
  },
  {
   "cell_type": "code",
   "execution_count": null,
   "id": "7e7a3a38-ab92-4699-b7d1-fc0871f86b5a",
   "metadata": {},
   "outputs": [],
   "source": [
    "print_graph(G)"
   ]
  },
  {
   "cell_type": "markdown",
   "id": "0a4dced8-3f68-414f-9b23-ae505b22506c",
   "metadata": {},
   "source": [
    "**練習**\n",
    "2章で配布した用紙に書いたグラフと同じ辺の長さをもつグラフ`G`になるように，辺に長さを追加するコードを次のセルに書きなさい．\n",
    "辺の追加が正しくできたか`print_graph`関数と`draw_graph`関数を呼び出して確かめなさい．"
   ]
  },
  {
   "cell_type": "code",
   "execution_count": null,
   "id": "d84f5f38-29c8-4739-8eff-597d80242e6b",
   "metadata": {},
   "outputs": [],
   "source": []
  },
  {
   "cell_type": "markdown",
   "id": "0d18c7b8-91ea-436a-89a7-34974f218f3f",
   "metadata": {},
   "source": [
    "このノートブックは以上です．次のノートブックに進みなさい．"
   ]
  }
 ],
 "metadata": {
  "kernelspec": {
   "display_name": "Python 3 (ipykernel)",
   "language": "python",
   "name": "python3"
  },
  "language_info": {
   "codemirror_mode": {
    "name": "ipython",
    "version": 3
   },
   "file_extension": ".py",
   "mimetype": "text/x-python",
   "name": "python",
   "nbconvert_exporter": "python",
   "pygments_lexer": "ipython3",
   "version": "3.12.2"
  }
 },
 "nbformat": 4,
 "nbformat_minor": 5
}
