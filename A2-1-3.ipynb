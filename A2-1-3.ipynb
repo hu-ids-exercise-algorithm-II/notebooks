{
 "cells": [
  {
   "cell_type": "markdown",
   "metadata": {
    "id": "7VohWFMwMZb9"
   },
   "source": [
    "# 情報科学演習II アルゴリズムとデータ構造II 第1週 3冊目\n",
    "\n",
    "#### 第1週目次\n",
    "\n",
    "1. ColabraoryのPythonノートブックに慣れる（1冊目）\n",
    "2. グラフの最短経路問題を解く（2冊目）\n",
    "3. グラフ操作ライブラリnetworkxに慣れる（2冊目）\n",
    "4. リストと集合と辞書（3冊目）\n",
    "5. 要素の探索にかかる速度を比べる（3冊目）\n",
    "6. ダイクストラのアルゴリズムを理解する（4冊目）"
   ]
  },
  {
   "cell_type": "markdown",
   "metadata": {
    "id": "PubQ0tBIkVIQ"
   },
   "source": [
    "## 4. リストと集合と辞書\n",
    "\n",
    "最短経路問題を解く際に使うデータ構造を学びます．\n",
    "この章で学ぶデータ構造は次の3つです．\n",
    "\n",
    "- リスト\n",
    "- 集合\n",
    "- 辞書\n",
    "\n",
    "5章で，それぞれのデータ構造に対してその内にある要素が含まれるか調べる`in`演算にかかる時間を計測します．リストなどにある要素が含まれるか調べることを「探索」と呼びます．"
   ]
  },
  {
   "cell_type": "markdown",
   "metadata": {
    "id": "w122lOTn_mfU"
   },
   "source": [
    "### 4.1 リスト\n",
    "Pythonのリストは要素を先頭から順番に並べたデータ構造です．\n",
    "C言語の配列に似ています．\n",
    "\n",
    "参考：[リストの説明1](https://docs.python.org/ja/3/tutorial/introduction.html#lists)，[2](https://docs.python.org/ja/3/tutorial/datastructures.html#more-on-lists)\n",
    "\n",
    "次のセルでは`11,13,17`の3つの要素からなるリストを作成しています．"
   ]
  },
  {
   "cell_type": "code",
   "execution_count": null,
   "metadata": {
    "colab": {
     "base_uri": "https://localhost:8080/"
    },
    "executionInfo": {
     "elapsed": 10,
     "status": "ok",
     "timestamp": 1712302143041,
     "user": {
      "displayName": "北須賀輝明",
      "userId": "08683967670490393975"
     },
     "user_tz": -540
    },
    "id": "hPgIyhlRn_5O",
    "outputId": "a5060df8-2db9-483f-f50c-37734d8eaaf4"
   },
   "outputs": [],
   "source": [
    "[11, 13, 17]"
   ]
  },
  {
   "cell_type": "markdown",
   "metadata": {
    "id": "b9FFrD61oFCp"
   },
   "source": [
    "**練習**\n",
    "次のセルでは`11,13,17`の3つの要素からなるリストを作成して変数`l`に代入していますが，\n",
    "リスト`l`の内容は出力されません．\n",
    "`l`が出力されるように2行目に次のどちらかの行を追加してください．\n",
    "```\n",
    "l\n",
    "print(l)\n",
    "```"
   ]
  },
  {
   "cell_type": "code",
   "execution_count": null,
   "metadata": {
    "colab": {
     "base_uri": "https://localhost:8080/"
    },
    "executionInfo": {
     "elapsed": 8,
     "status": "ok",
     "timestamp": 1712302143041,
     "user": {
      "displayName": "北須賀輝明",
      "userId": "08683967670490393975"
     },
     "user_tz": -540
    },
    "id": "AqwlSdKzlegM",
    "outputId": "fb23c455-cb16-451a-ff12-417d1e40c286"
   },
   "outputs": [],
   "source": [
    "l = [11, 13, 17]\n"
   ]
  },
  {
   "cell_type": "markdown",
   "metadata": {},
   "source": [
    "type関数を使うと\n",
    "\n",
    "**練習**\n",
    "次のセルで`type(l)`を実行して変数`l`の型が`list`であることを確かめなさい．"
   ]
  },
  {
   "cell_type": "code",
   "execution_count": null,
   "metadata": {},
   "outputs": [],
   "source": [
    "type(l) # 解答行"
   ]
  },
  {
   "cell_type": "markdown",
   "metadata": {
    "id": "YzjLaeyBnn18"
   },
   "source": [
    "次のようにリストの要素は小さい順に並べておく必要はありませんし，自動的に並び替えられることもありません．"
   ]
  },
  {
   "cell_type": "code",
   "execution_count": null,
   "metadata": {
    "colab": {
     "base_uri": "https://localhost:8080/"
    },
    "executionInfo": {
     "elapsed": 6,
     "status": "ok",
     "timestamp": 1712302143041,
     "user": {
      "displayName": "北須賀輝明",
      "userId": "08683967670490393975"
     },
     "user_tz": -540
    },
    "id": "aIItg74umdFV",
    "outputId": "6ef9a6f4-3d9e-4835-c31d-6fe07bb5d840"
   },
   "outputs": [],
   "source": [
    "l = [17, 11, 13]\n",
    "l"
   ]
  },
  {
   "cell_type": "markdown",
   "metadata": {
    "id": "JSHBh1rHBubA"
   },
   "source": [
    "リストの先頭要素は`l[0]`です．"
   ]
  },
  {
   "cell_type": "code",
   "execution_count": null,
   "metadata": {
    "colab": {
     "base_uri": "https://localhost:8080/"
    },
    "executionInfo": {
     "elapsed": 5,
     "status": "ok",
     "timestamp": 1712302143042,
     "user": {
      "displayName": "北須賀輝明",
      "userId": "08683967670490393975"
     },
     "user_tz": -540
    },
    "id": "Rdghx0eLBzZ3",
    "outputId": "ce35c507-c268-4798-84a8-e2cb46455847"
   },
   "outputs": [],
   "source": [
    "l[0]"
   ]
  },
  {
   "cell_type": "markdown",
   "metadata": {
    "id": "uJLVUItZo80t"
   },
   "source": [
    "次のようにリスト`l`の末尾に要素`19`を追加(`append`)することができます．\n",
    "C言語などと異なりリスト`l`の要素数は可変です．\n",
    "\n",
    "参考：Pythonには要素数が固定のタプルもあります．"
   ]
  },
  {
   "cell_type": "markdown",
   "metadata": {},
   "source": [
    "リスト`l`の各要素に同じ処理をする場合は`for ... in`を使います．"
   ]
  },
  {
   "cell_type": "code",
   "execution_count": null,
   "metadata": {},
   "outputs": [],
   "source": [
    "for e in l:\n",
    "  print(e, \"はlの要素です\")"
   ]
  },
  {
   "cell_type": "code",
   "execution_count": null,
   "metadata": {
    "colab": {
     "base_uri": "https://localhost:8080/"
    },
    "executionInfo": {
     "elapsed": 13,
     "status": "ok",
     "timestamp": 1712302143347,
     "user": {
      "displayName": "北須賀輝明",
      "userId": "08683967670490393975"
     },
     "user_tz": -540
    },
    "id": "owQXU40cpF6-",
    "outputId": "f525ec8f-6ce6-4e9c-f34b-7c622f6bf10e"
   },
   "outputs": [],
   "source": [
    "l.append(19) # 末尾に追加\n",
    "print(l)"
   ]
  },
  {
   "cell_type": "markdown",
   "metadata": {
    "id": "De1FZT9IpaXW"
   },
   "source": [
    "リスト`l`の途中に要素を挿入(`insert`)することもできます．\n",
    "ただし，長いリストの場合は時間がかかります．\n",
    "かかる時間は要素を挿入する場所より後ろにある要素数に比例します．"
   ]
  },
  {
   "cell_type": "code",
   "execution_count": null,
   "metadata": {
    "colab": {
     "base_uri": "https://localhost:8080/"
    },
    "executionInfo": {
     "elapsed": 11,
     "status": "ok",
     "timestamp": 1712302143348,
     "user": {
      "displayName": "北須賀輝明",
      "userId": "08683967670490393975"
     },
     "user_tz": -540
    },
    "id": "AMve22TOpqYL",
    "outputId": "dabd02ee-f582-4035-d326-6138b9b8b61e"
   },
   "outputs": [],
   "source": [
    "l.insert(2, 23) # 先頭から2つ目の要素の後に23を挿入．\n",
    "l"
   ]
  },
  {
   "cell_type": "markdown",
   "metadata": {
    "id": "Lxx2DszPIWci"
   },
   "source": [
    "リスト`l`の末尾の要素を取り除くには`pop`関数を使います．\n",
    "`pop`関数は取り除いた要素`19`を返します．\n",
    "なお，`l.pop(1)`のように添え字を指定するとリストから`l[1]`の要素が取り除かれます．"
   ]
  },
  {
   "cell_type": "code",
   "execution_count": null,
   "metadata": {
    "colab": {
     "base_uri": "https://localhost:8080/"
    },
    "executionInfo": {
     "elapsed": 10,
     "status": "ok",
     "timestamp": 1712302143348,
     "user": {
      "displayName": "北須賀輝明",
      "userId": "08683967670490393975"
     },
     "user_tz": -540
    },
    "id": "MFDybb2pINMV",
    "outputId": "ff032a4b-648e-46f3-9cee-96c61dff76d4"
   },
   "outputs": [],
   "source": [
    "l.pop()"
   ]
  },
  {
   "cell_type": "markdown",
   "metadata": {},
   "source": [
    "リスト`l`の特定の要素を取り除くには`remove`関数を使います．11を削除する場合は次のように関数を呼び出します．"
   ]
  },
  {
   "cell_type": "code",
   "execution_count": null,
   "metadata": {},
   "outputs": [],
   "source": [
    "l.remove(11)\n",
    "l"
   ]
  },
  {
   "cell_type": "markdown",
   "metadata": {
    "id": "g-hdx3tGscsF"
   },
   "source": [
    "リスト`l`の要素数は次のように`len`関数で調べることができます．\n",
    "\n",
    "参考：`len`関数の説明は[リストの説明](https://docs.python.org/ja/3/tutorial/introduction.html#lists)に含まれています．"
   ]
  },
  {
   "cell_type": "code",
   "execution_count": null,
   "metadata": {
    "colab": {
     "base_uri": "https://localhost:8080/"
    },
    "executionInfo": {
     "elapsed": 10,
     "status": "ok",
     "timestamp": 1712302143348,
     "user": {
      "displayName": "北須賀輝明",
      "userId": "08683967670490393975"
     },
     "user_tz": -540
    },
    "id": "_oESVVnasjCX",
    "outputId": "db47ac2a-133b-4831-a25c-1c9e4b8c4c58"
   },
   "outputs": [],
   "source": [
    "len(l)"
   ]
  },
  {
   "cell_type": "markdown",
   "metadata": {
    "id": "1EraJeNKB7Lb"
   },
   "source": [
    "リスト`l`の最後の要素は次のように書けます．"
   ]
  },
  {
   "cell_type": "code",
   "execution_count": null,
   "metadata": {
    "colab": {
     "base_uri": "https://localhost:8080/"
    },
    "executionInfo": {
     "elapsed": 9,
     "status": "ok",
     "timestamp": 1712302143348,
     "user": {
      "displayName": "北須賀輝明",
      "userId": "08683967670490393975"
     },
     "user_tz": -540
    },
    "id": "ekn-3QcMCAtf",
    "outputId": "8869aceb-3c10-41cd-feec-3eed82925888"
   },
   "outputs": [],
   "source": [
    "l[len(l) - 1]"
   ]
  },
  {
   "cell_type": "markdown",
   "metadata": {
    "id": "ZemIcNzTsvTR"
   },
   "source": [
    "リスト`l`の各要素`e`に対して同じ処理をしたい場合は，次のように`for`文を使います．リスト`l`の先頭要素から順に処理されます．\n",
    "\n",
    "`for e in l:`の部分は「リスト`l`に含まれる(`in`)各要素`e`に対して(`for`)」と読むとよいでしょう．2行目のように字下げされている行が`for`文の繰り返しの範囲です．\n",
    "\n",
    "参考：[for文の説明](https://docs.python.org/ja/3/tutorial/controlflow.html#for-statements)"
   ]
  },
  {
   "cell_type": "code",
   "execution_count": null,
   "metadata": {
    "colab": {
     "base_uri": "https://localhost:8080/"
    },
    "executionInfo": {
     "elapsed": 9,
     "status": "ok",
     "timestamp": 1712302143348,
     "user": {
      "displayName": "北須賀輝明",
      "userId": "08683967670490393975"
     },
     "user_tz": -540
    },
    "id": "9S4SqBVvs321",
    "outputId": "8505875f-4f4d-44b4-ae4a-b863f1d51422"
   },
   "outputs": [],
   "source": [
    "for e in l:\n",
    "  print(e)"
   ]
  },
  {
   "cell_type": "markdown",
   "metadata": {
    "id": "vPgiz7IdtSyP"
   },
   "source": [
    "**練習**\n",
    "上のコードで`print(e)`の字下げをなくして実行しなさい．次のエラーが起こります．字下げはC言語の波括弧`{}`と同じように大切です．\n",
    "```\n",
    "IndentationError: expected an indented block after 'for' statement on line 1\n",
    "```\n",
    "さらに，字下げを元に戻して`print(e)`文を2行書いて実行しなさい．同じ値が2回ずつ出力されます．\n",
    "\n",
    "参考：上の`for`文は`range`型と`len`関数を使って次のように書くこともできますが，上の書き方のほうがコードが短いので好まれます．"
   ]
  },
  {
   "cell_type": "code",
   "execution_count": null,
   "metadata": {
    "colab": {
     "base_uri": "https://localhost:8080/"
    },
    "executionInfo": {
     "elapsed": 8,
     "status": "ok",
     "timestamp": 1712302143348,
     "user": {
      "displayName": "北須賀輝明",
      "userId": "08683967670490393975"
     },
     "user_tz": -540
    },
    "id": "0CZ6Ozs_tj9Q",
    "outputId": "ca8a3656-b835-452a-e923-21b386ec57b4"
   },
   "outputs": [],
   "source": [
    "for i in range(len(l)):\n",
    "  print(l[i])"
   ]
  },
  {
   "cell_type": "markdown",
   "metadata": {
    "id": "lt_XbmAuv9wf"
   },
   "source": [
    "`range`関数は`0`から`n-1`までの`n`要素のリストを生成するときに使われます．次の例は`n=5`の例です．\n",
    "\n",
    "参考：[range関数の説明](https://docs.python.org/ja/3/tutorial/controlflow.html#the-range-function)"
   ]
  },
  {
   "cell_type": "code",
   "execution_count": null,
   "metadata": {
    "colab": {
     "base_uri": "https://localhost:8080/"
    },
    "executionInfo": {
     "elapsed": 7,
     "status": "ok",
     "timestamp": 1712302143348,
     "user": {
      "displayName": "北須賀輝明",
      "userId": "08683967670490393975"
     },
     "user_tz": -540
    },
    "id": "Txtt0VYkt7p7",
    "outputId": "2c54681b-6a7c-4bd8-ff97-8e082e6e2d29"
   },
   "outputs": [],
   "source": [
    "list(range(5))"
   ]
  },
  {
   "cell_type": "markdown",
   "metadata": {
    "id": "kbyrhIqiqO8K"
   },
   "source": [
    "いよいよ探索です．リスト`l`にある要素が含まれているか調べる処理を書きます．\n",
    "\n",
    "リスト`l`の中に`3`が含まれているかを`in`演算子で調べることができます．含まれていれば`True`を返します．"
   ]
  },
  {
   "cell_type": "code",
   "execution_count": null,
   "metadata": {
    "colab": {
     "base_uri": "https://localhost:8080/"
    },
    "executionInfo": {
     "elapsed": 8,
     "status": "ok",
     "timestamp": 1712302143349,
     "user": {
      "displayName": "北須賀輝明",
      "userId": "08683967670490393975"
     },
     "user_tz": -540
    },
    "id": "k8G9IRkEoykj",
    "outputId": "4de57904-cc4d-4e2f-8b6b-8dc75c22742c"
   },
   "outputs": [],
   "source": [
    "3 in l"
   ]
  },
  {
   "cell_type": "markdown",
   "metadata": {
    "id": "_rsDh2TEqe56"
   },
   "source": [
    "次の文では`l`に`6`が含まれていないので`False`が返ります．"
   ]
  },
  {
   "cell_type": "code",
   "execution_count": null,
   "metadata": {
    "colab": {
     "base_uri": "https://localhost:8080/"
    },
    "executionInfo": {
     "elapsed": 7,
     "status": "ok",
     "timestamp": 1712302143349,
     "user": {
      "displayName": "北須賀輝明",
      "userId": "08683967670490393975"
     },
     "user_tz": -540
    },
    "id": "ugh6bZyNq4iD",
    "outputId": "519ba8af-9117-46ad-d351-235b7ef6c7b5"
   },
   "outputs": [],
   "source": [
    "6 in l"
   ]
  },
  {
   "cell_type": "markdown",
   "metadata": {
    "id": "eyLIQIU2qY1p"
   },
   "source": [
    "次のように真偽値(`True`と`False`)は`if`文で処理を分けることに使えます．`3 in l`の`3`をリストに含まれない要素に書き換えてください．書き換えると`'見つからなかった'`が出力されるはずです．\n",
    "\n",
    "参考：[`if`文の説明](https://docs.python.org/ja/3/tutorial/controlflow.html#if-statements)"
   ]
  },
  {
   "cell_type": "code",
   "execution_count": null,
   "metadata": {
    "colab": {
     "base_uri": "https://localhost:8080/"
    },
    "executionInfo": {
     "elapsed": 7,
     "status": "ok",
     "timestamp": 1712302143349,
     "user": {
      "displayName": "北須賀輝明",
      "userId": "08683967670490393975"
     },
     "user_tz": -540
    },
    "id": "EMQpdnXCrOOp",
    "outputId": "395f93a8-acca-44f9-d02c-c526fe48d0fd"
   },
   "outputs": [],
   "source": [
    "if 6 in l:\n",
    "  c = \"6が見つかった\"\n",
    "else:\n",
    "  c = \"6が見つからなかった\"\n",
    "c"
   ]
  },
  {
   "cell_type": "markdown",
   "metadata": {
    "id": "hYSi2Gunao0o"
   },
   "source": [
    "次の練習でリストを`range`関数で生成すると`0`から順番に並んでいます．`in`演算子は要素が順番に並んでいることは想定していませんので，すべての要素を探します．\n",
    "\n",
    "順番通りに並んでいるとわかっていればもっと速く探す二分探索などの方法がありますがこの演習は扱いません．次のように`random.shuffle`関数にリスト`l`を渡すと，`l`の順番をわざと乱すことができますが，`in`演算子で正しく要素の有無を調べられます．\n",
    "\n",
    "参考：[random.shuffle関数の説明](https://docs.python.org/ja/3/library/random.html#random.shuffle)"
   ]
  },
  {
   "cell_type": "code",
   "execution_count": null,
   "metadata": {
    "colab": {
     "base_uri": "https://localhost:8080/"
    },
    "executionInfo": {
     "elapsed": 323,
     "status": "ok",
     "timestamp": 1712302143667,
     "user": {
      "displayName": "北須賀輝明",
      "userId": "08683967670490393975"
     },
     "user_tz": -540
    },
    "id": "iXvN6_k-bAbT",
    "outputId": "c41fe12b-7866-42a8-8994-c8526fca285a"
   },
   "outputs": [],
   "source": [
    "import random\n",
    "l = list(range(5))\n",
    "random.shuffle(l)\n",
    "l"
   ]
  },
  {
   "cell_type": "markdown",
   "metadata": {
    "id": "uv_dqYGCkTQG"
   },
   "source": [
    "**練習**\n",
    "以下のコメントに沿って次のコードを書きなさい．\n",
    "100要素のリスト`l`を生成して，要素の追加や削除をした後，リストに要素が含まれるか探索します．\n",
    "それぞれのコードセルで実行する内容は`#`で始まる行のコメントで指示しています．"
   ]
  },
  {
   "cell_type": "code",
   "execution_count": null,
   "metadata": {
    "id": "_zAnHzvenup7"
   },
   "outputs": [],
   "source": [
    "# 1. 0から99まで100要素のリスト`l`を生成する．先の例のように`list`関数と`range`関数を使うとよい．\n",
    "# random.shuffle関数でリストをシャッフルしなさい．\n",
    "# シャープ記号で始まる行はコメント\n",
    "\n"
   ]
  },
  {
   "cell_type": "code",
   "execution_count": null,
   "metadata": {
    "id": "yE6DJglElBDS"
   },
   "outputs": [],
   "source": [
    "# 2. リストlの末尾に100を追加する．append関数を使う．\n"
   ]
  },
  {
   "cell_type": "code",
   "execution_count": null,
   "metadata": {
    "id": "BJgD-1talBzN"
   },
   "outputs": [],
   "source": [
    "# 3. リストlの10番目の直線に101を追加する．insert関数を使う．\n"
   ]
  },
  {
   "cell_type": "code",
   "execution_count": null,
   "metadata": {
    "colab": {
     "base_uri": "https://localhost:8080/"
    },
    "executionInfo": {
     "elapsed": 4,
     "status": "ok",
     "timestamp": 1712302143667,
     "user": {
      "displayName": "北須賀輝明",
      "userId": "08683967670490393975"
     },
     "user_tz": -540
    },
    "id": "I7gwmdLblBih",
    "outputId": "53b1c3a8-c75a-4745-9008-335e960510e3"
   },
   "outputs": [],
   "source": [
    "# 4. リストに0が含まれているか調べる．in演算子を使う．Trueが出力される．\n"
   ]
  },
  {
   "cell_type": "code",
   "execution_count": null,
   "metadata": {
    "colab": {
     "base_uri": "https://localhost:8080/"
    },
    "executionInfo": {
     "elapsed": 3,
     "status": "ok",
     "timestamp": 1712302143667,
     "user": {
      "displayName": "北須賀輝明",
      "userId": "08683967670490393975"
     },
     "user_tz": -540
    },
    "id": "FCuBBIyvkX9g",
    "outputId": "fabb3b2a-5a5a-4843-c8ad-3884e094df9e"
   },
   "outputs": [],
   "source": [
    "# 5. リストに100が含まれているか調べる．Trueが出力される．\n"
   ]
  },
  {
   "cell_type": "code",
   "execution_count": null,
   "metadata": {
    "colab": {
     "base_uri": "https://localhost:8080/"
    },
    "executionInfo": {
     "elapsed": 507,
     "status": "ok",
     "timestamp": 1712302144172,
     "user": {
      "displayName": "北須賀輝明",
      "userId": "08683967670490393975"
     },
     "user_tz": -540
    },
    "id": "qaC0_Axdl6hR",
    "outputId": "b3b920da-6008-4e2f-8fff-735b1dfc47c6"
   },
   "outputs": [],
   "source": [
    "# 6. リストに101が含まれているか調べる．Trueが出力される．\n"
   ]
  },
  {
   "cell_type": "code",
   "execution_count": null,
   "metadata": {
    "colab": {
     "base_uri": "https://localhost:8080/"
    },
    "executionInfo": {
     "elapsed": 7,
     "status": "ok",
     "timestamp": 1712302144172,
     "user": {
      "displayName": "北須賀輝明",
      "userId": "08683967670490393975"
     },
     "user_tz": -540
    },
    "id": "MlRpt6Yil66B",
    "outputId": "a06c7062-80b7-4d8b-bb1c-c4a765f28ecf"
   },
   "outputs": [],
   "source": [
    "# 7. リストに102が含まれているか調べる．Falseが出力される．\n"
   ]
  },
  {
   "cell_type": "markdown",
   "metadata": {
    "id": "jZwJBdw_ogAW"
   },
   "source": [
    "**練習**\n",
    "リスト`l`の要素数を色々変えて試せるように最初のリストの要素数を変数`n`に入れて以下の処理を書きなさい．\n",
    "書き終わったら`n=100`や`n=10000`，`n=10**7`(10の7乗．一千万)などで実行しなさい．\n",
    "\n",
    "`n=10**8`(1億要素)や`n=10**9`(10億要素)で実行すると「使用可能なRAMをすべて使用した後で、セッションがクラッシュ」することがあります（12.7GBのシステムRAMの仮想PCの場合）．\n",
    "システムRAMのおおよその使用量は右上の「RAM」ところに表示されています．\n",
    "マウスポインタを「RAM」のところに移動すると使用量がGB（ギガバイト）単位で表示されます．"
   ]
  },
  {
   "cell_type": "code",
   "execution_count": null,
   "metadata": {
    "id": "i3ypkuxspIKm"
   },
   "outputs": [],
   "source": [
    "# 1. nに10を代入し，0からn-1までn要素のリストlを生成する．list関数とrange関数を使うとよい．\n",
    "\n"
   ]
  },
  {
   "cell_type": "code",
   "execution_count": null,
   "metadata": {
    "id": "XnyTTwiMpI6R"
   },
   "outputs": [],
   "source": [
    "# 2. リストlの末尾にnを追加する．append関数を使うとよい．\n"
   ]
  },
  {
   "cell_type": "code",
   "execution_count": null,
   "metadata": {
    "id": "zNRs0wW0pIxs"
   },
   "outputs": [],
   "source": [
    "# 3. リストlの10番目の直前にn+1を追加する．\n"
   ]
  },
  {
   "cell_type": "code",
   "execution_count": null,
   "metadata": {
    "colab": {
     "base_uri": "https://localhost:8080/"
    },
    "executionInfo": {
     "elapsed": 4,
     "status": "ok",
     "timestamp": 1712302144172,
     "user": {
      "displayName": "北須賀輝明",
      "userId": "08683967670490393975"
     },
     "user_tz": -540
    },
    "id": "vGSFr7hJpIme",
    "outputId": "ac8b27aa-3263-438f-9141-8a0c9ad25b07"
   },
   "outputs": [],
   "source": [
    "# 4. 0が含まれているか調べる．Trueが出力される．\n"
   ]
  },
  {
   "cell_type": "code",
   "execution_count": null,
   "metadata": {
    "colab": {
     "base_uri": "https://localhost:8080/"
    },
    "executionInfo": {
     "elapsed": 6,
     "status": "ok",
     "timestamp": 1712302144676,
     "user": {
      "displayName": "北須賀輝明",
      "userId": "08683967670490393975"
     },
     "user_tz": -540
    },
    "id": "TfbXPd0DpQGw",
    "outputId": "1905172a-5fca-4119-fe9b-06a09c0b5e1f"
   },
   "outputs": [],
   "source": [
    "# 5. nが含まれているか調べる．Trueが出力される．\n"
   ]
  },
  {
   "cell_type": "code",
   "execution_count": null,
   "metadata": {
    "colab": {
     "base_uri": "https://localhost:8080/"
    },
    "executionInfo": {
     "elapsed": 6,
     "status": "ok",
     "timestamp": 1712302144677,
     "user": {
      "displayName": "北須賀輝明",
      "userId": "08683967670490393975"
     },
     "user_tz": -540
    },
    "id": "1HTf750qpRyH",
    "outputId": "7ab093ea-0223-4ea3-e20a-09ac485378c6"
   },
   "outputs": [],
   "source": [
    "# 6. リストにn+1が含まれているか調べる．Trueが出力される\n"
   ]
  },
  {
   "cell_type": "code",
   "execution_count": null,
   "metadata": {
    "colab": {
     "base_uri": "https://localhost:8080/"
    },
    "executionInfo": {
     "elapsed": 5,
     "status": "ok",
     "timestamp": 1712302144677,
     "user": {
      "displayName": "北須賀輝明",
      "userId": "08683967670490393975"
     },
     "user_tz": -540
    },
    "id": "q4TVXuJPpPSo",
    "outputId": "9c80ec77-10b3-4596-dc21-6257ea023cb5"
   },
   "outputs": [],
   "source": [
    "# 7. リストにn+2が含まれているか調べる．Falseが出力される．\n"
   ]
  },
  {
   "cell_type": "markdown",
   "metadata": {
    "id": "HO30SA2GyOFj"
   },
   "source": [
    "### 4.2 集合\n",
    "Pythonの集合型(set)は集合を扱う型です．\n",
    "リストと異なり重複する要素を持つことができません．\n",
    "順序付けもされません．\n",
    "\n",
    "参考：[集合型の説明](https://docs.python.org/ja/3/tutorial/datastructures.html#sets)\n",
    "\n",
    "次のセルでは`11,13,17`の3つの要素からなる集合を作成しています．\n",
    "リストの場合は角括弧`[]`で囲んでいたのに対して，集合の場合は波括弧`{}`で囲みます．"
   ]
  },
  {
   "cell_type": "code",
   "execution_count": null,
   "metadata": {
    "colab": {
     "base_uri": "https://localhost:8080/"
    },
    "executionInfo": {
     "elapsed": 4,
     "status": "ok",
     "timestamp": 1712302144677,
     "user": {
      "displayName": "北須賀輝明",
      "userId": "08683967670490393975"
     },
     "user_tz": -540
    },
    "id": "FNoAd2fnym7M",
    "outputId": "b644449e-097c-4959-ddcc-e9f35c6128d6"
   },
   "outputs": [],
   "source": [
    "{11, 13, 17}"
   ]
  },
  {
   "cell_type": "markdown",
   "metadata": {
    "id": "WfZ0NvtQzRgw"
   },
   "source": [
    "**練習**\n",
    "次のセルに次の2つの文を書きなさい．`{11, 13, 17}`が出力されると正解．\n",
    "- `11,13,17`の3つの要素からなる集合を作成して変数`s`に代入する．\n",
    "- `s`を出力する．次のどちらかの行で出力される．\n",
    "  ```\n",
    "  s\n",
    "  print(s)\n",
    "  ```"
   ]
  },
  {
   "cell_type": "code",
   "execution_count": null,
   "metadata": {
    "colab": {
     "base_uri": "https://localhost:8080/"
    },
    "executionInfo": {
     "elapsed": 3,
     "status": "ok",
     "timestamp": 1712302144677,
     "user": {
      "displayName": "北須賀輝明",
      "userId": "08683967670490393975"
     },
     "user_tz": -540
    },
    "id": "jBPIbsIU0BHZ",
    "outputId": "4792ff95-c803-44bc-ab41-ac4cd8bea2f3"
   },
   "outputs": [],
   "source": [
    "\n"
   ]
  },
  {
   "cell_type": "markdown",
   "metadata": {
    "id": "hTPLXdWL0MkG"
   },
   "source": [
    "次のように`range`関数を使うと0から9までの10要素の集合が作られます．"
   ]
  },
  {
   "cell_type": "code",
   "execution_count": null,
   "metadata": {
    "colab": {
     "base_uri": "https://localhost:8080/"
    },
    "executionInfo": {
     "elapsed": 317,
     "status": "ok",
     "timestamp": 1712302144992,
     "user": {
      "displayName": "北須賀輝明",
      "userId": "08683967670490393975"
     },
     "user_tz": -540
    },
    "id": "swudZ9d90Pv9",
    "outputId": "1aa31a60-6dd5-4feb-dc9d-8ace1027b60a"
   },
   "outputs": [],
   "source": [
    "s = set(range(10))\n",
    "s"
   ]
  },
  {
   "cell_type": "markdown",
   "metadata": {},
   "source": [
    "空の集合は`set()`関数で作ります．`{}`ではありません．\n",
    "\n",
    "**練習**\n",
    "次のセルで空の集合sを作り，sを出力しなさい．空の集合は`{}`ではなく`set()`と表示される．"
   ]
  },
  {
   "cell_type": "code",
   "execution_count": null,
   "metadata": {},
   "outputs": [],
   "source": [
    "\n"
   ]
  },
  {
   "cell_type": "markdown",
   "metadata": {
    "id": "-iQidVal1a5y"
   },
   "source": [
    "次のように`add`関数で集合`s`に要素`10`を追加することができます．"
   ]
  },
  {
   "cell_type": "code",
   "execution_count": null,
   "metadata": {
    "colab": {
     "base_uri": "https://localhost:8080/"
    },
    "executionInfo": {
     "elapsed": 9,
     "status": "ok",
     "timestamp": 1712302144992,
     "user": {
      "displayName": "北須賀輝明",
      "userId": "08683967670490393975"
     },
     "user_tz": -540
    },
    "id": "CygE25dC1Hi7",
    "outputId": "6026fcef-b64e-4688-c363-cb8d8c38c613"
   },
   "outputs": [],
   "source": [
    "s.add(10)\n",
    "s"
   ]
  },
  {
   "cell_type": "markdown",
   "metadata": {
    "id": "YBxLVZCX1r03"
   },
   "source": [
    "**練習**\n",
    "次のセルを何度か実行しなさい．すでに集合`s`に何度も5を追加しても5が二つ入ることがないことを確かめなさい．"
   ]
  },
  {
   "cell_type": "code",
   "execution_count": null,
   "metadata": {
    "colab": {
     "base_uri": "https://localhost:8080/"
    },
    "executionInfo": {
     "elapsed": 8,
     "status": "ok",
     "timestamp": 1712302144992,
     "user": {
      "displayName": "北須賀輝明",
      "userId": "08683967670490393975"
     },
     "user_tz": -540
    },
    "id": "0zFw0wkQ1K1u",
    "outputId": "d008b977-927b-49be-89cd-c6cdf0565e6a"
   },
   "outputs": [],
   "source": [
    "s.add(5)\n",
    "s"
   ]
  },
  {
   "cell_type": "markdown",
   "metadata": {
    "id": "bex1AB0i1-hP"
   },
   "source": [
    "集合`s`から要素を削除する場合は次のように`remove`関数を使います．\n",
    "要素`5`を削除する例です．\n",
    "\n",
    "存在しない要素を削除しようとすると次のようなエラーが起こります．\n",
    "\n",
    "```\n",
    "---------------------------------------------------------------------------\n",
    "KeyError                                  Traceback (most recent call last)\n",
    "<ipython-input-18-2c0cc3fd50af> in <cell line: 1>()\n",
    "----> 1 s.remove(5)\n",
    "      2 s\n",
    "\n",
    "KeyError: 5\n",
    "```"
   ]
  },
  {
   "cell_type": "code",
   "execution_count": null,
   "metadata": {
    "colab": {
     "base_uri": "https://localhost:8080/"
    },
    "executionInfo": {
     "elapsed": 7,
     "status": "ok",
     "timestamp": 1712302144992,
     "user": {
      "displayName": "北須賀輝明",
      "userId": "08683967670490393975"
     },
     "user_tz": -540
    },
    "id": "3YR2SL2I1NKh",
    "outputId": "caa18cdb-ec48-428f-b9ad-d32fe7d9094f"
   },
   "outputs": [],
   "source": [
    "s.remove(5)\n",
    "s"
   ]
  },
  {
   "cell_type": "markdown",
   "metadata": {
    "id": "sgHm_0VlZBRt"
   },
   "source": [
    "集合`s`の要素数は`len(s)`関数で調べられます．リストの場合と同じです．"
   ]
  },
  {
   "cell_type": "code",
   "execution_count": null,
   "metadata": {
    "colab": {
     "base_uri": "https://localhost:8080/"
    },
    "executionInfo": {
     "elapsed": 6,
     "status": "ok",
     "timestamp": 1712302144992,
     "user": {
      "displayName": "北須賀輝明",
      "userId": "08683967670490393975"
     },
     "user_tz": -540
    },
    "id": "wpzgcJ6rZNIz",
    "outputId": "ff7d406e-a916-4c7c-a364-c2396340b508"
   },
   "outputs": [],
   "source": [
    "len(s)"
   ]
  },
  {
   "cell_type": "markdown",
   "metadata": {
    "id": "GXtYOzWy2x2M"
   },
   "source": [
    "集合`s`に`10`が含まれているか調べる演算子は`in`です．\n",
    "`s`に`10`が含まれていれば`True`を返します．\n",
    "`in`もリストの場合と同様です．"
   ]
  },
  {
   "cell_type": "code",
   "execution_count": null,
   "metadata": {
    "colab": {
     "base_uri": "https://localhost:8080/"
    },
    "executionInfo": {
     "elapsed": 4,
     "status": "ok",
     "timestamp": 1712302144992,
     "user": {
      "displayName": "北須賀輝明",
      "userId": "08683967670490393975"
     },
     "user_tz": -540
    },
    "id": "leKlX7Nd2rlr",
    "outputId": "715e9d73-8231-4a45-9741-c3056d22cf9d"
   },
   "outputs": [],
   "source": [
    "10 in s"
   ]
  },
  {
   "cell_type": "markdown",
   "metadata": {
    "id": "GiabBZHa249T"
   },
   "source": [
    "集合`s`に`5`は含まれてないならば次の文は`False`を返します．"
   ]
  },
  {
   "cell_type": "code",
   "execution_count": null,
   "metadata": {
    "colab": {
     "base_uri": "https://localhost:8080/"
    },
    "executionInfo": {
     "elapsed": 497,
     "status": "ok",
     "timestamp": 1712302145486,
     "user": {
      "displayName": "北須賀輝明",
      "userId": "08683967670490393975"
     },
     "user_tz": -540
    },
    "id": "LveBujos2tzy",
    "outputId": "38e7109b-19ae-4f00-8409-94f802698bf9"
   },
   "outputs": [],
   "source": [
    "5 in s"
   ]
  },
  {
   "cell_type": "markdown",
   "metadata": {
    "id": "Og7UhwRITtcZ"
   },
   "source": [
    "**練習**\n",
    "次のセルは集合`s={11,13,17}`を出力するコードが書かれている．\n",
    "`add`関数と`remove`関数を書き加えて\n",
    "- `s`に二つの要素7と19を追加し，\n",
    "- `s`から二つの要素11と17を削除し、\n",
    "- 集合`s`を出力しなさい．\n",
    "  \n",
    "`{7, 13, 19}`が出力されると正解．"
   ]
  },
  {
   "cell_type": "code",
   "execution_count": null,
   "metadata": {
    "colab": {
     "base_uri": "https://localhost:8080/"
    },
    "executionInfo": {
     "elapsed": 8,
     "status": "ok",
     "timestamp": 1712302145486,
     "user": {
      "displayName": "北須賀輝明",
      "userId": "08683967670490393975"
     },
     "user_tz": -540
    },
    "id": "BkVP-6TyTkYT",
    "outputId": "e17a76b1-7209-46b2-84ee-2e2d43bd2f69"
   },
   "outputs": [],
   "source": [
    "s = {11,13,17}\n",
    "\n",
    "\n",
    "\n",
    "\n"
   ]
  },
  {
   "cell_type": "markdown",
   "metadata": {
    "id": "B7uUC-0G06pg"
   },
   "source": [
    "**練習**\n",
    "以下のコメントに沿って集合`s`を操作するコードを書きなさい．\n",
    "各コードセルの処理はコメントに書いてある内容に従いなさい．"
   ]
  },
  {
   "cell_type": "code",
   "execution_count": null,
   "metadata": {
    "id": "m0ml02qi3YJo"
   },
   "outputs": [],
   "source": [
    "# 1. 0から19まで20要素の集合sを生成する．先の例のようにset関数とrange関数を使うとよい．\n"
   ]
  },
  {
   "cell_type": "code",
   "execution_count": null,
   "metadata": {
    "colab": {
     "base_uri": "https://localhost:8080/"
    },
    "executionInfo": {
     "elapsed": 6,
     "status": "ok",
     "timestamp": 1712302145486,
     "user": {
      "displayName": "北須賀輝明",
      "userId": "08683967670490393975"
     },
     "user_tz": -540
    },
    "id": "NW6WFnsM3c2c",
    "outputId": "eb7b8375-2d0c-4932-cfaa-129dde8569ef"
   },
   "outputs": [],
   "source": [
    "# 2. 集合sに10が含まれているか調べる．in演算子を使う．Trueが出力される．\n"
   ]
  },
  {
   "cell_type": "code",
   "execution_count": null,
   "metadata": {
    "colab": {
     "base_uri": "https://localhost:8080/"
    },
    "executionInfo": {
     "elapsed": 6,
     "status": "ok",
     "timestamp": 1712302145487,
     "user": {
      "displayName": "北須賀輝明",
      "userId": "08683967670490393975"
     },
     "user_tz": -540
    },
    "id": "3LuM6Ttu4khN",
    "outputId": "ac4cf76c-e7ef-4883-a49b-13e4175a49cb"
   },
   "outputs": [],
   "source": [
    "# 3. 集合sに100が含まれているか調べる．Falseが出力される．\n"
   ]
  },
  {
   "cell_type": "code",
   "execution_count": null,
   "metadata": {
    "id": "rhwy0VX43uMV"
   },
   "outputs": [],
   "source": [
    "# 4. 集合sに100を追加する．add関数を使う．\n"
   ]
  },
  {
   "cell_type": "code",
   "execution_count": null,
   "metadata": {
    "colab": {
     "base_uri": "https://localhost:8080/"
    },
    "executionInfo": {
     "elapsed": 5,
     "status": "ok",
     "timestamp": 1712302145487,
     "user": {
      "displayName": "北須賀輝明",
      "userId": "08683967670490393975"
     },
     "user_tz": -540
    },
    "id": "io6K7a1P3wxS",
    "outputId": "2daab07d-dd7b-4149-c7ef-af584e69041e"
   },
   "outputs": [],
   "source": [
    "# 5. 集合sに100が含まれているか調べる．Trueが出力される．\n"
   ]
  },
  {
   "cell_type": "code",
   "execution_count": null,
   "metadata": {
    "colab": {
     "base_uri": "https://localhost:8080/"
    },
    "executionInfo": {
     "elapsed": 4,
     "status": "ok",
     "timestamp": 1712302145487,
     "user": {
      "displayName": "北須賀輝明",
      "userId": "08683967670490393975"
     },
     "user_tz": -540
    },
    "id": "_ps0rluw4v6B",
    "outputId": "8fe57f41-8ae4-473c-88a8-33bd08a68cbe"
   },
   "outputs": [],
   "source": [
    "# 6. 集合sから10を削除したあと，集合sに10が含まれているか調べる．Falseが出力される．\n",
    "\n"
   ]
  },
  {
   "cell_type": "markdown",
   "metadata": {
    "id": "ejsf4qoh6GaR"
   },
   "source": [
    "**練習**\n",
    "集合の要素数を様々に変えて試せるように最初の集合の要素数を変数`n`に入れて以下のコードを書きなさい．\n",
    "書き終わったら，`n=100`や`n=10000`, `n=10**7`（10の7乗．一千万）などで試しなさい．"
   ]
  },
  {
   "cell_type": "code",
   "execution_count": null,
   "metadata": {
    "colab": {
     "base_uri": "https://localhost:8080/"
    },
    "executionInfo": {
     "elapsed": 1133,
     "status": "ok",
     "timestamp": 1712302146617,
     "user": {
      "displayName": "北須賀輝明",
      "userId": "08683967670490393975"
     },
     "user_tz": -540
    },
    "id": "BTQm65Dp6qTM",
    "outputId": "70cda777-5456-4d22-c3dd-c94470256a23"
   },
   "outputs": [],
   "source": [
    "# 1. 変数nに100などを代入し，0からn-1までのn要素の集合sを生成する．\n",
    "# 集合の生成にはset関数とrange関数を使うとよい．\n",
    "# 最後に集合sの要素数を出力する．len(s)を使うとよい．\n",
    "\n",
    "\n"
   ]
  },
  {
   "cell_type": "code",
   "execution_count": null,
   "metadata": {
    "colab": {
     "base_uri": "https://localhost:8080/"
    },
    "executionInfo": {
     "elapsed": 3,
     "status": "ok",
     "timestamp": 1712302146617,
     "user": {
      "displayName": "北須賀輝明",
      "userId": "08683967670490393975"
     },
     "user_tz": -540
    },
    "id": "hxuEY-H87M7x",
    "outputId": "6a71b097-b757-4984-ec19-e26de82d37f1"
   },
   "outputs": [],
   "source": [
    "# 2. 集合sに要素nが含まれているか調べる．Falseが出力される．\n"
   ]
  },
  {
   "cell_type": "code",
   "execution_count": null,
   "metadata": {
    "colab": {
     "base_uri": "https://localhost:8080/"
    },
    "executionInfo": {
     "elapsed": 347,
     "status": "ok",
     "timestamp": 1712302146962,
     "user": {
      "displayName": "北須賀輝明",
      "userId": "08683967670490393975"
     },
     "user_tz": -540
    },
    "id": "wSC5O2g16xZ4",
    "outputId": "267ddd69-c020-4215-e7cd-b893eb589b5f"
   },
   "outputs": [],
   "source": [
    "# 3. 集合sに要素nを追加する．要素数を出力して追加できたことを確認する．\n",
    "\n"
   ]
  },
  {
   "cell_type": "code",
   "execution_count": null,
   "metadata": {
    "colab": {
     "base_uri": "https://localhost:8080/"
    },
    "executionInfo": {
     "elapsed": 12,
     "status": "ok",
     "timestamp": 1712302146962,
     "user": {
      "displayName": "北須賀輝明",
      "userId": "08683967670490393975"
     },
     "user_tz": -540
    },
    "id": "PyK8W1zB7EYx",
    "outputId": "165e63b5-6459-4f7d-ecce-f42571ad5133"
   },
   "outputs": [],
   "source": [
    "# 4. 要素nが含まれているか調べる．Trueが出力される．\n"
   ]
  },
  {
   "cell_type": "code",
   "execution_count": null,
   "metadata": {
    "colab": {
     "base_uri": "https://localhost:8080/"
    },
    "executionInfo": {
     "elapsed": 11,
     "status": "ok",
     "timestamp": 1712302146962,
     "user": {
      "displayName": "北須賀輝明",
      "userId": "08683967670490393975"
     },
     "user_tz": -540
    },
    "id": "pGVCnzSI7J2O",
    "outputId": "f25b187a-7c29-4686-9a7a-cebf7ee43294"
   },
   "outputs": [],
   "source": [
    "# 5. 要素10を削除する．要素数を出力して削除できたことを確認する．\n",
    "\n"
   ]
  },
  {
   "cell_type": "code",
   "execution_count": null,
   "metadata": {
    "colab": {
     "base_uri": "https://localhost:8080/"
    },
    "executionInfo": {
     "elapsed": 10,
     "status": "ok",
     "timestamp": 1712302146962,
     "user": {
      "displayName": "北須賀輝明",
      "userId": "08683967670490393975"
     },
     "user_tz": -540
    },
    "id": "4PVU1ofG7Y6b",
    "outputId": "dfe06b72-3db2-4a7c-fe25-0daedaeba4ae"
   },
   "outputs": [],
   "source": [
    "# 6. 集合sに要素10が含まれているか調べる．Falseが出力される．\n"
   ]
  },
  {
   "cell_type": "markdown",
   "metadata": {
    "id": "AnlF6lNKxNkn"
   },
   "source": [
    "### 4.3 辞書\n",
    "Pythonの辞書型(dictionary)は集合型を拡張したデータ構想です．\n",
    "集合型の各要素をキーと呼び，各キーに対して値を割り当てられます．\n",
    "キーと値の組の集合で，キーで索引付けされます．\n",
    "リストが0番目，1番目，2番目のように添え字で要素を区別するように，辞書ではキーで要素を区別します．\n",
    "\n",
    "同じキーを持つ要素を複数含めることはできません．\n",
    "値は重複して構いません．\n",
    "\n",
    "参考：他の言語では連想記憶(associated memory)や連想配列(associative array)と呼ばれることがあります．\n",
    "\n",
    "参考：[辞書型の説明1](https://docs.python.org/ja/3/tutorial/datastructures.html#dictionaries)，[2](https://docs.python.org/ja/3/library/stdtypes.html#mapping-types-dict)\n",
    "\n",
    "次のセルでは3要素の辞書を作成しています．11,13,17の3つのキーがあり，キー11には値5が，キー13には値6が，キー17には値7が割り当てられた辞書です．"
   ]
  },
  {
   "cell_type": "code",
   "execution_count": null,
   "metadata": {
    "colab": {
     "base_uri": "https://localhost:8080/"
    },
    "executionInfo": {
     "elapsed": 9,
     "status": "ok",
     "timestamp": 1712302146962,
     "user": {
      "displayName": "北須賀輝明",
      "userId": "08683967670490393975"
     },
     "user_tz": -540
    },
    "id": "9T072mzeA5_2",
    "outputId": "611b6ce2-2f0d-4632-f4c3-b25131497b28"
   },
   "outputs": [],
   "source": [
    "{11: 5, 13: 6, 17: 7}"
   ]
  },
  {
   "cell_type": "markdown",
   "metadata": {
    "id": "biUQSWm6XU72"
   },
   "source": [
    "**練習**\n",
    "次のコードは変数`d`に生成した辞書を代入しています．\n",
    "辞書`d`が出力されるように2行目に次のどちらかの行を追加してください．\n",
    "```\n",
    "d\n",
    "print(d)\n",
    "```"
   ]
  },
  {
   "cell_type": "code",
   "execution_count": null,
   "metadata": {
    "colab": {
     "base_uri": "https://localhost:8080/"
    },
    "executionInfo": {
     "elapsed": 7,
     "status": "ok",
     "timestamp": 1712302146962,
     "user": {
      "displayName": "北須賀輝明",
      "userId": "08683967670490393975"
     },
     "user_tz": -540
    },
    "id": "XGzc2_25Xmuj",
    "outputId": "4ff9c017-b402-43fe-a617-486f9ca1f395"
   },
   "outputs": [],
   "source": [
    "d = {11: 5, 13: 6, 17: 7}\n"
   ]
  },
  {
   "cell_type": "markdown",
   "metadata": {
    "id": "rAL2YzVjZYvw"
   },
   "source": [
    "次のように辞書名に`[11]`につけるとキー11の値5が返されます．リストの先頭要素を`l[0]`で読み書きしていたのと同じ記号`[]`でキーを囲みます．\n",
    "\n",
    "**練習**\n",
    "`d[11]`のセルを書き換えて，13と1のキーで6と7の値が返されることを試しなさい．\n",
    "さらに，存在しないキー（例えば12）だと次のエラーが起こることを確かめなさい．\n",
    "\n",
    "```\n",
    "---------------------------------------------------------------------------\n",
    "KeyError                                  Traceback (most recent call last)\n",
    "<ipython-input-56-b41cae771af5> in <cell line: 1>()\n",
    "----> 1 d[12]\n",
    "\n",
    "KeyError: 12\n",
    "```"
   ]
  },
  {
   "cell_type": "code",
   "execution_count": null,
   "metadata": {
    "colab": {
     "base_uri": "https://localhost:8080/"
    },
    "executionInfo": {
     "elapsed": 6,
     "status": "ok",
     "timestamp": 1712302146962,
     "user": {
      "displayName": "北須賀輝明",
      "userId": "08683967670490393975"
     },
     "user_tz": -540
    },
    "id": "hD6BHYXhZaH1",
    "outputId": "95ae8aea-9a8e-40f3-d780-36796f758d9d"
   },
   "outputs": [],
   "source": [
    "d[11]"
   ]
  },
  {
   "cell_type": "markdown",
   "metadata": {
    "id": "2J6l7VrraONn"
   },
   "source": [
    "次のように指定したキーに対応する値を書き換えることができます．\n",
    "同じキーに複数の値を割り当てることはできないので，`d[1]`に入っていた値`11`は失われます．"
   ]
  },
  {
   "cell_type": "code",
   "execution_count": null,
   "metadata": {
    "colab": {
     "base_uri": "https://localhost:8080/"
    },
    "executionInfo": {
     "elapsed": 6,
     "status": "ok",
     "timestamp": 1712302146963,
     "user": {
      "displayName": "北須賀輝明",
      "userId": "08683967670490393975"
     },
     "user_tz": -540
    },
    "id": "5gDH0702aSf7",
    "outputId": "f750847e-3083-4fea-e922-1ac1db2f1dcf"
   },
   "outputs": [],
   "source": [
    "d[11] = 4\n",
    "d"
   ]
  },
  {
   "cell_type": "markdown",
   "metadata": {
    "id": "edvCmqh-ZR95"
   },
   "source": [
    "辞書`d`の要素数（項目数）は`len`関数で調べられます．\n",
    "`len`関数はリストと集合と同じです．"
   ]
  },
  {
   "cell_type": "code",
   "execution_count": null,
   "metadata": {
    "colab": {
     "base_uri": "https://localhost:8080/"
    },
    "executionInfo": {
     "elapsed": 5,
     "status": "ok",
     "timestamp": 1712302146963,
     "user": {
      "displayName": "北須賀輝明",
      "userId": "08683967670490393975"
     },
     "user_tz": -540
    },
    "id": "bhAf_nl3ay96",
    "outputId": "9b177ca0-49bf-49e8-b1bd-2ad57b3c945a"
   },
   "outputs": [],
   "source": [
    "len(d)"
   ]
  },
  {
   "cell_type": "markdown",
   "metadata": {
    "id": "8lQ2Dpl1a162"
   },
   "source": [
    "辞書`d`に要素を追加や削除(`delete`)することができます．\n",
    "次の例はキー`1`の要素を削除して，キー`10`と値`19`の新たな組を辞書`d`に追加しています．"
   ]
  },
  {
   "cell_type": "code",
   "execution_count": null,
   "metadata": {
    "colab": {
     "base_uri": "https://localhost:8080/"
    },
    "executionInfo": {
     "elapsed": 5,
     "status": "ok",
     "timestamp": 1712302146963,
     "user": {
      "displayName": "北須賀輝明",
      "userId": "08683967670490393975"
     },
     "user_tz": -540
    },
    "id": "OnUq_S_AbI7Z",
    "outputId": "3b93924e-fa98-4b4b-e7c6-b7b22583e45c"
   },
   "outputs": [],
   "source": [
    "d[19] = 8  # キー19と値8の組を辞書dに追加\n",
    "del d[11]  # キーが1の要素を辞書dから削除\n",
    "d"
   ]
  },
  {
   "cell_type": "markdown",
   "metadata": {
    "id": "s2yqiRZmdYkV"
   },
   "source": [
    "辞書`d`にキー`k`が含まれているか調べるには`in`演算子を使います．\n",
    "リストや集合と同じ演算子です．\n",
    "\n",
    "**練習**\n",
    "`11 in d`のセルを書き換えて，辞書`d`に存在するキーの場合に`True`が返されること，存在しないキーでは`False`が返されることを確かめなさい．"
   ]
  },
  {
   "cell_type": "code",
   "execution_count": null,
   "metadata": {
    "colab": {
     "base_uri": "https://localhost:8080/"
    },
    "executionInfo": {
     "elapsed": 354,
     "status": "ok",
     "timestamp": 1712302147313,
     "user": {
      "displayName": "北須賀輝明",
      "userId": "08683967670490393975"
     },
     "user_tz": -540
    },
    "id": "Z9XWBl4_dhzn",
    "outputId": "9bac469d-392d-43a7-f02c-b25cdc627233"
   },
   "outputs": [],
   "source": [
    "11 in d"
   ]
  },
  {
   "cell_type": "markdown",
   "metadata": {
    "id": "IyylB5Fzbho0"
   },
   "source": [
    "`list`関数を使うと辞書`d`のすべてのキーのリストを取り出すことができます．"
   ]
  },
  {
   "cell_type": "code",
   "execution_count": null,
   "metadata": {
    "colab": {
     "base_uri": "https://localhost:8080/"
    },
    "executionInfo": {
     "elapsed": 4,
     "status": "ok",
     "timestamp": 1712302147313,
     "user": {
      "displayName": "北須賀輝明",
      "userId": "08683967670490393975"
     },
     "user_tz": -540
    },
    "id": "FgPo4JpZb9tC",
    "outputId": "ae3b30a8-29b5-488c-cd21-4856d7a6de0f"
   },
   "outputs": [],
   "source": [
    "list(d)"
   ]
  },
  {
   "cell_type": "markdown",
   "metadata": {
    "id": "wnQHvZ4Re2ND"
   },
   "source": [
    "参考：文字列を辞書`d`のキーにすることもできます．"
   ]
  },
  {
   "cell_type": "code",
   "execution_count": null,
   "metadata": {
    "colab": {
     "base_uri": "https://localhost:8080/"
    },
    "executionInfo": {
     "elapsed": 4,
     "status": "ok",
     "timestamp": 1712302147314,
     "user": {
      "displayName": "北須賀輝明",
      "userId": "08683967670490393975"
     },
     "user_tz": -540
    },
    "id": "3B-L6_yaEu_v",
    "outputId": "b1d5ea70-3247-470e-fe79-a1b3b09b5b18"
   },
   "outputs": [],
   "source": [
    "d2 = {'one': 1, 'two': 2, 'three': 3, 'four': 4}\n",
    "print(d2['one'])  # キー'one'に対応する値1が出力される\n",
    "st = 'two'\n",
    "print(d2[st])     # キー'two'に対応する値2が出力される\n",
    "d2[st] = 'ふたつ'\n",
    "d2"
   ]
  },
  {
   "cell_type": "markdown",
   "metadata": {
    "id": "om6-fQ86enY_"
   },
   "source": [
    "二つのリスト`k`と`v`の要素を先頭から順に組み合わせて辞書を作ることができます．\n",
    "次の例を実行して理解してください．"
   ]
  },
  {
   "cell_type": "code",
   "execution_count": null,
   "metadata": {
    "colab": {
     "base_uri": "https://localhost:8080/"
    },
    "executionInfo": {
     "elapsed": 3,
     "status": "ok",
     "timestamp": 1712302147314,
     "user": {
      "displayName": "北須賀輝明",
      "userId": "08683967670490393975"
     },
     "user_tz": -540
    },
    "id": "Qe4KdAduerqh",
    "outputId": "11b3b5b2-703d-4c68-9c40-9916fa467095"
   },
   "outputs": [],
   "source": [
    "k = [1, 3, 6]\n",
    "v = [11, 13, 17]\n",
    "d = dict(zip(k, v))\n",
    "d   # 出力 {1: 11, 3: 13, 6: 17}"
   ]
  },
  {
   "cell_type": "markdown",
   "metadata": {
    "id": "HUVy2VesIp0E"
   },
   "source": [
    "## 5. 要素の探索にかかる速度を比べる\n",
    "リストや集合，辞書にある要素が含まれるか調べることを，ある要素を探索すると言います．\n",
    "この章では探索にかかる時間を測り，リストや集合，辞書の三つのデータ構造で探索の速度の違いを調べてレポートに書いてください．"
   ]
  },
  {
   "cell_type": "markdown",
   "metadata": {
    "id": "YW9u26s_ItR1"
   },
   "source": [
    "### 5.1 時間の測り方"
   ]
  },
  {
   "cell_type": "markdown",
   "metadata": {
    "id": "x8OoFmvoKY30"
   },
   "source": [
    "次のコードは「ここから」と「ここまで」の間の処理にかかった時間を簡易的に測るコードです．\n",
    "`time.time()`関数で現在の時刻を取得します．\n",
    "処理を開始する前と後の2回時刻を取得してその差を処理にかかった時間とみなしています．\n",
    "\n",
    "なお，`time.sleep(1)`は1秒間実行を中断する関数です．\n",
    "この部分に時間を計りたい処理を書きます．"
   ]
  },
  {
   "cell_type": "code",
   "execution_count": null,
   "metadata": {
    "colab": {
     "base_uri": "https://localhost:8080/"
    },
    "executionInfo": {
     "elapsed": 885,
     "status": "ok",
     "timestamp": 1712302148197,
     "user": {
      "displayName": "北須賀輝明",
      "userId": "08683967670490393975"
     },
     "user_tz": -540
    },
    "id": "HNi9hT5jJhO7",
    "outputId": "50232453-acd1-42b6-e67f-076f466ad574"
   },
   "outputs": [],
   "source": [
    "import time\n",
    "t0 = time.time()  # 現在時刻をt0に保存\n",
    "                  # ここからの実行時間を測る\n",
    "time.sleep(1.0)     # 1秒間中断\n",
    "                  # ここまでの実行時間を測る\n",
    "t1 = time.time()  # 現在時刻をt1に保存\n",
    "t1 - t0             # 秒単位の実行時間"
   ]
  },
  {
   "cell_type": "markdown",
   "metadata": {
    "id": "m1nLhjZuLnwU"
   },
   "source": [
    "次のセルで同じ処理にかかる時間を5回測ってみます．\n",
    "いつもちょうど1秒というわけではないことがわかります．\n",
    "測った時間をリスト`t`に保持するコードを示します．\n",
    "字下げされている3行目から8行目が`for`文で5回繰り返されます．\n",
    "字下げされていない9行目は`for`文の外です．\n",
    "\n",
    "参考：[`for`文](https://docs.python.org/ja/3/tutorial/controlflow.html#for-statements)と[`range`関数](https://docs.python.org/ja/3/tutorial/controlflow.html#the-range-function)，ループの本体の字下げについては[プログラミングへの第一歩](https://docs.python.org/ja/3/tutorial/introduction.html#first-steps-towards-programming)\n",
    "\n",
    "**練習**\n",
    "10回測るように変更しなさい．`range(5)`の部分を`range(10)`に変えるとできます．"
   ]
  },
  {
   "cell_type": "code",
   "execution_count": null,
   "metadata": {
    "colab": {
     "base_uri": "https://localhost:8080/"
    },
    "executionInfo": {
     "elapsed": 5426,
     "status": "ok",
     "timestamp": 1712302153621,
     "user": {
      "displayName": "北須賀輝明",
      "userId": "08683967670490393975"
     },
     "user_tz": -540
    },
    "id": "LTrYF0C7Lso1",
    "outputId": "fb1ed478-5f88-41fa-a44e-9c2b21b56598"
   },
   "outputs": [],
   "source": [
    "t = []              # time.sleep(1)の実行時間を記録するリスト\n",
    "for i in range(5):\n",
    "  t0 = time.time()\n",
    "                    # ここからの実行時間を測る\n",
    "  time.sleep(1.0)     # 1秒間中断\n",
    "                    # ここまでの実行時間を測る\n",
    "  t1 = time.time()\n",
    "  t.append(t1 - t0)   # time.sleep(1)の実行時間をリストに記録する\n",
    "t"
   ]
  },
  {
   "cell_type": "markdown",
   "metadata": {
    "id": "FTIrwNh3NTSc"
   },
   "source": [
    "この演習では実行時間の分布は気にしないことにして，5回測ったうちの中央値を実行時間とみなすことにします．\n",
    "\n",
    "5回測ったうちの中央の時間を取り出すには，並び替えて(`sort`)，中央(`t[2]`)の値を取り出すのが簡単です．"
   ]
  },
  {
   "cell_type": "code",
   "execution_count": null,
   "metadata": {
    "colab": {
     "base_uri": "https://localhost:8080/"
    },
    "executionInfo": {
     "elapsed": 9,
     "status": "ok",
     "timestamp": 1712302153621,
     "user": {
      "displayName": "北須賀輝明",
      "userId": "08683967670490393975"
     },
     "user_tz": -540
    },
    "id": "W_vpSBxQMPWO",
    "outputId": "00f44a31-f83d-4e50-e6f0-92c70ceb3f19"
   },
   "outputs": [],
   "source": [
    "print(\"ソート前\", t)\n",
    "t.sort() # リストtを小さいものから順に並び替える\n",
    "print(\"ソート後\", t)\n",
    "t[2]"
   ]
  },
  {
   "cell_type": "markdown",
   "metadata": {
    "id": "t3fgfRiHOql8"
   },
   "source": [
    "### 5.2 測る部分を関数にまとめる"
   ]
  },
  {
   "cell_type": "markdown",
   "metadata": {
    "id": "rez-KKsrR7tx"
   },
   "source": [
    "リスト`l`と集合`s`と辞書`d`の三つデータ構造について探索時間を比較するのが今日の目的です．\n",
    "そのため`in`演算子で特定の要素があるか調べるのにかかる時間を，リスト`l`と集合`s`と辞書`d`の三つデータ構造について測ります．\n",
    "関数を使わずに素朴に書くと次のコードのように3回似たことを繰り返し書くことになります．\n",
    "\n",
    "要素を探して見つかったか否か（`True`や`False`）という結果を出力していませんが，要素を探す処理は実行していることに注意してください．"
   ]
  },
  {
   "cell_type": "code",
   "execution_count": null,
   "metadata": {
    "colab": {
     "base_uri": "https://localhost:8080/"
    },
    "executionInfo": {
     "elapsed": 8,
     "status": "ok",
     "timestamp": 1712302153622,
     "user": {
      "displayName": "北須賀輝明",
      "userId": "08683967670490393975"
     },
     "user_tz": -540
    },
    "id": "sWKMqwe9O7du",
    "outputId": "1e7d524a-2ec1-4e73-b500-dcac1ded00d2"
   },
   "outputs": [],
   "source": [
    "l = [11, 13, 19, 23, 17]\n",
    "s = {11, 13, 19, 23, 17}\n",
    "d = {11: 5, 13: 6, 19: 8, 23: 9, 17: 7}\n",
    "\n",
    "tl = []\n",
    "for i in range(5): # 時間を5回測る\n",
    "  t0 = time.time()\n",
    "  19 in l          # 要素19がリストlにあるか調べる\n",
    "  t1 = time.time()\n",
    "  tl.append(t1 - t0) # 測った時間をリストtlに記録する\n",
    "print(\"リスト：5回の実行時間\", tl)\n",
    "tl.sort()          # 5つの時間を小さい順に並べ替える\n",
    "\n",
    "ts = []\n",
    "for i in range(5):\n",
    "  t0 = time.time()\n",
    "  19 in s          # 要素19が集合sにあるか調べる\n",
    "  t1 = time.time()\n",
    "  ts.append(t1 - t0)\n",
    "print(\"集合：5回の実行時間　\", ts)\n",
    "ts.sort()\n",
    "\n",
    "td = []\n",
    "for i in range(5):\n",
    "  t0 = time.time()\n",
    "  19 in d          # 要素19が集合dにあるか調べる\n",
    "  t1 = time.time()\n",
    "  td.append(t1 - t0)\n",
    "print(\"辞書：5回の実行時間　\", td)\n",
    "td.sort()\n",
    "\n",
    "print(\"以下の時間は中央値\")\n",
    "print(\"リストの実行時間\", tl[2])\n",
    "print(\"集合の実行時間　\", ts[2])\n",
    "print(\"辞書の実行時間　\", td[2])"
   ]
  },
  {
   "cell_type": "markdown",
   "metadata": {
    "id": "lJPLEDviTYM4"
   },
   "source": [
    "上のコードでは同じような`for`文が三つあるので変更が面倒です．\n",
    "`time_to_search`関数を作って次のようにまとめましょう．\n",
    "この関数の第1引数はリストなどから探す要素，第2引数はリスト（あるいは集合や辞書）にします．\n",
    "次のように`in`演算子を使うので引数の順序もこれに合わせています．\n",
    "```\n",
    "探索する要素 in リスト（あるいは集合や辞書）\n",
    "```\n",
    "\n",
    "**練習**\n",
    "下のコードに`time_to_search`関数の定義と呼び出しを書き加えなさい．\n",
    "`for`文の繰り返しはこの関数内で行います．\n",
    "書き加えるコードは次のようにするとよい．\n",
    "出力する時間の単位をマイクロ秒にしています．\n",
    "\n",
    "関数の定義（字下げをよく見て関数の範囲や`for`文の範囲を把握すること）\n",
    "```\n",
    "def time_to_search(element, list_or_other):\n",
    "  t = []\n",
    "  for i in range(5):         # 時間を5回測る\n",
    "    t0 = time.time()\n",
    "    element in list_or_other # 上の例で 11 in l の部分\n",
    "    t1 = time.time()\n",
    "    t.append(t1 - t0)        # 測った時間をリストtに記録する\n",
    "  t.sort()                   # 5つの時間を小さい順に並べ替える\n",
    "  return t[2]                # 関数の呼び出し元に5回計測したうちの中間の時間を返す．時間の単位は秒\n",
    "```\n",
    "関数の呼び出し\n",
    "```\n",
    "tl = time_to_search(19, l) # 関数内で11 in lを実行するように引数を渡す\n",
    "ts = time_to_search(19, s) # 関数内で11 in sを実行するように引数を渡す\n",
    "td = time_to_search(19, d) # 関数内で11 in dを実行するように引数を渡す\n",
    "```"
   ]
  },
  {
   "cell_type": "code",
   "execution_count": null,
   "metadata": {
    "colab": {
     "base_uri": "https://localhost:8080/"
    },
    "executionInfo": {
     "elapsed": 7,
     "status": "ok",
     "timestamp": 1712302153622,
     "user": {
      "displayName": "北須賀輝明",
      "userId": "08683967670490393975"
     },
     "user_tz": -540
    },
    "id": "jSSs_RhNThcK",
    "outputId": "43b0c174-1e2a-4008-e4e0-d44fa12edaa6"
   },
   "outputs": [],
   "source": [
    "l = [11, 13, 19, 23, 17]\n",
    "s = {11, 13, 19, 23, 17}\n",
    "d = {11: 5, 13: 6, 19: 8, 23: 9, 17: 7}\n",
    "\n",
    "# time_to_search関数の定義\n",
    "\n",
    "\n",
    "\n",
    "\n",
    "\n",
    "\n",
    "\n",
    "\n",
    "\n",
    "\n",
    "\n",
    "# time_to_search関数の呼び出し\n",
    "\n",
    "\n",
    "\n",
    "\n",
    "print(\"リストの実行時間\", tl * 10**6)\n",
    "print(\"集合の実行時間　\", ts * 10**6)\n",
    "print(\"辞書の実行時間　\", td * 10**6)\n",
    "print(\"時間の単位はマイクロ秒\") # 1秒は10**6マイクロ秒"
   ]
  },
  {
   "cell_type": "markdown",
   "metadata": {
    "id": "HiyLNAALTJPd"
   },
   "source": [
    "上のセルのコードでは，`in`演算子の処理は0．1マイクロ秒（10の-7乗秒）くらいの短時間で終わるため計測が難しい．次の練習で同じ処理を千回繰り返すようにする．\n",
    "\n",
    "**練習**\n",
    "同じ処理を千回繰り返すように以下のコード中の`time_to_search`関数を書き替えなさい．\n",
    "リスト`t`に記録する時間は計測時間`t1-t0`を千で割った一回あたりの平均時間にすること．\n",
    "`entry in list_or_other`の部分を次のように書き替えると千回繰り返すようになる．\n",
    "```\n",
    "    for j in range(1000):\n",
    "      entry in list_or_other # 上の例で 11 in l の部分\n",
    "```\n",
    "また時間をリスト`t`に記録する部分`t.append(t1 - t0)`を次のように書き替えると一回あたりの平均時間が記録される．\n",
    "```\n",
    "t.append((t1 - t0) / 1000)\n",
    "```\n"
   ]
  },
  {
   "cell_type": "code",
   "execution_count": null,
   "metadata": {
    "colab": {
     "base_uri": "https://localhost:8080/"
    },
    "executionInfo": {
     "elapsed": 5,
     "status": "ok",
     "timestamp": 1712302153622,
     "user": {
      "displayName": "北須賀輝明",
      "userId": "08683967670490393975"
     },
     "user_tz": -540
    },
    "id": "r1AFfIiMVpKD",
    "outputId": "fae5c6dd-6b06-42a0-92d3-32687843e22d"
   },
   "outputs": [],
   "source": [
    "l = [11, 13, 17, 19, 21]\n",
    "s = {11, 13, 17, 19, 21}\n",
    "d = {11: 5, 13: 6, 17: 7, 19: 8, 23: 9}\n",
    "\n",
    "# 関数の定義\n",
    "def time_to_search(entry, list_or_other):\n",
    "  t = []\n",
    "  for i in range(5):\n",
    "    t0 = time.time()\n",
    "    entry in list_or_other # 上の例で 11 in l の部分\n",
    "    t1 = time.time()\n",
    "    t.append(t1 - t0) # 計測時間t1-t0をリストtに保存する\n",
    "  t.sort()\n",
    "  return t[2] # 5回計測したうちの中間の値を計測時間とする．単位は秒\n",
    "\n",
    "# 関数の呼び出し\n",
    "tl = time_to_search(19, l) # 関数内で11 in lを実行するように引数を渡す\n",
    "ts = time_to_search(19, s) # 関数内で11 in lを実行するように引数を渡す\n",
    "td = time_to_search(19, d) # 関数内で11 in lを実行するように引数を渡す\n",
    "\n",
    "print(\"リストの実行時間\", tl * 10**6)\n",
    "print(\"集合の実行時間　\", ts * 10**6)\n",
    "print(\"辞書の実行時間　\", td * 10**6)\n",
    "print(\"時間の単位はマイクロ秒\") # 1秒は10**6マイクロ秒"
   ]
  },
  {
   "cell_type": "markdown",
   "metadata": {
    "id": "zv4iJPMJa6m0"
   },
   "source": [
    "### 5.3 要素数を変えながらリスト内の要素を探す時間を測る\n",
    "\n",
    "この節では，リストの要素を探索する時間がどう変化するかに集中してほしい．\n",
    "リスト中の各要素は先頭から順に`0`, `1`, `2`, ...のように並んでいるので，`100`を探すのであれば，先頭から順に探して101個目で見つかることになる．\n",
    "リストに含まれない要素を探す場合はすべての要素を調べて見つからないことを確認することになる．\n",
    "\n",
    "いくつか準備する．\n",
    "\n",
    "**準備1**\n",
    "リスト`l`の要素数を決める．\n",
    "次のように5から100万（10の6乗）まで変化させる．\n",
    "\n",
    "`[5, 10, 20, 50, 100, 200, 500, 1000, 2000, 5000, 10000, 20000, 50000, 100000, 200000, 500000, 1000000]`\n",
    "\n",
    "補足：この要素数はおよそ$10^{i/3}$です．ただし$i>1$．\n",
    "\n",
    "**準備2**\n",
    "ここで，結果をグラフで表示するための`plot`関数を用意する．\n",
    "この関数の引数は凡例のラベル，要素数（X軸）のデータのリスト，実行時間（Y軸）のデータのリストの3つである．\n",
    "グラフのX軸とY軸はどちらも対数軸なので注意すること．\n",
    "\n",
    "なお，`plot`関数の引数は理解する必要があるが，関数内部で使っているpyplotの理解はこの演習の範囲外とする．\n",
    "\n",
    "参考：[matploglib.pyplotの解説](https://matplotlib.org/stable/api/pyplot_summary.html)"
   ]
  },
  {
   "cell_type": "code",
   "execution_count": null,
   "metadata": {
    "id": "1wyFoZ3ms0oz"
   },
   "outputs": [],
   "source": [
    "import matplotlib.pyplot as plt\n",
    "\n",
    "def plot(label, x, y):\n",
    "  # labelは凡例に示す文字列\n",
    "  # xとyは同じ長さのリストで点（x[i], y[i])と点（x[i+1], y[i+1])を結んでグラフに書く．\n",
    "  ymicro = [t * 10**6 for t in y]  # yの各要素の単位を秒からマイクロ秒に変換する．1秒は10**6マイクロ秒\n",
    "  plt.figure(figsize=[5, 4])       # グラフのサイズ．数値は横幅，高さの順．単位はインチ．1インチは2.54cm\n",
    "  plt.plot(x, ymicro, marker='.', label=label)\n",
    "  plt.xlabel('number of elements') # X軸ラベル 要素数（日本語は苦手）\n",
    "  plt.ylabel('time [μ second]')   # Y軸ラベル 時間\n",
    "  plt.xscale('log')                # X軸を対数軸に\n",
    "  plt.yscale('log')                # Y軸を対数軸に\n",
    "  plt.legend(loc='upper left')     # 凡例を左上に表示する\n",
    "  plt.show()                       # 作成したグラフを出力する"
   ]
  },
  {
   "cell_type": "markdown",
   "metadata": {
    "id": "K__xt3bSIgMK"
   },
   "source": [
    "この`plot`関数を使ったグラフの例を3つ示す．"
   ]
  },
  {
   "cell_type": "code",
   "execution_count": null,
   "metadata": {
    "colab": {
     "base_uri": "https://localhost:8080/",
     "height": 1142
    },
    "executionInfo": {
     "elapsed": 3373,
     "status": "ok",
     "timestamp": 1712302156992,
     "user": {
      "displayName": "北須賀輝明",
      "userId": "08683967670490393975"
     },
     "user_tz": -540
    },
    "id": "lUXyKB7IIdRK",
    "outputId": "f533c628-a724-44a8-be0a-338ce8168453"
   },
   "outputs": [],
   "source": [
    "x = [5, 10, 20, 50, 100, 200, 500, 1000, 2000, 5000, 10000, 20000, 50000, 100000, 200000, 500000, 1000000]\n",
    "y = x[:] # xをyにコピー\n",
    "plot('graph sample', x, y)\n",
    "\n",
    "y.reverse()\n",
    "plot('reverse sample', x, y)\n",
    "\n",
    "random.shuffle(y)\n",
    "plot('shuffle sample', x, y)"
   ]
  },
  {
   "cell_type": "markdown",
   "metadata": {
    "id": "O1DLEM39sd4_"
   },
   "source": [
    "**準備3**\n",
    "次のコードで3.5節でグラフを作成するために，計測したデータを保存する辞書として`measurements`を作成する．\n",
    "`measurements`への計測時間の保存とグラフの作成はすでに作ってある．"
   ]
  },
  {
   "cell_type": "code",
   "execution_count": null,
   "metadata": {
    "id": "wLNMS0vOgCIH"
   },
   "outputs": [],
   "source": [
    "measurements = {} # キー：リストと探索要素からなる探索条件の文字列，値：matplotlib.pyplotのxとyのリスト"
   ]
  },
  {
   "cell_type": "markdown",
   "metadata": {
    "id": "XNrc1jCifw7B"
   },
   "source": [
    "準備以上である．\n",
    "\n",
    "**練習**\n",
    "次のセルのコードはリストから要素`1`を探している．\n",
    "探す要素を`1000`や`1000000`などに変化させて実行時間を測りなさい．\n",
    "探す要素はコード1行目で変数`i`に代入する．\n",
    "時間がかかりすぎる場合は中断してよい．\n",
    "`time_to_search`関数内で探す処理を千回繰り返して平均し，さらにそれを5回繰り返して中央値を求めているので五千倍遅くなっていることを思い出しなさい．\n",
    "\n",
    "補足：f'{i} in list'の部分は[フォーマット済み文字列リテラル](https://docs.python.org/ja/3.8/tutorial/inputoutput.html#formatted-string-literals)で，`{i}`の部分に変数`i`の値が埋め込まれます．"
   ]
  },
  {
   "cell_type": "code",
   "execution_count": null,
   "metadata": {
    "colab": {
     "base_uri": "https://localhost:8080/",
     "height": 704
    },
    "executionInfo": {
     "elapsed": 1065,
     "status": "ok",
     "timestamp": 1712302158054,
     "user": {
      "displayName": "北須賀輝明",
      "userId": "08683967670490393975"
     },
     "user_tz": -540
    },
    "id": "SBcsh9vdb_-T",
    "outputId": "95666707-b9e2-456f-ec3e-f9a7d09b54b6"
   },
   "outputs": [],
   "source": [
    "i = 1 # 探す要素\n",
    "\n",
    "label = f'{i} in list' # グラフ用のラベル\n",
    "nlist = []                       # 要素数のリスト．グラフX軸のデータ\n",
    "tlist = []                       # 実行時間のリスト．グラフのY軸のデータ\n",
    "print(label)\n",
    "\n",
    "for n in [5, 10, 20, 50, 100, 200, 500, 1000, 2000, 5000, 10000, 20000, 50000, 100000, 200000, 500000, 1000000]:\n",
    "  l = list(range(n))  # 0からn-1までのn要素のリストを作る\n",
    "  t = time_to_search(i, l) # リストlからiを探す\n",
    "  print(\"要素数: \", n, \"\\t時間(μs): \", t * 10**6)\n",
    "  nlist.append(n) # グラフ用に要素数を記録\n",
    "  tlist.append(t) # グラフ用に実行時間を記録．\n",
    "\n",
    "plot(label, nlist, tlist)\n",
    "measurements[label] = [nlist, tlist] # 5.5節で複数の計測結果をまとめたグラフを作るときのためにこの結果を覚えておく"
   ]
  },
  {
   "cell_type": "markdown",
   "metadata": {
    "id": "YUO7eGdWfLqA"
   },
   "source": [
    "### 5.4 要素数を変えながら集合内や辞書内の要素を探す時間を測る\n",
    "同じ`in`演算子を使った要素の探索を集合でもやってみよう．\n",
    "\n",
    "**練習**\n",
    "次のコードに`0`から`n-1`までの`n`要素からなる集合`s`を作る部分を書き加えなさい．\n",
    "先ほど学んだように`set`関数と`range`関数を使う．\n",
    "\n",
    "その後，探す要素を`1`以外に変更して実行時間の違いを調べなさい．\n",
    "リストの後ろの方にある要素を探すのに時間がかかることを確かめなさい．"
   ]
  },
  {
   "cell_type": "code",
   "execution_count": null,
   "metadata": {
    "colab": {
     "base_uri": "https://localhost:8080/",
     "height": 704
    },
    "executionInfo": {
     "elapsed": 1152,
     "status": "ok",
     "timestamp": 1712302159203,
     "user": {
      "displayName": "北須賀輝明",
      "userId": "08683967670490393975"
     },
     "user_tz": -540
    },
    "id": "CEJeeNQPf62E",
    "outputId": "37bb56bf-f48d-423a-b9cb-bfaee3e4b851"
   },
   "outputs": [],
   "source": [
    "i = 1 # 探す要素\n",
    "\n",
    "label = f'{i} in set' # グラフ用のラベル\n",
    "nlist = []                       # 要素数のリスト．グラフX軸のデータ\n",
    "tlist = []                       # 実行時間のリスト．グラフのY軸のデータ\n",
    "print(label)\n",
    "\n",
    "for n in [5, 10, 20, 50, 100, 200, 500, 1000, 2000, 5000, 10000, 20000, 50000, 100000, 200000, 500000, 1000000]:\n",
    "  # 0からn-1までのn要素の集合を作る文を追加する\n",
    "  s = set(range(n)) # 解答行（配布時は削除）\n",
    "  t = time_to_search(i, s) # リストlから1（第1引数）を探す\n",
    "  print(\"要素数: \", n, \"\\t時間(μs): \", t * 10**6)\n",
    "  nlist.append(n)    # グラフ用に要素数を記録\n",
    "  tlist.append(t) # グラフ用に実行時間を記録\n",
    "\n",
    "plot(label, nlist, tlist)\n",
    "measurements[label] = [nlist, tlist] # 5.5節で複数の計測結果をまとめたグラフを作るときのためにこの結果を覚えておく"
   ]
  },
  {
   "cell_type": "markdown",
   "metadata": {
    "id": "XO0nMAkCjFiF"
   },
   "source": [
    "同じことを辞書でもしたいので`n`要素の辞書を作る．\n",
    "`n`要素の辞書を作るには`dict`関数に加えて`zip`関数と`range`関数を使うとできる．\n",
    "次のセルでできた辞書を確認しなさい．\n",
    "`zip`関数はこの演習では覚えないでよい．\n",
    "\n",
    "**練習**\n",
    "`n`の値を`5`から変化させてできる辞書を確認しなさい．"
   ]
  },
  {
   "cell_type": "code",
   "execution_count": null,
   "metadata": {
    "colab": {
     "base_uri": "https://localhost:8080/"
    },
    "executionInfo": {
     "elapsed": 488,
     "status": "ok",
     "timestamp": 1712302159687,
     "user": {
      "displayName": "北須賀輝明",
      "userId": "08683967670490393975"
     },
     "user_tz": -540
    },
    "id": "W1NrBORQj_xV",
    "outputId": "dee9225c-7d77-402a-8746-48be5deac2ec"
   },
   "outputs": [],
   "source": [
    "n = 5\n",
    "dict(zip(range(n), range(n)))"
   ]
  },
  {
   "cell_type": "markdown",
   "metadata": {
    "id": "e_g0zHlUlhQy"
   },
   "source": [
    "**余力がある人用の練習**\n",
    "上のコードで`zip(range(n), range(n))`を`zip(range(n), range(100,100+n))`に書き替えると`{0: 100, 1: 101, 2: 102, 3: 103, 4: 104}`という辞書ができることを確認しなさい．\n",
    "\n",
    "参考：[rangeの説明](https://docs.python.org/ja/3/library/stdtypes.html#ranges)に`range`関数に二つ引数がある場合の説明がある．"
   ]
  },
  {
   "cell_type": "markdown",
   "metadata": {
    "id": "5Kko5zf2mF0a"
   },
   "source": [
    "**練習**\n",
    "以下のコードは辞書にキー`1`が含まれるか調べている．\n",
    "探す要素を`1`以外に変更して実行時間の変化を調べなさい．"
   ]
  },
  {
   "cell_type": "code",
   "execution_count": null,
   "metadata": {
    "colab": {
     "base_uri": "https://localhost:8080/",
     "height": 704
    },
    "executionInfo": {
     "elapsed": 694,
     "status": "ok",
     "timestamp": 1712302160378,
     "user": {
      "displayName": "北須賀輝明",
      "userId": "08683967670490393975"
     },
     "user_tz": -540
    },
    "id": "8plig12rge-9",
    "outputId": "aff6cc3d-ce7c-4f37-938c-14e7347f280e"
   },
   "outputs": [],
   "source": [
    "i = 1 # 探す要素\n",
    "\n",
    "label = f'{i} in dict' # グラフ用のラベル\n",
    "nlist = []                       # 要素数のリスト．グラフX軸のデータ\n",
    "tlist = []                       # 実行時間のリスト．グラフのY軸のデータ\n",
    "print(label)\n",
    "\n",
    "for n in [5, 10, 20, 50, 100, 200, 500, 1000, 2000, 5000, 10000, 20000, 50000, 100000, 200000, 500000, 1000000]:\n",
    "  d = dict(zip(range(n), range(n)))  # 0からn-1までのn要素の辞書を作る．キーと値は同じ．\n",
    "  t = time_to_search(1, d) # リストlから1（第1引数）を探す\n",
    "  print(\"要素数: \", n, \"\\t時間(μs): \", t * 10**6)\n",
    "  nlist.append(n)    # グラフ用に要素数を記録\n",
    "  tlist.append(t) # グラフ用に実行時間を記録\n",
    "\n",
    "plot(label, nlist, tlist)\n",
    "measurements[label] = [nlist, tlist] # 5.5節で複数の計測結果をまとめたグラフを作るときのためにこの結果を覚えておく"
   ]
  },
  {
   "cell_type": "markdown",
   "metadata": {
    "id": "o40FNdxufTjM"
   },
   "source": [
    "### 5.5 計測結果をまとめたグラフを作る\n",
    "レポートが作成しやすいようにこれまでに計測した結果をグラフにします．\n",
    "計測結果は現在のセッションのものだけです．\n",
    "\n",
    "計測結果のラベル一覧は次のコードで調べられます．\n",
    "グラフに載せたくないデータは`del measurement['ラベル名']`を実行して削除してください．"
   ]
  },
  {
   "cell_type": "code",
   "execution_count": null,
   "metadata": {
    "colab": {
     "base_uri": "https://localhost:8080/"
    },
    "executionInfo": {
     "elapsed": 5,
     "status": "ok",
     "timestamp": 1712302160378,
     "user": {
      "displayName": "北須賀輝明",
      "userId": "08683967670490393975"
     },
     "user_tz": -540
    },
    "id": "IBCe4ZyewAQ-",
    "outputId": "24ffbddb-c54d-418b-d00c-67b9bbe84dab"
   },
   "outputs": [],
   "source": [
    "list(measurements)"
   ]
  },
  {
   "cell_type": "markdown",
   "metadata": {
    "id": "nNFIteqs9xDP"
   },
   "source": [
    "参考：measurementsの型が思い出せないときは`type(measurements)`を実行すると`dict`型（[辞書型](https://docs.python.org/ja/3/tutorial/datastructures.html#dictionaries)）だとわかります．"
   ]
  },
  {
   "cell_type": "code",
   "execution_count": null,
   "metadata": {
    "colab": {
     "base_uri": "https://localhost:8080/"
    },
    "executionInfo": {
     "elapsed": 4,
     "status": "ok",
     "timestamp": 1712302160378,
     "user": {
      "displayName": "北須賀輝明",
      "userId": "08683967670490393975"
     },
     "user_tz": -540
    },
    "id": "JUhwbPry9tVZ",
    "outputId": "a217fcc4-45ae-4d67-a671-78dcbb70f82a"
   },
   "outputs": [],
   "source": [
    "type(measurements)"
   ]
  },
  {
   "cell_type": "markdown",
   "metadata": {
    "id": "tgUyKqe3ww7Q"
   },
   "source": [
    "すべての計測結果を一つのグラフにするには次のコードを実行します．\n",
    "図を右クリックすると「画像を保存」できます．\n",
    "\n",
    "レポートの考察を補助するために，保存した画像をレポートに貼り付けてください．"
   ]
  },
  {
   "cell_type": "code",
   "execution_count": null,
   "metadata": {
    "colab": {
     "base_uri": "https://localhost:8080/",
     "height": 392
    },
    "executionInfo": {
     "elapsed": 1090,
     "status": "ok",
     "timestamp": 1712302161465,
     "user": {
      "displayName": "北須賀輝明",
      "userId": "08683967670490393975"
     },
     "user_tz": -540
    },
    "id": "Vzn69uN-wcJf",
    "outputId": "234d4965-0ba0-4c06-8fc7-7953cb4d9989"
   },
   "outputs": [],
   "source": [
    "plt.figure(figsize=[5, 4])       # グラフのサイズ．数値は横幅，高さの順．単位はインチ．1インチは2.54cm\n",
    "for label, xy in measurements.items():\n",
    "  x, y = xy\n",
    "  ymicro = [t * 10**6 for t in y] # yの各要素の単位を秒からマイクロ秒に変換する．1秒は10**6マイクロ秒\n",
    "  plt.plot(x, ymicro, marker='.', label=label)\n",
    "plt.xlabel('number of elements') # X軸ラベル 要素数（日本語は苦手）\n",
    "plt.ylabel('time [μ second]')   # Y軸ラベル 時間（マイクロ秒）\n",
    "plt.xscale('log')                # X軸を対数軸に\n",
    "plt.yscale('log')                # Y軸を対数軸に\n",
    "plt.legend(loc='upper left')     # 凡例\n",
    "plt.show()"
   ]
  },
  {
   "cell_type": "markdown",
   "metadata": {},
   "source": [
    "### 5.6 参考：リストのpop関数の実行時間\n",
    "\n",
    "この節はレポートとは関係ありません．\n",
    "前の節で，リストに対する`in`演算子の実行時間を調べました．\n",
    "この節では，リスト`l`のいくつかの関数の実行時間を測って比べてみましょう．\n",
    "下のコードセルにこれらの時間を測るコードが書いてあります．\n",
    "リストの要素数が増えたときにどの関数の時間がかかるか調べなさい．\n",
    "\n",
    "- `l.pop()` ... リストの末尾の要素をリストから取り除く．\n",
    "- `l.append(要素)` ... リストの末尾に要素を追加する．`l.insert(len(l), 要素)`と等価．\n",
    "- `l.pop(len(l) // 2)` ... リストの真ん中あたりの要素をリストから取り除く．\n",
    "- `l.insert(len(l) // 2, 要素)` ... リストの真ん中あたりに要素を追加する．\n",
    "- `l.pop(0)` ... リストの0番目（先頭）の要素をリストから取り除く．\n",
    "- `l.insert(0, 要素)` ... リストの先頭（0番目の前）に要素を追加する．\n",
    "- `l.reverse()` ... リストの要素を逆順にする．\n",
    "- `l.sort()` ... リストの要素を小さい順に並べ替える．\n",
    "- `random.shuffle(l)` ... リストの要素をシャッフルする\n",
    "\n",
    "測ってみると，\n",
    "- リストの末尾を操作する`pop()`と`append()`はリストが長くなってもほぼ一定時間で操作が完了すること，\n",
    "- `sort()`と`random.shuffle()`は時間がかかること，\n",
    "- これら以外の関数は大差ないこと．\n",
    "- 大差ないとはいえ，リストの真ん中あたりの操作は，先頭の操作より少し短い時間でできること\n",
    "\n",
    "がわかります．"
   ]
  },
  {
   "cell_type": "code",
   "execution_count": null,
   "metadata": {},
   "outputs": [],
   "source": [
    "label = 'list.pop()' # グラフ用のラベル\n",
    "nlist = []                       # 要素数のリスト．グラフX軸のデータ\n",
    "tlist = []                       # 実行時間のリスト．グラフのY軸のデータ\n",
    "print(label)\n",
    "m = 1000\n",
    "\n",
    "for n in [5, 10, 20, 50, 100, 200, 500, 1000, 2000, 5000, 10000, 20000, 50000, 100000, 200000, 500000, 1000000]:\n",
    "  l = list(range(n))  # 0からn-1までのn要素のリストを作る\n",
    "  t = []\n",
    "  for i in range(5):\n",
    "    tsum = 0\n",
    "    random.shuffle(l)\n",
    "    for j in range(m):\n",
    "      t0 = time.time()\n",
    "      e = l.pop()\n",
    "      t1 = time.time()\n",
    "      tsum += t1 - t0\n",
    "      l.append(e)\n",
    "    t.append(tsum / m) #　追加したfor文の繰り返し回数で割ると平均時間になる\n",
    "  t.sort()\n",
    "  t = t[2] # 5回計測したうちの中間の値を計測時間とする．単位は秒\n",
    "  print(\"要素数: \", n, \"\\t時間(μs): \", t * 10**6)\n",
    "  nlist.append(n) # グラフ用に要素数を記録\n",
    "  tlist.append(t) # グラフ用に実行時間を記録．\n",
    "\n",
    "plot(label, nlist, tlist)\n",
    "measurements[label] = [nlist, tlist] # 3.5節で複数の計測結果をまとめたグラフを作るときのためにこの結果を覚えておく"
   ]
  },
  {
   "cell_type": "code",
   "execution_count": null,
   "metadata": {},
   "outputs": [],
   "source": [
    "label = 'list.append()' # グラフ用のラベル\n",
    "nlist = []                       # 要素数のリスト．グラフX軸のデータ\n",
    "tlist = []                       # 実行時間のリスト．グラフのY軸のデータ\n",
    "print(label)\n",
    "\n",
    "for n in [5, 10, 20, 50, 100, 200, 500, 1000, 2000, 5000, 10000, 20000, 50000, 100000, 200000, 500000, 1000000]:\n",
    "  l = list(range(n))  # 0からn-1までのn要素のリストを作る\n",
    "  t = []\n",
    "  for i in range(5):\n",
    "    tsum = 0\n",
    "    random.shuffle(l)\n",
    "    for j in range(m):\n",
    "      e = l.pop()\n",
    "      t0 = time.time()\n",
    "      l.append(e)\n",
    "      t1 = time.time()\n",
    "      tsum += t1 - t0\n",
    "    t.append(tsum / m) #　追加したfor文の繰り返し回数で割ると平均時間になる\n",
    "  t.sort()\n",
    "  t = t[2] # 5回計測したうちの中間の値を計測時間とする．単位は秒\n",
    "  print(\"要素数: \", n, \"\\t時間(μs): \", t * 10**6)\n",
    "  nlist.append(n) # グラフ用に要素数を記録\n",
    "  tlist.append(t) # グラフ用に実行時間を記録．\n",
    "\n",
    "plot(label, nlist, tlist)\n",
    "measurements[label] = [nlist, tlist] # 3.5節で複数の計測結果をまとめたグラフを作るときのためにこの結果を覚えておく"
   ]
  },
  {
   "cell_type": "code",
   "execution_count": null,
   "metadata": {},
   "outputs": [],
   "source": [
    "label = 'list.pop(mid)' # グラフ用のラベル\n",
    "nlist = []                       # 要素数のリスト．グラフX軸のデータ\n",
    "tlist = []                       # 実行時間のリスト．グラフのY軸のデータ\n",
    "print(label)\n",
    "\n",
    "for n in [5, 10, 20, 50, 100, 200, 500, 1000, 2000, 5000, 10000, 20000, 50000, 100000, 200000, 500000, 1000000]:\n",
    "  l = list(range(n))  # 0からn-1までのn要素のリストを作る\n",
    "  t = []\n",
    "  for i in range(5):\n",
    "    tsum = 0\n",
    "    random.shuffle(l)\n",
    "    for j in range(m):\n",
    "      t0 = time.time()\n",
    "      e = l.pop(len(l) // 2)\n",
    "      t1 = time.time()\n",
    "      tsum += t1 - t0\n",
    "      l.append(e)\n",
    "    t.append(tsum / m) #　追加したfor文の繰り返し回数で割ると平均時間になる\n",
    "  t.sort()\n",
    "  t = t[2] # 5回計測したうちの中間の値を計測時間とする．単位は秒\n",
    "  print(\"要素数: \", n, \"\\t時間(μs): \", t * 10**6)\n",
    "  nlist.append(n) # グラフ用に要素数を記録\n",
    "  tlist.append(t) # グラフ用に実行時間を記録．\n",
    "\n",
    "plot(label, nlist, tlist)\n",
    "measurements[label] = [nlist, tlist] # 3.5節で複数の計測結果をまとめたグラフを作るときのためにこの結果を覚えておく"
   ]
  },
  {
   "cell_type": "code",
   "execution_count": null,
   "metadata": {},
   "outputs": [],
   "source": [
    "label = 'list.insert(mid)' # グラフ用のラベル\n",
    "nlist = []                       # 要素数のリスト．グラフX軸のデータ\n",
    "tlist = []                       # 実行時間のリスト．グラフのY軸のデータ\n",
    "print(label)\n",
    "\n",
    "for n in [5, 10, 20, 50, 100, 200, 500, 1000, 2000, 5000, 10000, 20000, 50000, 100000, 200000, 500000, 1000000]:\n",
    "  l = list(range(n))  # 0からn-1までのn要素のリストを作る\n",
    "  t = []\n",
    "  for i in range(5):\n",
    "    tsum = 0\n",
    "    random.shuffle(l)\n",
    "    for j in range(m):\n",
    "      e = l.pop()\n",
    "      t0 = time.time()\n",
    "      l.insert(len(l) // 2, e)\n",
    "      t1 = time.time()\n",
    "      tsum += t1 - t0\n",
    "    t.append(tsum / m) #　追加したfor文の繰り返し回数で割ると平均時間になる\n",
    "  t.sort()\n",
    "  t = t[2] # 5回計測したうちの中間の値を計測時間とする．単位は秒\n",
    "  print(\"要素数: \", n, \"\\t時間(μs): \", t * 10**6)\n",
    "  nlist.append(n) # グラフ用に要素数を記録\n",
    "  tlist.append(t) # グラフ用に実行時間を記録．\n",
    "\n",
    "plot(label, nlist, tlist)\n",
    "measurements[label] = [nlist, tlist] # 3.5節で複数の計測結果をまとめたグラフを作るときのためにこの結果を覚えておく"
   ]
  },
  {
   "cell_type": "code",
   "execution_count": null,
   "metadata": {},
   "outputs": [],
   "source": [
    "label = 'list.pop(0)' # グラフ用のラベル\n",
    "nlist = []                       # 要素数のリスト．グラフX軸のデータ\n",
    "tlist = []                       # 実行時間のリスト．グラフのY軸のデータ\n",
    "print(label)\n",
    "\n",
    "for n in [5, 10, 20, 50, 100, 200, 500, 1000, 2000, 5000, 10000, 20000, 50000, 100000, 200000, 500000, 1000000]:\n",
    "  l = list(range(n))  # 0からn-1までのn要素のリストを作る\n",
    "  t = []\n",
    "  for i in range(5):\n",
    "    tsum = 0\n",
    "    random.shuffle(l)\n",
    "    for j in range(m):\n",
    "      t0 = time.time()\n",
    "      e = l.pop(0)\n",
    "      t1 = time.time()\n",
    "      tsum += t1 - t0\n",
    "      l.append(e)\n",
    "    t.append(tsum / m) #　追加したfor文の繰り返し回数で割ると平均時間になる\n",
    "  t.sort()\n",
    "  t = t[2] # 5回計測したうちの中間の値を計測時間とする．単位は秒\n",
    "  print(\"要素数: \", n, \"\\t時間(μs): \", t * 10**6)\n",
    "  nlist.append(n) # グラフ用に要素数を記録\n",
    "  tlist.append(t) # グラフ用に実行時間を記録．\n",
    "\n",
    "plot(label, nlist, tlist)\n",
    "measurements[label] = [nlist, tlist] # 3.5節で複数の計測結果をまとめたグラフを作るときのためにこの結果を覚えておく"
   ]
  },
  {
   "cell_type": "code",
   "execution_count": null,
   "metadata": {},
   "outputs": [],
   "source": [
    "label = 'list.insert(0)' # グラフ用のラベル\n",
    "nlist = []                       # 要素数のリスト．グラフX軸のデータ\n",
    "tlist = []                       # 実行時間のリスト．グラフのY軸のデータ\n",
    "print(label)\n",
    "\n",
    "for n in [5, 10, 20, 50, 100, 200, 500, 1000, 2000, 5000, 10000, 20000, 50000, 100000, 200000, 500000, 1000000]:\n",
    "  l = list(range(n))  # 0からn-1までのn要素のリストを作る\n",
    "  random.shuffle(l)\n",
    "  t = []\n",
    "  for i in range(5):\n",
    "    tsum = 0\n",
    "    random.shuffle(l)\n",
    "    for j in range(m):\n",
    "      e = l.pop()\n",
    "      t0 = time.time()\n",
    "      l.insert(0, e)\n",
    "      t1 = time.time()\n",
    "      tsum += t1 - t0\n",
    "    t.append(tsum / m) #　追加したfor文の繰り返し回数で割ると平均時間になる\n",
    "  t.sort()\n",
    "  t = t[2] # 5回計測したうちの中間の値を計測時間とする．単位は秒\n",
    "  print(\"要素数: \", n, \"\\t時間(μs): \", t * 10**6)\n",
    "  nlist.append(n) # グラフ用に要素数を記録\n",
    "  tlist.append(t) # グラフ用に実行時間を記録．\n",
    "\n",
    "plot(label, nlist, tlist)\n",
    "measurements[label] = [nlist, tlist] # 3.5節で複数の計測結果をまとめたグラフを作るときのためにこの結果を覚えておく"
   ]
  },
  {
   "cell_type": "code",
   "execution_count": null,
   "metadata": {},
   "outputs": [],
   "source": [
    "label = 'list.reverse()' # グラフ用のラベル\n",
    "nlist = []                       # 要素数のリスト．グラフX軸のデータ\n",
    "tlist = []                       # 実行時間のリスト．グラフのY軸のデータ\n",
    "print(label)\n",
    "\n",
    "for n in [5, 10, 20, 50, 100, 200, 500, 1000, 2000, 5000, 10000, 20000, 50000, 100000, 200000, 500000, 1000000]:\n",
    "  l = list(range(n))  # 0からn-1までのn要素のリストを作る\n",
    "  t = []\n",
    "  for i in range(5):\n",
    "    tsum = 0\n",
    "    random.shuffle(l)\n",
    "    for j in range(m):\n",
    "      t0 = time.time()\n",
    "      l.reverse()\n",
    "      t1 = time.time()\n",
    "      tsum += t1 - t0\n",
    "    t.append(tsum / m) #　追加したfor文の繰り返し回数で割ると平均時間になる\n",
    "  t.sort()\n",
    "  t = t[2] # 5回計測したうちの中間の値を計測時間とする．単位は秒\n",
    "  print(\"要素数: \", n, \"\\t時間(μs): \", t * 10**6)\n",
    "  nlist.append(n) # グラフ用に要素数を記録\n",
    "  tlist.append(t) # グラフ用に実行時間を記録．\n",
    "\n",
    "plot(label, nlist, tlist)\n",
    "measurements[label] = [nlist, tlist] # 3.5節で複数の計測結果をまとめたグラフを作るときのためにこの結果を覚えておく"
   ]
  },
  {
   "cell_type": "code",
   "execution_count": null,
   "metadata": {},
   "outputs": [],
   "source": [
    "label = 'shuffle(list)' # グラフ用のラベル\n",
    "nlist = []                       # 要素数のリスト．グラフX軸のデータ\n",
    "tlist = []                       # 実行時間のリスト．グラフのY軸のデータ\n",
    "print(label)\n",
    "\n",
    "for n in [5, 10, 20, 50, 100, 200, 500, 1000, 2000, 5000]: # , 10000, 20000, 50000, 100000, 200000, 500000, 1000000]:\n",
    "  l = list(range(n))  # 0からn-1までのn要素のリストを作る\n",
    "  k = len(l) // 2\n",
    "  t = []\n",
    "  for i in range(5):\n",
    "    tsum = 0\n",
    "    for j in range(m):\n",
    "      t0 = time.time()\n",
    "      random.shuffle(l)\n",
    "      t1 = time.time()\n",
    "      tsum += t1 - t0\n",
    "    t.append(tsum / m) #　追加したfor文の繰り返し回数で割ると平均時間になる\n",
    "  t.sort()\n",
    "  t = t[2] # 5回計測したうちの中間の値を計測時間とする．単位は秒\n",
    "  print(\"要素数: \", n, \"\\t時間(μs): \", t * 10**6)\n",
    "  nlist.append(n) # グラフ用に要素数を記録\n",
    "  tlist.append(t) # グラフ用に実行時間を記録．\n",
    "\n",
    "plot(label, nlist, tlist)\n",
    "measurements[label] = [nlist, tlist] # 3.5節で複数の計測結果をまとめたグラフを作るときのためにこの結果を覚えておく"
   ]
  },
  {
   "cell_type": "code",
   "execution_count": null,
   "metadata": {},
   "outputs": [],
   "source": [
    "label = 'list.sort()' # グラフ用のラベル\n",
    "nlist = []                       # 要素数のリスト．グラフX軸のデータ\n",
    "tlist = []                       # 実行時間のリスト．グラフのY軸のデータ\n",
    "print(label)\n",
    "\n",
    "for n in [5, 10, 20, 50, 100, 200, 500, 1000, 2000, 5000]: # , 10000, 20000, 50000, 100000, 200000, 500000, 1000000]:\n",
    "  l = list(range(n))  # 0からn-1までのn要素のリストを作る\n",
    "  k = len(l) // 2\n",
    "  t = []\n",
    "  for i in range(5):\n",
    "    tsum = 0\n",
    "    for j in range(m):\n",
    "      random.shuffle(l)\n",
    "      t0 = time.time()\n",
    "      l.sort()\n",
    "      t1 = time.time()\n",
    "      tsum += t1 - t0\n",
    "    t.append(tsum / m) #　追加したfor文の繰り返し回数で割ると平均時間になる\n",
    "  t.sort()\n",
    "  t = t[2] # 5回計測したうちの中間の値を計測時間とする．単位は秒\n",
    "  print(\"要素数: \", n, \"\\t時間(μs): \", t * 10**6)\n",
    "  nlist.append(n) # グラフ用に要素数を記録\n",
    "  tlist.append(t) # グラフ用に実行時間を記録．\n",
    "\n",
    "plot(label, nlist, tlist)\n",
    "measurements[label] = [nlist, tlist] # 3.5節で複数の計測結果をまとめたグラフを作るときのためにこの結果を覚えておく"
   ]
  },
  {
   "cell_type": "code",
   "execution_count": null,
   "metadata": {},
   "outputs": [],
   "source": [
    "plt.figure(figsize=[5, 4])       # グラフのサイズ．数値は横幅，高さの順．単位はインチ．1インチは2.54cm\n",
    "for label in ['list.pop()', 'list.append()',\n",
    "              'list.pop(mid)', 'list.insert(mid)',\n",
    "              'list.pop(0)', 'list.insert(0)', \n",
    "              'list.reverse()', \n",
    "              'list.sort()', 'shuffle(list)']:\n",
    "  x, y = measurements[label]\n",
    "  ymicro = [t * 10**6 for t in y] # yの各要素の単位を秒からマイクロ秒に変換する．1秒は10**6マイクロ秒\n",
    "  plt.plot(x, ymicro, marker='.', label=label)\n",
    "plt.xlabel('number of elements') # X軸ラベル 要素数（日本語は苦手）\n",
    "plt.ylabel('time [μ second]')   # Y軸ラベル 時間（マイクロ秒）\n",
    "plt.xscale('log')                # X軸を対数軸に\n",
    "plt.yscale('log')                # Y軸を対数軸に\n",
    "plt.legend(loc='upper left')     # 凡例\n",
    "plt.show()"
   ]
  },
  {
   "cell_type": "code",
   "execution_count": null,
   "metadata": {},
   "outputs": [],
   "source": []
  },
  {
   "cell_type": "code",
   "execution_count": null,
   "metadata": {},
   "outputs": [],
   "source": []
  },
  {
   "cell_type": "markdown",
   "metadata": {
    "id": "fAQ9L_IQJuwd"
   },
   "source": [
    "以上です．\n",
    "次週はダイクストラアルゴリズムで単一始点最短経路問題を解くプログラムを作成します．"
   ]
  }
 ],
 "metadata": {
  "colab": {
   "collapsed_sections": [
    "PubQ0tBIkVIQ"
   ],
   "provenance": []
  },
  "kernelspec": {
   "display_name": "Python 3 (ipykernel)",
   "language": "python",
   "name": "python3"
  },
  "language_info": {
   "codemirror_mode": {
    "name": "ipython",
    "version": 3
   },
   "file_extension": ".py",
   "mimetype": "text/x-python",
   "name": "python",
   "nbconvert_exporter": "python",
   "pygments_lexer": "ipython3",
   "version": "3.12.2"
  }
 },
 "nbformat": 4,
 "nbformat_minor": 4
}
